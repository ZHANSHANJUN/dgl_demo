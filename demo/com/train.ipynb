{
 "cells": [
  {
   "cell_type": "markdown",
   "id": "shaped-branch",
   "metadata": {},
   "source": [
    "- **x**:\n",
    "    节点特征，shape为(N_node,17)；\n",
    "- **y**:\n",
    "    节点共有(0,1,2,3)四类label，shape为(N_node,)，其中测试样本对应的label被标为-100；\n",
    "- **edge_index**:\n",
    "    有向边信息，shape为(N_edge,2)，其中每一行为(id_a, id_b)，代表用户id_a指向用户id_b的有向边；\n",
    "- **edge_type**:\n",
    "    边类型，shape为(N_edge,)；\n",
    "- **edge_timestamp**：\n",
    "    边连接日期，shape为(N_edge,)，其中边日期为从1开始的整数，单位为天；\n",
    "- **train_mask**：\n",
    "    包含训练样本id的一维array;\n",
    "- **test_mask**：\n",
    "    包含测试样本id的一维array;"
   ]
  },
  {
   "cell_type": "code",
   "execution_count": 1,
   "id": "boring-earthquake",
   "metadata": {},
   "outputs": [
    {
     "name": "stderr",
     "output_type": "stream",
     "text": [
      "Using backend: pytorch\n"
     ]
    }
   ],
   "source": [
    "import numpy as np\n",
    "import pandas as pd\n",
    "import torch as th\n",
    "import dgl\n",
    "import torch\n",
    "\n",
    "from collections import Counter"
   ]
  },
  {
   "cell_type": "code",
   "execution_count": 3,
   "id": "sudden-greenhouse",
   "metadata": {},
   "outputs": [],
   "source": [
    "def build_graph():\n",
    "    data = np.load('./phase1_gdata.npz')\n",
    "    print(list(data.keys()))\n",
    "    \n",
    "    node_feat = data['x']\n",
    "    node_label = data['y']\n",
    "    edge_pair = data['edge_index']\n",
    "    edge_type = data['edge_type']\n",
    "    edge_time = data['edge_timestamp']\n",
    "    \n",
    "    train_mask = data['train_mask']\n",
    "    test_mask = data['test_mask']\n",
    "    \n",
    "    g = dgl.graph(edge_pair.tolist())\n",
    "    g.ndata['feat'] = th.Tensor(node_feat)\n",
    "    g.ndata['label'] = th.Tensor(node_label)\n",
    "    g.edata['type'] = th.Tensor(edge_type)\n",
    "    g.edata['time'] = th.Tensor(edge_time)\n",
    "    print(g)\n",
    "    \n",
    "    return g, train_mask, test_mask\n",
    "\n",
    "# g, train_mask, test_mask = build_graph()"
   ]
  },
  {
   "cell_type": "code",
   "execution_count": 4,
   "id": "handled-hamburg",
   "metadata": {},
   "outputs": [
    {
     "name": "stdout",
     "output_type": "stream",
     "text": [
      "['x', 'y', 'edge_index', 'edge_type', 'edge_timestamp', 'train_mask', 'test_mask']\n",
      "Graph(num_nodes=4059035, num_edges=4962032,\n",
      "      ndata_schemes={'feat': Scheme(shape=(17,), dtype=torch.float32), 'label': Scheme(shape=(), dtype=torch.float32)}\n",
      "      edata_schemes={'type': Scheme(shape=(), dtype=torch.float32), 'time': Scheme(shape=(), dtype=torch.float32)})\n"
     ]
    }
   ],
   "source": [
    "g, train_mask, test_mask = build_graph()"
   ]
  },
  {
   "cell_type": "code",
   "execution_count": 2,
   "id": "numeric-bread",
   "metadata": {},
   "outputs": [
    {
     "data": {
      "text/plain": [
       "Graph(num_nodes=4059035, num_edges=4962032,\n",
       "      ndata_schemes={'feat': Scheme(shape=(17,), dtype=torch.float32), 'label': Scheme(shape=(), dtype=torch.float32)}\n",
       "      edata_schemes={'type': Scheme(shape=(), dtype=torch.float32), 'time': Scheme(shape=(), dtype=torch.float32)})"
      ]
     },
     "execution_count": 2,
     "metadata": {},
     "output_type": "execute_result"
    }
   ],
   "source": [
    "data = np.load('./phase1_gdata.npz')\n",
    "\n",
    "node_feat = data['x']\n",
    "node_label = data['y']\n",
    "edge_pair = data['edge_index']\n",
    "edge_type = data['edge_type']\n",
    "edge_time = data['edge_timestamp']\n",
    "\n",
    "train_mask = data['train_mask']\n",
    "test_mask = data['test_mask']\n",
    "\n",
    "g = dgl.graph(edge_pair.tolist())\n",
    "g.ndata['feat'] = th.Tensor(node_feat)\n",
    "g.ndata['label'] = th.Tensor(node_label)\n",
    "g.edata['type'] = th.Tensor(edge_type)\n",
    "g.edata['time'] = th.Tensor(edge_time)\n",
    "g"
   ]
  },
  {
   "cell_type": "code",
   "execution_count": 6,
   "id": "exact-tragedy",
   "metadata": {},
   "outputs": [],
   "source": [
    "class NeighborSampler(object):\n",
    "    def __init__(self, g, fanouts):\n",
    "        \"\"\"\n",
    "        g 为 DGLGraph；\n",
    "        fanouts 为采样节点的数量，实验使用 10,25，指一阶邻居采样 10 个，二阶邻居采样 25 个。\n",
    "        \"\"\"\n",
    "        self.g = g\n",
    "        self.fanouts = fanouts\n",
    "\n",
    "    def sample_blocks(self, seeds):\n",
    "        seeds = th.LongTensor(np.asarray(seeds))\n",
    "        blocks = []\n",
    "        for fanout in self.fanouts: \n",
    "            # sample_neighbors 可以对每一个种子的节点进行邻居采样并返回相应的子图\n",
    "            # replace=True 表示用采样后的邻居节点代替所有邻居节点\n",
    "            frontier = dgl.sampling.sample_neighbors(g, seeds, fanout, replace=True)\n",
    "            # 将图转变为可以用于消息传递的二部图（源节点和目的节点）\n",
    "            # 其中源节点的 id 也可能包含目的节点的 id（原因上面说了）\n",
    "            # 转变为二部图主要是为了方便进行消息传递\n",
    "            block = dgl.to_block(frontier, seeds)\n",
    "            # 获取新图的源节点作为种子节点，为下一层作准备\n",
    "            # 之所以是从 src 中获取种子节点，是因为采样操作相对于聚合操作来说是一个逆向操作\n",
    "            seeds = block.srcdata[dgl.NID]\n",
    "            # 把这一层放在最前面。\n",
    "            # PS：如果数据量大的话，插入操作是不是不太友好。\n",
    "            blocks.insert(0, block)\n",
    "        return blocks"
   ]
  },
  {
   "cell_type": "code",
   "execution_count": 3,
   "id": "occupational-punch",
   "metadata": {},
   "outputs": [
    {
     "data": {
      "text/plain": [
       "'_ID'"
      ]
     },
     "execution_count": 3,
     "metadata": {},
     "output_type": "execute_result"
    }
   ],
   "source": [
    "dgl.NID"
   ]
  },
  {
   "cell_type": "code",
   "execution_count": 3,
   "id": "agricultural-panama",
   "metadata": {},
   "outputs": [
    {
     "data": {
      "text/plain": [
       "Graph(num_nodes=4059035, num_edges=8,\n",
       "      ndata_schemes={'feat': Scheme(shape=(17,), dtype=torch.float32), 'label': Scheme(shape=(), dtype=torch.float32)}\n",
       "      edata_schemes={'type': Scheme(shape=(), dtype=torch.float32), 'time': Scheme(shape=(), dtype=torch.float32), '_ID': Scheme(shape=(), dtype=torch.int64)})"
      ]
     },
     "execution_count": 3,
     "metadata": {},
     "output_type": "execute_result"
    }
   ],
   "source": [
    "dgl.sampling.sample_neighbors(g, th.LongTensor([123, 456]), -1)"
   ]
  },
  {
   "cell_type": "code",
   "execution_count": 37,
   "id": "acute-uzbekistan",
   "metadata": {},
   "outputs": [
    {
     "data": {
      "text/plain": [
       "(tensor([2000594,  723071, 1139829, 1285271, 2657984, 2972752, 3337103, 3976413]),\n",
       " tensor([123, 456, 456, 456, 456, 456, 456, 456]))"
      ]
     },
     "execution_count": 37,
     "metadata": {},
     "output_type": "execute_result"
    }
   ],
   "source": [
    "dgl.sampling.sample_neighbors(g, th.LongTensor([123, 456]), 10).all_edges()"
   ]
  },
  {
   "cell_type": "code",
   "execution_count": 22,
   "id": "global-source",
   "metadata": {},
   "outputs": [],
   "source": [
    "frontier = dgl.sampling.sample_neighbors(g, th.LongTensor([123, 456]), 5, replace=True)\n",
    "block = dgl.to_block(frontier, [123, 456])"
   ]
  },
  {
   "cell_type": "code",
   "execution_count": 57,
   "id": "portable-picture",
   "metadata": {},
   "outputs": [
    {
     "data": {
      "text/plain": [
       "{'feat': tensor([[ 0.0000e+00,  2.0000e+00, -1.0000e+00, -1.0000e+00, -1.0000e+00,\n",
       "         -1.0000e+00, -1.0000e+00, -1.0000e+00, -1.0000e+00, -1.0000e+00,\n",
       "          0.0000e+00, -1.0000e+00, -1.0000e+00, -1.0000e+00, -1.0000e+00,\n",
       "         -1.0000e+00, -1.0000e+00],\n",
       "        [ 0.0000e+00,  2.0000e+00, -1.0000e+00, -1.0000e+00, -1.0000e+00,\n",
       "         -1.0000e+00, -1.0000e+00, -1.0000e+00, -1.0000e+00, -1.0000e+00,\n",
       "          0.0000e+00, -1.0000e+00, -1.0000e+00, -1.0000e+00, -1.0000e+00,\n",
       "         -1.0000e+00, -1.0000e+00],\n",
       "        [ 0.0000e+00,  1.0000e+00,  1.3100e+00,  1.0100e+00,  7.7099e-01,\n",
       "          6.0000e-01,  1.9320e+00,  4.6000e-02,  1.8550e+00,  9.6014e-01,\n",
       "          1.0000e+00,  2.2901e-01,  3.9855e-02,  2.9703e-02,  6.6667e-01,\n",
       "          3.8168e-03,  1.6667e-01],\n",
       "        [ 0.0000e+00,  4.0000e+00, -1.0000e+00, -1.0000e+00, -1.0000e+00,\n",
       "         -1.0000e+00, -1.0000e+00, -1.0000e+00, -1.0000e+00, -1.0000e+00,\n",
       "          0.0000e+00, -1.0000e+00, -1.0000e+00, -1.0000e+00, -1.0000e+00,\n",
       "         -1.0000e+00, -1.0000e+00],\n",
       "        [ 1.0000e+00,  2.0000e+00, -1.0000e+00, -1.0000e+00, -1.0000e+00,\n",
       "         -1.0000e+00, -1.0000e+00, -1.0000e+00, -1.0000e+00, -1.0000e+00,\n",
       "          0.0000e+00, -1.0000e+00, -1.0000e+00, -1.0000e+00, -1.0000e+00,\n",
       "         -1.0000e+00, -1.0000e+00],\n",
       "        [ 0.0000e+00,  5.0000e+00, -1.0000e+00, -1.0000e+00, -1.0000e+00,\n",
       "         -1.0000e+00, -1.0000e+00, -1.0000e+00, -1.0000e+00, -1.0000e+00,\n",
       "          0.0000e+00, -1.0000e+00, -1.0000e+00, -1.0000e+00, -1.0000e+00,\n",
       "         -1.0000e+00, -1.0000e+00],\n",
       "        [ 0.0000e+00,  3.0000e+00,  3.1200e+00,  2.8600e+00,  9.1667e-01,\n",
       "          3.5000e+00,  5.2210e+00,  2.9700e-01,  5.1570e+00,  9.8774e-01,\n",
       "          7.0000e+00,  8.3333e-02,  1.2258e-02,  6.1189e-02,  7.1429e-01,\n",
       "          1.1218e-02,  2.0000e-01]]), 'label': tensor([   2.,    2.,    2.,    2.,    0.,    2., -100.]), '_ID': tensor([    123,     456, 2000594, 3976413, 2972752, 3337103,  723071])}"
      ]
     },
     "execution_count": 57,
     "metadata": {},
     "output_type": "execute_result"
    }
   ],
   "source": [
    "block.srcdata"
   ]
  },
  {
   "cell_type": "code",
   "execution_count": 13,
   "id": "altered-hindu",
   "metadata": {},
   "outputs": [
    {
     "data": {
      "text/plain": [
       "{'type': tensor([ 3.,  5.,  1.,  ...,  9., 10., 11.]), 'time': tensor([567., 195., 399.,  ..., 578., 578., 578.])}"
      ]
     },
     "execution_count": 13,
     "metadata": {},
     "output_type": "execute_result"
    }
   ],
   "source": [
    "g.edata"
   ]
  },
  {
   "cell_type": "code",
   "execution_count": 48,
   "id": "democratic-color",
   "metadata": {},
   "outputs": [
    {
     "data": {
      "text/plain": [
       "{'type': tensor([ 6.,  6.,  6.,  6.,  6., 10., 10., 10., 10., 10.]), 'time': tensor([ 35.,  35.,  35.,  35.,  35., 566.,  77.,  77., 216.,  17.]), '_ID': tensor([2206500, 2206500, 2206500, 2206500, 2206500, 4916695, 3387160, 3387160,\n",
       "        3991564,  784824])}"
      ]
     },
     "execution_count": 48,
     "metadata": {},
     "output_type": "execute_result"
    }
   ],
   "source": [
    "frontier.edata"
   ]
  },
  {
   "cell_type": "code",
   "execution_count": 47,
   "id": "exclusive-finding",
   "metadata": {},
   "outputs": [
    {
     "data": {
      "text/plain": [
       "(tensor([      0,       1,       2,  ..., 4059032, 4059033, 4059034]),\n",
       " tensor([      0,       1,       2,  ..., 4059032, 4059033, 4059034]))"
      ]
     },
     "execution_count": 47,
     "metadata": {},
     "output_type": "execute_result"
    }
   ],
   "source": [
    "g.nodes(), frontier.nodes()"
   ]
  },
  {
   "cell_type": "code",
   "execution_count": 43,
   "id": "entire-spare",
   "metadata": {},
   "outputs": [
    {
     "data": {
      "text/plain": [
       "(tensor([      0,       1,       1,  ..., 4057114, 4057117, 4057120]),\n",
       " tensor([3151644,  124194, 3678931,  ..., 2180496, 3628100, 1592353]),\n",
       " tensor([      0,       1,       2,  ..., 4962029, 4962030, 4962031]))"
      ]
     },
     "execution_count": 43,
     "metadata": {},
     "output_type": "execute_result"
    }
   ],
   "source": [
    "g.edges(form='all')"
   ]
  },
  {
   "cell_type": "code",
   "execution_count": 49,
   "id": "expected-strategy",
   "metadata": {},
   "outputs": [
    {
     "data": {
      "text/plain": [
       "(tensor([2000594, 2000594, 2000594, 2000594, 2000594, 3976413, 2972752, 2972752,\n",
       "         3337103,  723071]),\n",
       " tensor([123, 123, 123, 123, 123, 456, 456, 456, 456, 456]),\n",
       " tensor([0, 1, 2, 3, 4, 5, 6, 7, 8, 9]))"
      ]
     },
     "execution_count": 49,
     "metadata": {},
     "output_type": "execute_result"
    }
   ],
   "source": [
    "frontier.edges(form='all')"
   ]
  },
  {
   "cell_type": "code",
   "execution_count": 21,
   "id": "exotic-purpose",
   "metadata": {},
   "outputs": [
    {
     "data": {
      "text/plain": [
       "10"
      ]
     },
     "execution_count": 21,
     "metadata": {},
     "output_type": "execute_result"
    }
   ],
   "source": [
    "frontier."
   ]
  },
  {
   "cell_type": "code",
   "execution_count": 32,
   "id": "measured-exchange",
   "metadata": {},
   "outputs": [
    {
     "data": {
      "text/plain": [
       "(tensor([2]), tensor([0]))"
      ]
     },
     "execution_count": 32,
     "metadata": {},
     "output_type": "execute_result"
    }
   ],
   "source": [
    "block.find_edges()"
   ]
  },
  {
   "cell_type": "code",
   "execution_count": 27,
   "id": "practical-orleans",
   "metadata": {},
   "outputs": [
    {
     "data": {
      "text/plain": [
       "tensor([0, 1])"
      ]
     },
     "execution_count": 27,
     "metadata": {},
     "output_type": "execute_result"
    }
   ],
   "source": [
    "block.dstnodes()"
   ]
  },
  {
   "cell_type": "code",
   "execution_count": 33,
   "id": "english-lambda",
   "metadata": {},
   "outputs": [
    {
     "data": {
      "text/plain": [
       "{'feat': tensor([[ 0.0000e+00,  2.0000e+00, -1.0000e+00, -1.0000e+00, -1.0000e+00,\n",
       "         -1.0000e+00, -1.0000e+00, -1.0000e+00, -1.0000e+00, -1.0000e+00,\n",
       "          0.0000e+00, -1.0000e+00, -1.0000e+00, -1.0000e+00, -1.0000e+00,\n",
       "         -1.0000e+00, -1.0000e+00],\n",
       "        [ 0.0000e+00,  2.0000e+00, -1.0000e+00, -1.0000e+00, -1.0000e+00,\n",
       "         -1.0000e+00, -1.0000e+00, -1.0000e+00, -1.0000e+00, -1.0000e+00,\n",
       "          0.0000e+00, -1.0000e+00, -1.0000e+00, -1.0000e+00, -1.0000e+00,\n",
       "         -1.0000e+00, -1.0000e+00],\n",
       "        [ 0.0000e+00,  1.0000e+00,  1.3100e+00,  1.0100e+00,  7.7099e-01,\n",
       "          6.0000e-01,  1.9320e+00,  4.6000e-02,  1.8550e+00,  9.6014e-01,\n",
       "          1.0000e+00,  2.2901e-01,  3.9855e-02,  2.9703e-02,  6.6667e-01,\n",
       "          3.8168e-03,  1.6667e-01],\n",
       "        [ 0.0000e+00,  4.0000e+00, -1.0000e+00, -1.0000e+00, -1.0000e+00,\n",
       "         -1.0000e+00, -1.0000e+00, -1.0000e+00, -1.0000e+00, -1.0000e+00,\n",
       "          0.0000e+00, -1.0000e+00, -1.0000e+00, -1.0000e+00, -1.0000e+00,\n",
       "         -1.0000e+00, -1.0000e+00],\n",
       "        [ 1.0000e+00,  2.0000e+00, -1.0000e+00, -1.0000e+00, -1.0000e+00,\n",
       "         -1.0000e+00, -1.0000e+00, -1.0000e+00, -1.0000e+00, -1.0000e+00,\n",
       "          0.0000e+00, -1.0000e+00, -1.0000e+00, -1.0000e+00, -1.0000e+00,\n",
       "         -1.0000e+00, -1.0000e+00],\n",
       "        [ 0.0000e+00,  5.0000e+00, -1.0000e+00, -1.0000e+00, -1.0000e+00,\n",
       "         -1.0000e+00, -1.0000e+00, -1.0000e+00, -1.0000e+00, -1.0000e+00,\n",
       "          0.0000e+00, -1.0000e+00, -1.0000e+00, -1.0000e+00, -1.0000e+00,\n",
       "         -1.0000e+00, -1.0000e+00],\n",
       "        [ 0.0000e+00,  3.0000e+00,  3.1200e+00,  2.8600e+00,  9.1667e-01,\n",
       "          3.5000e+00,  5.2210e+00,  2.9700e-01,  5.1570e+00,  9.8774e-01,\n",
       "          7.0000e+00,  8.3333e-02,  1.2258e-02,  6.1189e-02,  7.1429e-01,\n",
       "          1.1218e-02,  2.0000e-01]]), 'label': tensor([   2.,    2.,    2.,    2.,    0.,    2., -100.]), '_ID': tensor([    123,     456, 2000594, 3976413, 2972752, 3337103,  723071])}"
      ]
     },
     "execution_count": 33,
     "metadata": {},
     "output_type": "execute_result"
    }
   ],
   "source": [
    "block.srcdata"
   ]
  },
  {
   "cell_type": "code",
   "execution_count": 12,
   "id": "incredible-click",
   "metadata": {},
   "outputs": [
    {
     "data": {
      "text/plain": [
       "{'type': tensor([ 6.,  6.,  6.,  6.,  6., 10., 10., 10., 10., 10.]), 'time': tensor([ 35.,  35.,  35.,  35.,  35., 260.,  17.,  17.,  77., 216.]), '_ID': tensor([2206500, 2206500, 2206500, 2206500, 2206500, 1241333,  784824,  784824,\n",
       "        3387160, 3991564])}"
      ]
     },
     "execution_count": 12,
     "metadata": {},
     "output_type": "execute_result"
    }
   ],
   "source": [
    "frontier.edata"
   ]
  },
  {
   "cell_type": "code",
   "execution_count": 5,
   "id": "verbal-diversity",
   "metadata": {},
   "outputs": [
    {
     "data": {
      "text/plain": [
       "{'feat': tensor([[ 0.0000,  2.0000, -1.0000,  ..., -1.0000, -1.0000, -1.0000],\n",
       "        [ 0.0000,  2.0000,  0.6800,  ...,  0.8571,  0.0074,  0.1429],\n",
       "        [ 0.0000,  2.0000, -1.0000,  ..., -1.0000, -1.0000, -1.0000],\n",
       "        ...,\n",
       "        [-1.0000, -1.0000, -1.0000,  ..., -1.0000, -1.0000, -1.0000],\n",
       "        [-1.0000, -1.0000, -1.0000,  ..., -1.0000, -1.0000, -1.0000],\n",
       "        [-1.0000, -1.0000, -1.0000,  ..., -1.0000, -1.0000, -1.0000]]), 'label': tensor([2., 0., 2.,  ..., 2., 2., 2.])}"
      ]
     },
     "execution_count": 5,
     "metadata": {},
     "output_type": "execute_result"
    }
   ],
   "source": [
    "frontier.srcdata"
   ]
  },
  {
   "cell_type": "code",
   "execution_count": 16,
   "id": "common-quarterly",
   "metadata": {},
   "outputs": [
    {
     "data": {
      "text/plain": [
       "(tensor([2000594, 2000594, 2000594, 2000594, 2000594, 1139829, 1139829, 2657984,\n",
       "         2972752, 2972752]),\n",
       " tensor([123, 123, 123, 123, 123, 456, 456, 456, 456, 456]))"
      ]
     },
     "execution_count": 16,
     "metadata": {},
     "output_type": "execute_result"
    }
   ],
   "source": [
    "frontier.all_edges()"
   ]
  },
  {
   "cell_type": "code",
   "execution_count": 10,
   "id": "intended-substitute",
   "metadata": {},
   "outputs": [],
   "source": [
    "block = dgl.to_block(frontier, [123, 456])"
   ]
  },
  {
   "cell_type": "code",
   "execution_count": null,
   "id": "earlier-cleaners",
   "metadata": {},
   "outputs": [],
   "source": []
  },
  {
   "cell_type": "code",
   "execution_count": 14,
   "id": "brown-thursday",
   "metadata": {},
   "outputs": [
    {
     "data": {
      "text/plain": [
       "tensor([    123,     456, 2000594, 1139829, 2657984, 2972752])"
      ]
     },
     "execution_count": 14,
     "metadata": {},
     "output_type": "execute_result"
    }
   ],
   "source": [
    "block.srcdata['_ID']"
   ]
  },
  {
   "cell_type": "code",
   "execution_count": null,
   "id": "hybrid-cliff",
   "metadata": {},
   "outputs": [],
   "source": []
  },
  {
   "cell_type": "code",
   "execution_count": 4,
   "id": "congressional-graduate",
   "metadata": {},
   "outputs": [
    {
     "ename": "NameError",
     "evalue": "name 'NeighborSampler' is not defined",
     "output_type": "error",
     "traceback": [
      "\u001b[0;31m---------------------------------------------------------------------------\u001b[0m",
      "\u001b[0;31mNameError\u001b[0m                                 Traceback (most recent call last)",
      "\u001b[0;32m<ipython-input-4-ce3052696e0f>\u001b[0m in \u001b[0;36m<module>\u001b[0;34m\u001b[0m\n\u001b[0;32m----> 1\u001b[0;31m \u001b[0msampler\u001b[0m \u001b[0;34m=\u001b[0m \u001b[0mNeighborSampler\u001b[0m\u001b[0;34m(\u001b[0m\u001b[0mg\u001b[0m\u001b[0;34m,\u001b[0m \u001b[0;34m[\u001b[0m\u001b[0;36m5\u001b[0m\u001b[0;34m,\u001b[0m \u001b[0;36m5\u001b[0m\u001b[0;34m]\u001b[0m\u001b[0;34m)\u001b[0m\u001b[0;34m\u001b[0m\u001b[0;34m\u001b[0m\u001b[0m\n\u001b[0m",
      "\u001b[0;31mNameError\u001b[0m: name 'NeighborSampler' is not defined"
     ]
    }
   ],
   "source": [
    "sampler = NeighborSampler(g, [5, 5])"
   ]
  },
  {
   "cell_type": "code",
   "execution_count": 5,
   "id": "floppy-locking",
   "metadata": {},
   "outputs": [
    {
     "ename": "NameError",
     "evalue": "name 'sampler' is not defined",
     "output_type": "error",
     "traceback": [
      "\u001b[0;31m---------------------------------------------------------------------------\u001b[0m",
      "\u001b[0;31mNameError\u001b[0m                                 Traceback (most recent call last)",
      "\u001b[0;32m<ipython-input-5-1f8f6b38f697>\u001b[0m in \u001b[0;36m<module>\u001b[0;34m\u001b[0m\n\u001b[0;32m----> 1\u001b[0;31m \u001b[0msampler\u001b[0m\u001b[0;34m.\u001b[0m\u001b[0msample_blocks\u001b[0m\u001b[0;34m(\u001b[0m\u001b[0;34m[\u001b[0m\u001b[0;36m0\u001b[0m\u001b[0;34m,\u001b[0m \u001b[0;36m1\u001b[0m\u001b[0;34m,\u001b[0m \u001b[0;36m2\u001b[0m\u001b[0;34m,\u001b[0m \u001b[0;36m3\u001b[0m\u001b[0;34m]\u001b[0m\u001b[0;34m)\u001b[0m\u001b[0;34m\u001b[0m\u001b[0;34m\u001b[0m\u001b[0m\n\u001b[0m",
      "\u001b[0;31mNameError\u001b[0m: name 'sampler' is not defined"
     ]
    }
   ],
   "source": [
    "sampler.sample_blocks([0, 1, 2, 3])"
   ]
  },
  {
   "cell_type": "code",
   "execution_count": 58,
   "id": "running-bishop",
   "metadata": {},
   "outputs": [],
   "source": [
    "import torch.utils.data"
   ]
  },
  {
   "cell_type": "code",
   "execution_count": 59,
   "id": "civic-liverpool",
   "metadata": {},
   "outputs": [
    {
     "data": {
      "text/plain": [
       "<numpy.lib.npyio.NpzFile at 0x7fd9eca99450>"
      ]
     },
     "execution_count": 59,
     "metadata": {},
     "output_type": "execute_result"
    }
   ],
   "source": [
    "torch.utils.data.DataLoader()"
   ]
  },
  {
   "cell_type": "code",
   "execution_count": 11,
   "id": "elementary-marketing",
   "metadata": {},
   "outputs": [
    {
     "data": {
      "text/plain": [
       "Graph(num_nodes=4, num_edges=2,\n",
       "      ndata_schemes={}\n",
       "      edata_schemes={})"
      ]
     },
     "execution_count": 11,
     "metadata": {},
     "output_type": "execute_result"
    }
   ],
   "source": [
    "g = dgl.graph(([1, 2], [2, 3]))\n",
    "g"
   ]
  },
  {
   "cell_type": "code",
   "execution_count": 12,
   "id": "encouraging-cattle",
   "metadata": {},
   "outputs": [],
   "source": [
    "block = dgl.to_block(g, torch.LongTensor([3, 2]))"
   ]
  },
  {
   "cell_type": "code",
   "execution_count": 13,
   "id": "adopted-paper",
   "metadata": {},
   "outputs": [
    {
     "data": {
      "text/plain": [
       "{'_ID': tensor([3, 2])}"
      ]
     },
     "execution_count": 13,
     "metadata": {},
     "output_type": "execute_result"
    }
   ],
   "source": [
    "block.dstdata"
   ]
  },
  {
   "cell_type": "code",
   "execution_count": 14,
   "id": "polish-zimbabwe",
   "metadata": {},
   "outputs": [
    {
     "data": {
      "text/plain": [
       "{'_ID': tensor([3, 2, 1])}"
      ]
     },
     "execution_count": 14,
     "metadata": {},
     "output_type": "execute_result"
    }
   ],
   "source": [
    "block.srcdata"
   ]
  },
  {
   "cell_type": "code",
   "execution_count": 19,
   "id": "average-country",
   "metadata": {},
   "outputs": [
    {
     "data": {
      "text/plain": [
       "(tensor([2, 1]), tensor([1, 0]))"
      ]
     },
     "execution_count": 19,
     "metadata": {},
     "output_type": "execute_result"
    }
   ],
   "source": [
    "block.edges()"
   ]
  },
  {
   "cell_type": "code",
   "execution_count": 15,
   "id": "latter-enemy",
   "metadata": {},
   "outputs": [
    {
     "data": {
      "text/plain": [
       "{'_ID': tensor([0, 1])}"
      ]
     },
     "execution_count": 15,
     "metadata": {},
     "output_type": "execute_result"
    }
   ],
   "source": [
    "block.edata"
   ]
  },
  {
   "cell_type": "code",
   "execution_count": 9,
   "id": "developmental-benchmark",
   "metadata": {},
   "outputs": [
    {
     "data": {
      "text/plain": [
       "'_ID'"
      ]
     },
     "execution_count": 9,
     "metadata": {},
     "output_type": "execute_result"
    }
   ],
   "source": [
    "dgl.EID"
   ]
  },
  {
   "cell_type": "code",
   "execution_count": 10,
   "id": "miniature-increase",
   "metadata": {},
   "outputs": [
    {
     "data": {
      "text/plain": [
       "(tensor([2, 1]), tensor([1, 0]))"
      ]
     },
     "execution_count": 10,
     "metadata": {},
     "output_type": "execute_result"
    }
   ],
   "source": [
    "block.edges(order='eid')"
   ]
  },
  {
   "cell_type": "code",
   "execution_count": 3,
   "id": "fitted-chile",
   "metadata": {},
   "outputs": [
    {
     "data": {
      "text/plain": [
       "Graph(num_nodes=4059035, num_edges=4962032,\n",
       "      ndata_schemes={'feat': Scheme(shape=(17,), dtype=torch.float32), 'label': Scheme(shape=(), dtype=torch.float32)}\n",
       "      edata_schemes={'type': Scheme(shape=(), dtype=torch.float32), 'time': Scheme(shape=(), dtype=torch.float32)})"
      ]
     },
     "execution_count": 3,
     "metadata": {},
     "output_type": "execute_result"
    }
   ],
   "source": [
    "g"
   ]
  },
  {
   "cell_type": "code",
   "execution_count": 4,
   "id": "congressional-consultation",
   "metadata": {},
   "outputs": [
    {
     "data": {
      "text/plain": [
       "1.222465930941714"
      ]
     },
     "execution_count": 4,
     "metadata": {},
     "output_type": "execute_result"
    }
   ],
   "source": [
    "4962032/4059035"
   ]
  },
  {
   "cell_type": "code",
   "execution_count": null,
   "id": "facial-novel",
   "metadata": {},
   "outputs": [],
   "source": []
  }
 ],
 "metadata": {
  "kernelspec": {
   "display_name": "Python 3",
   "language": "python",
   "name": "python3"
  },
  "language_info": {
   "codemirror_mode": {
    "name": "ipython",
    "version": 3
   },
   "file_extension": ".py",
   "mimetype": "text/x-python",
   "name": "python",
   "nbconvert_exporter": "python",
   "pygments_lexer": "ipython3",
   "version": "3.7.7"
  }
 },
 "nbformat": 4,
 "nbformat_minor": 5
}
