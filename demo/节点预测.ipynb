{
 "cells": [
  {
   "cell_type": "code",
   "execution_count": 3,
   "id": "imperial-minority",
   "metadata": {},
   "outputs": [
    {
     "name": "stderr",
     "output_type": "stream",
     "text": [
      "Using backend: pytorch\n"
     ]
    }
   ],
   "source": [
    "import dgl\n",
    "import torch\n",
    "import torch.nn as nn\n",
    "import torch.nn.functional as F"
   ]
  },
  {
   "cell_type": "code",
   "execution_count": 4,
   "id": "detected-sheep",
   "metadata": {},
   "outputs": [
    {
     "name": "stdout",
     "output_type": "stream",
     "text": [
      "  NumNodes: 2708\n",
      "  NumEdges: 10556\n",
      "  NumFeats: 1433\n",
      "  NumClasses: 7\n",
      "  NumTrainingSamples: 140\n",
      "  NumValidationSamples: 500\n",
      "  NumTestSamples: 1000\n",
      "Done loading data from cached files.\n"
     ]
    }
   ],
   "source": [
    "dataset = dgl.data.CoraGraphDataset()\n",
    "g = dataset[0]"
   ]
  },
  {
   "cell_type": "code",
   "execution_count": 3,
   "id": "rapid-minneapolis",
   "metadata": {
    "scrolled": true
   },
   "outputs": [
    {
     "data": {
      "text/plain": [
       "{}"
      ]
     },
     "execution_count": 3,
     "metadata": {},
     "output_type": "execute_result"
    }
   ],
   "source": [
    "g.edata"
   ]
  },
  {
   "cell_type": "code",
   "execution_count": 8,
   "id": "backed-caution",
   "metadata": {},
   "outputs": [],
   "source": [
    "from dgl.nn import GraphConv"
   ]
  },
  {
   "cell_type": "code",
   "execution_count": 9,
   "id": "leading-amount",
   "metadata": {},
   "outputs": [],
   "source": [
    "class GCN(nn.Module):\n",
    "    def __init__(self, in_feats, h_feats, num_classes):\n",
    "        super(GCN, self).__init__()\n",
    "        \n",
    "        self.conv1 = GraphConv(in_feats, h_feats)\n",
    "        self.conv2 = GraphConv(h_feats, num_classes)\n",
    "        \n",
    "    def forward(self, g, in_feat):\n",
    "        h = self.conv1(g, in_feat)\n",
    "        h = F.relu(h)\n",
    "        h = self.conv2(g, h)\n",
    "        return h\n",
    "    \n",
    "model = GCN(g.ndata['feat'].shape[1], 16, dataset.num_classes)"
   ]
  },
  {
   "cell_type": "code",
   "execution_count": 10,
   "id": "national-clause",
   "metadata": {},
   "outputs": [],
   "source": [
    "labels = g.ndata['label']"
   ]
  },
  {
   "cell_type": "code",
   "execution_count": 11,
   "id": "external-serve",
   "metadata": {},
   "outputs": [
    {
     "data": {
      "text/plain": [
       "tensor([3, 4, 4,  ..., 3, 3, 3])"
      ]
     },
     "execution_count": 11,
     "metadata": {},
     "output_type": "execute_result"
    }
   ],
   "source": [
    "labels"
   ]
  },
  {
   "cell_type": "code",
   "execution_count": 12,
   "id": "double-semiconductor",
   "metadata": {},
   "outputs": [
    {
     "name": "stdout",
     "output_type": "stream",
     "text": [
      "In epoch 0, loss: 1.945, val acc: 0.094 (best 0.094), test acc: 0.127 (best 0.127)\n"
     ]
    }
   ],
   "source": [
    "optimizer = torch.optim.Adam(model.parameters(), lr=0.01)\n",
    "\n",
    "best_val_acc = 0\n",
    "best_test_acc = 0\n",
    "\n",
    "features = g.ndata['feat']\n",
    "labels = g.ndata['label']\n",
    "\n",
    "train_mask = g.ndata['train_mask']\n",
    "val_mask = g.ndata['val_mask']\n",
    "test_mask = g.ndata['test_mask']\n",
    "\n",
    "for e in range(1):\n",
    "    logits = model(g, features)\n",
    "\n",
    "    pred = logits.argmax(1)\n",
    "\n",
    "    loss = F.cross_entropy(logits[train_mask], labels[train_mask])\n",
    "\n",
    "    train_acc = (pred[train_mask]==labels[train_mask]).float().mean()\n",
    "    val_acc = (pred[val_mask]==labels[val_mask]).float().mean()\n",
    "    test_acc = (pred[test_mask]==labels[test_mask]).float().mean()\n",
    "\n",
    "    if best_val_acc < val_acc:\n",
    "        best_val_acc = val_acc\n",
    "\n",
    "    if best_test_acc < test_acc:\n",
    "        best_test_acc = test_acc\n",
    "\n",
    "\n",
    "    optimizer.zero_grad()\n",
    "    loss.backward()\n",
    "    optimizer.step()\n",
    "\n",
    "    if e % 5 == 0:\n",
    "        print('In epoch {}, loss: {:.3f}, val acc: {:.3f} (best {:.3f}), test acc: {:.3f} (best {:.3f})'.format(\n",
    "            e, loss, val_acc, best_val_acc, test_acc, best_test_acc))\n"
   ]
  },
  {
   "cell_type": "code",
   "execution_count": 18,
   "id": "bottom-mason",
   "metadata": {},
   "outputs": [
    {
     "data": {
      "text/plain": [
       "tensor([3, 4, 4, 0, 3, 2, 0, 3, 3, 2, 0, 0, 4, 3, 3, 3, 2, 3, 1, 3, 5, 3, 4, 6,\n",
       "        3, 3, 6, 3, 2, 4, 3, 6, 0, 4, 2, 0, 1, 5, 4, 4, 3, 6, 6, 4, 3, 3, 2, 5,\n",
       "        3, 4, 5, 3, 0, 2, 1, 4, 6, 3, 2, 2, 0, 0, 0, 4, 2, 0, 4, 5, 2, 6, 5, 2,\n",
       "        2, 2, 0, 4, 5, 6, 4, 0, 0, 0, 4, 2, 4, 1, 4, 6, 0, 4, 2, 4, 6, 6, 0, 0,\n",
       "        6, 5, 0, 6, 0, 2, 1, 1, 1, 2, 6, 5, 6, 1, 2, 2, 1, 5, 5, 5, 6, 5, 6, 5,\n",
       "        5, 1, 6, 6, 1, 5, 1, 6, 5, 5, 5, 1, 5, 1, 1, 1, 1, 1, 1, 1])"
      ]
     },
     "execution_count": 18,
     "metadata": {},
     "output_type": "execute_result"
    }
   ],
   "source": [
    "labels[train_mask]"
   ]
  },
  {
   "cell_type": "code",
   "execution_count": 19,
   "id": "modified-register",
   "metadata": {},
   "outputs": [
    {
     "data": {
      "text/plain": [
       "tensor([-0.6872, -0.3376, -0.9671,  5.0462, -0.0324,  0.0244, -1.9166],\n",
       "       grad_fn=<SelectBackward>)"
      ]
     },
     "execution_count": 19,
     "metadata": {},
     "output_type": "execute_result"
    }
   ],
   "source": [
    "logits[train_mask][0]"
   ]
  },
  {
   "cell_type": "code",
   "execution_count": 21,
   "id": "dense-trailer",
   "metadata": {},
   "outputs": [
    {
     "data": {
      "text/plain": [
       "tensor([3, 4, 4, 0, 3, 2, 0, 3, 3, 2, 0, 0, 4, 3, 3, 3, 2, 3, 1, 3, 5, 3, 4, 6,\n",
       "        3, 3, 6, 3, 2, 4, 3, 6, 0, 4, 2, 0, 1, 5, 4, 4, 3, 6, 6, 4, 3, 3, 2, 5,\n",
       "        3, 4, 5, 3, 0, 2, 1, 4, 6, 3, 2, 2, 0, 0, 0, 4, 2, 0, 4, 5, 2, 6, 5, 2,\n",
       "        2, 2, 0, 4, 5, 6, 4, 0, 0, 0, 4, 2, 4, 1, 4, 6, 0, 4, 2, 4, 6, 6, 0, 0,\n",
       "        6, 5, 0, 6, 0, 2, 1, 1, 1, 2, 6, 5, 6, 1, 2, 2, 1, 5, 5, 5, 6, 5, 6, 5,\n",
       "        5, 1, 6, 6, 1, 5, 1, 6, 5, 5, 5, 1, 5, 1, 1, 1, 1, 1, 1, 1])"
      ]
     },
     "execution_count": 21,
     "metadata": {},
     "output_type": "execute_result"
    }
   ],
   "source": [
    "labels[train_mask]"
   ]
  },
  {
   "cell_type": "code",
   "execution_count": 16,
   "id": "intensive-reservation",
   "metadata": {},
   "outputs": [
    {
     "data": {
      "text/plain": [
       "tensor(0.0911, grad_fn=<NllLossBackward>)"
      ]
     },
     "execution_count": 16,
     "metadata": {},
     "output_type": "execute_result"
    }
   ],
   "source": [
    "loss"
   ]
  },
  {
   "cell_type": "code",
   "execution_count": 25,
   "id": "numerous-shuttle",
   "metadata": {},
   "outputs": [
    {
     "data": {
      "text/plain": [
       "2708"
      ]
     },
     "execution_count": 25,
     "metadata": {},
     "output_type": "execute_result"
    }
   ],
   "source": [
    "len(train_mask)"
   ]
  },
  {
   "cell_type": "code",
   "execution_count": 13,
   "id": "commercial-hardwood",
   "metadata": {
    "collapsed": true
   },
   "outputs": [
    {
     "name": "stdout",
     "output_type": "stream",
     "text": [
      "In epoch 0, loss: 1.947, val acc: 0.094 (best 0.094), test acc: 0.103 (best 0.103)\n",
      "In epoch 5, loss: 1.892, val acc: 0.604 (best 0.604), test acc: 0.640 (best 0.640)\n",
      "In epoch 10, loss: 1.808, val acc: 0.600 (best 0.612), test acc: 0.634 (best 0.641)\n",
      "In epoch 15, loss: 1.698, val acc: 0.620 (best 0.620), test acc: 0.649 (best 0.649)\n",
      "In epoch 20, loss: 1.564, val acc: 0.672 (best 0.672), test acc: 0.698 (best 0.698)\n",
      "In epoch 25, loss: 1.411, val acc: 0.724 (best 0.724), test acc: 0.741 (best 0.741)\n",
      "In epoch 30, loss: 1.242, val acc: 0.724 (best 0.726), test acc: 0.738 (best 0.741)\n",
      "In epoch 35, loss: 1.069, val acc: 0.734 (best 0.734), test acc: 0.754 (best 0.754)\n",
      "In epoch 40, loss: 0.899, val acc: 0.748 (best 0.748), test acc: 0.760 (best 0.760)\n",
      "In epoch 45, loss: 0.743, val acc: 0.752 (best 0.752), test acc: 0.770 (best 0.770)\n",
      "In epoch 50, loss: 0.607, val acc: 0.760 (best 0.760), test acc: 0.776 (best 0.776)\n",
      "In epoch 55, loss: 0.492, val acc: 0.764 (best 0.764), test acc: 0.780 (best 0.780)\n",
      "In epoch 60, loss: 0.397, val acc: 0.764 (best 0.766), test acc: 0.787 (best 0.787)\n",
      "In epoch 65, loss: 0.322, val acc: 0.768 (best 0.768), test acc: 0.786 (best 0.789)\n",
      "In epoch 70, loss: 0.262, val acc: 0.768 (best 0.768), test acc: 0.788 (best 0.789)\n",
      "In epoch 75, loss: 0.215, val acc: 0.770 (best 0.770), test acc: 0.785 (best 0.789)\n",
      "In epoch 80, loss: 0.177, val acc: 0.772 (best 0.772), test acc: 0.785 (best 0.789)\n",
      "In epoch 85, loss: 0.148, val acc: 0.776 (best 0.776), test acc: 0.787 (best 0.789)\n",
      "In epoch 90, loss: 0.125, val acc: 0.780 (best 0.780), test acc: 0.788 (best 0.789)\n",
      "In epoch 95, loss: 0.106, val acc: 0.786 (best 0.786), test acc: 0.787 (best 0.789)\n"
     ]
    }
   ],
   "source": [
    "train(g, model)\n"
   ]
  },
  {
   "cell_type": "code",
   "execution_count": 14,
   "id": "charged-cleanup",
   "metadata": {},
   "outputs": [
    {
     "ename": "NameError",
     "evalue": "name 'logits' is not defined",
     "output_type": "error",
     "traceback": [
      "\u001b[0;31m---------------------------------------------------------------------------\u001b[0m",
      "\u001b[0;31mNameError\u001b[0m                                 Traceback (most recent call last)",
      "\u001b[0;32m<ipython-input-14-b24466ac8a73>\u001b[0m in \u001b[0;36m<module>\u001b[0;34m\u001b[0m\n\u001b[0;32m----> 1\u001b[0;31m \u001b[0mF\u001b[0m\u001b[0;34m.\u001b[0m\u001b[0mcross_entropy\u001b[0m\u001b[0;34m(\u001b[0m\u001b[0mlogits\u001b[0m\u001b[0;34m[\u001b[0m\u001b[0mtrain_mask\u001b[0m\u001b[0;34m]\u001b[0m\u001b[0;34m,\u001b[0m \u001b[0mlabels\u001b[0m\u001b[0;34m[\u001b[0m\u001b[0mtrain_mask\u001b[0m\u001b[0;34m]\u001b[0m\u001b[0;34m)\u001b[0m\u001b[0;34m\u001b[0m\u001b[0;34m\u001b[0m\u001b[0m\n\u001b[0m",
      "\u001b[0;31mNameError\u001b[0m: name 'logits' is not defined"
     ]
    }
   ],
   "source": [
    "F.cross_entropy(logits[train_mask], labels[train_mask])"
   ]
  },
  {
   "cell_type": "code",
   "execution_count": 26,
   "id": "metallic-combine",
   "metadata": {},
   "outputs": [
    {
     "data": {
      "text/plain": [
       "GCN(\n",
       "  (conv1): GraphConv(in=1433, out=16, normalization=both, activation=None)\n",
       "  (conv2): GraphConv(in=16, out=7, normalization=both, activation=None)\n",
       ")"
      ]
     },
     "execution_count": 26,
     "metadata": {},
     "output_type": "execute_result"
    }
   ],
   "source": [
    "model"
   ]
  },
  {
   "cell_type": "code",
   "execution_count": 30,
   "id": "loaded-dominant",
   "metadata": {},
   "outputs": [
    {
     "data": {
      "text/plain": [
       "torch.Size([2708, 7])"
      ]
     },
     "execution_count": 30,
     "metadata": {},
     "output_type": "execute_result"
    }
   ],
   "source": [
    "logits.shape"
   ]
  },
  {
   "cell_type": "code",
   "execution_count": 31,
   "id": "advance-logging",
   "metadata": {},
   "outputs": [
    {
     "data": {
      "text/plain": [
       "(tensor(140), tensor(500))"
      ]
     },
     "execution_count": 31,
     "metadata": {},
     "output_type": "execute_result"
    }
   ],
   "source": [
    "sum(train_mask), sum(val_mask)"
   ]
  },
  {
   "cell_type": "code",
   "execution_count": 32,
   "id": "familiar-electricity",
   "metadata": {},
   "outputs": [
    {
     "data": {
      "text/plain": [
       "tensor(1000)"
      ]
     },
     "execution_count": 32,
     "metadata": {},
     "output_type": "execute_result"
    }
   ],
   "source": [
    "sum(test_mask)"
   ]
  },
  {
   "cell_type": "code",
   "execution_count": 33,
   "id": "rural-fishing",
   "metadata": {},
   "outputs": [
    {
     "data": {
      "text/plain": [
       "2708"
      ]
     },
     "execution_count": 33,
     "metadata": {},
     "output_type": "execute_result"
    }
   ],
   "source": [
    "len(test_mask)"
   ]
  },
  {
   "cell_type": "code",
   "execution_count": 36,
   "id": "committed-mining",
   "metadata": {},
   "outputs": [
    {
     "data": {
      "text/plain": [
       "(tensor([   0,    0,    0,  ..., 2707, 2707, 2707]),\n",
       " tensor([ 633, 1862, 2582,  ...,  598, 1473, 2706]),\n",
       " tensor([    0,     1,     2,  ..., 10553, 10554, 10555]))"
      ]
     },
     "execution_count": 36,
     "metadata": {},
     "output_type": "execute_result"
    }
   ],
   "source": [
    "g.edges(form='all')"
   ]
  },
  {
   "cell_type": "code",
   "execution_count": 37,
   "id": "convinced-crime",
   "metadata": {},
   "outputs": [
    {
     "data": {
      "text/plain": [
       "tensor([   0,    1,    2,  ..., 2705, 2706, 2707])"
      ]
     },
     "execution_count": 37,
     "metadata": {},
     "output_type": "execute_result"
    }
   ],
   "source": [
    "g.nodes()"
   ]
  },
  {
   "cell_type": "code",
   "execution_count": 4,
   "id": "acute-caribbean",
   "metadata": {},
   "outputs": [],
   "source": [
    "train_mask = g.ndata['train_mask']"
   ]
  },
  {
   "cell_type": "code",
   "execution_count": 5,
   "id": "forty-vertex",
   "metadata": {},
   "outputs": [
    {
     "data": {
      "text/plain": [
       "tensor([ True,  True,  True,  ..., False, False, False])"
      ]
     },
     "execution_count": 5,
     "metadata": {},
     "output_type": "execute_result"
    }
   ],
   "source": [
    "train_mask"
   ]
  },
  {
   "cell_type": "code",
   "execution_count": null,
   "id": "cross-moisture",
   "metadata": {},
   "outputs": [],
   "source": []
  }
 ],
 "metadata": {
  "kernelspec": {
   "display_name": "Python 3",
   "language": "python",
   "name": "python3"
  },
  "language_info": {
   "codemirror_mode": {
    "name": "ipython",
    "version": 3
   },
   "file_extension": ".py",
   "mimetype": "text/x-python",
   "name": "python",
   "nbconvert_exporter": "python",
   "pygments_lexer": "ipython3",
   "version": "3.7.7"
  }
 },
 "nbformat": 4,
 "nbformat_minor": 5
}
