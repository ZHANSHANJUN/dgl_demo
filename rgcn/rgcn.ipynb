{
 "cells": [
  {
   "cell_type": "code",
   "execution_count": 1,
   "id": "df84a694",
   "metadata": {},
   "outputs": [],
   "source": [
    "import numpy as np\n",
    "import pandas as pd\n",
    "import dgl\n",
    "import torch"
   ]
  },
  {
   "cell_type": "code",
   "execution_count": 2,
   "id": "f373fc11",
   "metadata": {},
   "outputs": [
    {
     "name": "stdout",
     "output_type": "stream",
     "text": [
      "(8652583, 4) 1295984 157067\n"
     ]
    }
   ],
   "source": [
    "live = pd.read_csv('./input/live.txt', header=None, sep=\" \")\n",
    "live.columns = [\"country\", \"uid\", \"rid\", \"duration\"]\n",
    "live = live[live['duration']>=10]\n",
    "print(live.shape, live.nunique()['uid'], live.nunique()['rid'])"
   ]
  },
  {
   "cell_type": "code",
   "execution_count": 5,
   "id": "dfbe881f",
   "metadata": {},
   "outputs": [
    {
     "name": "stdout",
     "output_type": "stream",
     "text": [
      "(50296888, 2) 4043024 4042968\n"
     ]
    }
   ],
   "source": [
    "friend = pd.read_csv('./input/friend.txt', header=None, sep=\" \")\n",
    "friend.columns = [\"uid_from\", \"uid_to\"]\n",
    "print(friend.shape, friend.nunique()['uid_from'], friend.nunique()['uid_to'])"
   ]
  },
  {
   "cell_type": "code",
   "execution_count": 6,
   "id": "235bc133",
   "metadata": {},
   "outputs": [],
   "source": [
    "user_ids = live['uid'].unique()\n",
    "room_ids = live['rid'].unique()\n",
    "countrys = live['country'].unique()\n",
    "user_id_exist = dict(zip(user_ids, [1]*len(user_ids)))\n",
    "\n",
    "friend['label_from'] = friend['uid_from'].map(user_id_exist)\n",
    "friend['label_to'] = friend['uid_to'].map(user_id_exist)\n",
    "friend = friend[~friend['label_from'].isnull() & ~friend['label_to'].isnull()]"
   ]
  },
  {
   "cell_type": "code",
   "execution_count": 7,
   "id": "6cfcdbf4",
   "metadata": {},
   "outputs": [],
   "source": [
    "user_id_map = dict(zip(user_ids, range(0, len(user_ids))))\n",
    "room_id_map = dict(zip(room_ids, range(0, len(room_ids))))\n",
    "country_map = dict(zip(countrys, range(0, len(countrys))))\n",
    "\n",
    "live['uid_node'] = live['uid'].map(user_id_map)\n",
    "live['rid_node'] = live['rid'].map(room_id_map)\n",
    "friend['uid_from_node'] = friend['uid_from'].map(user_id_map)\n",
    "friend['uid_to_node'] = friend['uid_to'].map(user_id_map)\n",
    "live['country_feat'] = live['country'].map(country_map)"
   ]
  },
  {
   "cell_type": "code",
   "execution_count": 8,
   "id": "876f56dc",
   "metadata": {},
   "outputs": [],
   "source": [
    "graph_data = {\n",
    "    ('user', 'clicked', 'room'): (live['uid_node'].values, live['rid_node'].values),\n",
    "    ('room', 'clicked-by', 'user'): (live['rid_node'].values, live['uid_node'].values),\n",
    "    ('user', 'friend', 'user'): (friend['uid_from_node'].values, friend['uid_to_node'].values),\n",
    "}\n",
    "g = dgl.heterograph(graph_data, idtype=torch.int64)\n",
    "g"
   ]
  },
  {
   "cell_type": "code",
   "execution_count": 27,
   "id": "415cef0e",
   "metadata": {},
   "outputs": [],
   "source": [
    "g.nodes['user'].data['uid'] = torch.LongTensor(list(range(len(user_ids))))\n",
    "\n",
    "user_country = live.groupby('uid_node')['country_feat'].apply(set).map(list).map(lambda x:x[0]).values\n",
    "g.nodes['user'].data['country'] = torch.LongTensor(user_country)\n",
    "\n",
    "neg_weights = live['uid_node'].value_counts().sort_index().map(lambda x:pow(x, 0.75)).values\n",
    "g.nodes['user'].data['neg_weight'] = torch.FloatTensor(neg_weights)\n"
   ]
  },
  {
   "cell_type": "code",
   "execution_count": 35,
   "id": "2d883799",
   "metadata": {},
   "outputs": [
    {
     "data": {
      "text/plain": [
       "{'uid': tensor([      0,       1,       2,  ..., 1295981, 1295982, 1295983]), 'country': tensor([ 0,  1,  2,  ..., 27, 38, 38]), 'neg_weight': tensor([4.3035, 6.4474, 8.0000,  ..., 1.0000, 1.0000, 1.0000])}"
      ]
     },
     "execution_count": 35,
     "metadata": {},
     "output_type": "execute_result"
    }
   ],
   "source": [
    "g.nodes['user'].data"
   ]
  },
  {
   "cell_type": "code",
   "execution_count": null,
   "id": "78f2f6a5",
   "metadata": {},
   "outputs": [],
   "source": []
  },
  {
   "cell_type": "code",
   "execution_count": null,
   "id": "923a2c80",
   "metadata": {},
   "outputs": [],
   "source": []
  },
  {
   "cell_type": "code",
   "execution_count": null,
   "id": "f3c809f0",
   "metadata": {},
   "outputs": [],
   "source": []
  },
  {
   "cell_type": "code",
   "execution_count": null,
   "id": "f6eb470d",
   "metadata": {},
   "outputs": [],
   "source": []
  },
  {
   "cell_type": "code",
   "execution_count": 1,
   "id": "a791caa0",
   "metadata": {},
   "outputs": [],
   "source": [
    "from graph import *"
   ]
  },
  {
   "cell_type": "code",
   "execution_count": 2,
   "id": "36b389ed",
   "metadata": {},
   "outputs": [
    {
     "name": "stdout",
     "output_type": "stream",
     "text": [
      "params: duration_min 10\n",
      "uid cnt 1295984 rid cnt 157067 country cnt 230\n",
      "live cnt 8652583 friend cnt 11616526\n",
      "Graph(num_nodes={'room': 157067, 'user': 1295984},\n",
      "      num_edges={('room', 'clicked-by', 'user'): 8652583, ('user', 'clicked', 'room'): 8652583, ('user', 'friend', 'user'): 11616526},\n",
      "      metagraph=[('room', 'user', 'clicked-by'), ('user', 'room', 'clicked'), ('user', 'user', 'friend')])\n"
     ]
    }
   ],
   "source": [
    "g, user_ids = build_graph()\n",
    "print(g)"
   ]
  },
  {
   "cell_type": "code",
   "execution_count": 8,
   "id": "2abcb89c",
   "metadata": {},
   "outputs": [
    {
     "data": {
      "text/plain": [
       "{'uid': tensor([      0,       1,       2,  ..., 1295981, 1295982, 1295983]), 'country': tensor([ 0,  1,  2,  ..., 27, 38, 38]), 'neg_weight': tensor([4.3035, 6.4474, 8.0000,  ..., 1.0000, 1.0000, 1.0000])}"
      ]
     },
     "execution_count": 8,
     "metadata": {},
     "output_type": "execute_result"
    }
   ],
   "source": [
    "g.nodes['user'].data"
   ]
  },
  {
   "cell_type": "code",
   "execution_count": 3,
   "id": "16e967c3",
   "metadata": {},
   "outputs": [
    {
     "data": {
      "text/plain": [
       "defaultdict(<class 'dict'>, {'uid': {'user': tensor([      0,       1,       2,  ..., 1295981, 1295982, 1295983])}, 'country': {'user': tensor([ 0,  1,  2,  ..., 27, 38, 38])}, 'neg_weight': {'user': tensor([4.3035, 6.4474, 8.0000,  ..., 1.0000, 1.0000, 1.0000])}})"
      ]
     },
     "execution_count": 3,
     "metadata": {},
     "output_type": "execute_result"
    }
   ],
   "source": [
    "g.ndata.pop"
   ]
  },
  {
   "cell_type": "code",
   "execution_count": null,
   "id": "48badce3",
   "metadata": {},
   "outputs": [],
   "source": []
  },
  {
   "cell_type": "code",
   "execution_count": null,
   "id": "5a596138",
   "metadata": {},
   "outputs": [],
   "source": []
  },
  {
   "cell_type": "code",
   "execution_count": null,
   "id": "f8b24bbe",
   "metadata": {},
   "outputs": [],
   "source": []
  }
 ],
 "metadata": {
  "kernelspec": {
   "display_name": "Python 3 (ipykernel)",
   "language": "python",
   "name": "python3"
  },
  "language_info": {
   "codemirror_mode": {
    "name": "ipython",
    "version": 3
   },
   "file_extension": ".py",
   "mimetype": "text/x-python",
   "name": "python",
   "nbconvert_exporter": "python",
   "pygments_lexer": "ipython3",
   "version": "3.9.7"
  }
 },
 "nbformat": 4,
 "nbformat_minor": 5
}
