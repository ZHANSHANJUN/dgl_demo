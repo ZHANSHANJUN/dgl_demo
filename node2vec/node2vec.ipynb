{
 "cells": [
  {
   "cell_type": "code",
   "execution_count": 1,
   "id": "92f9128b",
   "metadata": {},
   "outputs": [],
   "source": [
    "import numpy as np\n",
    "import pandas as pd\n",
    "import dgl\n",
    "import torch"
   ]
  },
  {
   "cell_type": "code",
   "execution_count": 2,
   "id": "3a4a5631",
   "metadata": {},
   "outputs": [
    {
     "name": "stdout",
     "output_type": "stream",
     "text": [
      "(8618431, 4) 1305806 150965\n"
     ]
    }
   ],
   "source": [
    "live = pd.read_csv('./input/live.txt', header=None, sep=\" \")\n",
    "live.columns = [\"country\", \"uid\", \"rid\", \"duration\"]\n",
    "live = live[live['duration']>=10]\n",
    "print(live.shape, live.nunique()['uid'], live.nunique()['rid'])"
   ]
  },
  {
   "cell_type": "code",
   "execution_count": 20,
   "id": "1edcffcf",
   "metadata": {},
   "outputs": [
    {
     "name": "stdout",
     "output_type": "stream",
     "text": [
      "(10631819, 4) 3298855 127538\n"
     ]
    }
   ],
   "source": [
    "sing = pd.read_csv('./input/sing.txt', header=None, sep=\" \")\n",
    "sing.columns = [\"country\", \"uid\", \"sid\", \"click_pv\"]\n",
    "print(sing.shape, sing.nunique()['uid'], sing.nunique()['sid'])"
   ]
  },
  {
   "cell_type": "code",
   "execution_count": 2,
   "id": "3e094a49",
   "metadata": {},
   "outputs": [
    {
     "name": "stdout",
     "output_type": "stream",
     "text": [
      "(48796703, 2) 3984300 3984430\n"
     ]
    }
   ],
   "source": [
    "friend = pd.read_csv('./input/friend.txt', header=None, sep=\" \")\n",
    "friend.columns = [\"uid_from\", \"uid_to\"]\n",
    "print(friend.shape, friend.nunique()['uid_from'], friend.nunique()['uid_to'])"
   ]
  },
  {
   "cell_type": "code",
   "execution_count": 1,
   "id": "33f398fb",
   "metadata": {},
   "outputs": [],
   "source": [
    "from graph import read_txt\n",
    "live, sing, friend = read_txt()"
   ]
  },
  {
   "cell_type": "code",
   "execution_count": 27,
   "id": "54ec2508",
   "metadata": {},
   "outputs": [],
   "source": [
    "user_ids = list(set(live['uid'].unique()) & set(sing['uid'].unique()))\n",
    "user_id_map = dict(zip(user_ids, [1]*len(user_ids)))\n",
    "\n",
    "live['label'] = live['uid'].map(user_id_map)\n",
    "live = live[~live['label'].isnull()]\n",
    "\n",
    "sing['label'] = sing['uid'].map(user_id_map)\n",
    "sing = sing[~sing['label'].isnull()]\n",
    "\n",
    "friend['label_from'] = friend['uid_from'].map(user_id_map)\n",
    "friend['label_to'] = friend['uid_to'].map(user_id_map)\n",
    "friend = friend[~friend['label_from'].isnull() & ~friend['label_to'].isnull()]"
   ]
  },
  {
   "cell_type": "code",
   "execution_count": 28,
   "id": "6547e3c1",
   "metadata": {},
   "outputs": [
    {
     "name": "stdout",
     "output_type": "stream",
     "text": [
      "uid cnt 469806 rid cnt 122011 sid cnt 87275\n"
     ]
    }
   ],
   "source": [
    "print(\"uid cnt\", len(user_ids), \"rid cnt\", live.nunique()['rid'], \"sid cnt\", sing.nunique()['sid'])  "
   ]
  },
  {
   "cell_type": "code",
   "execution_count": 29,
   "id": "bbdab73f",
   "metadata": {},
   "outputs": [
    {
     "name": "stdout",
     "output_type": "stream",
     "text": [
      "txt cnt: 3342663 2491114 2035056\n"
     ]
    }
   ],
   "source": [
    "print(\"txt cnt:\", live.shape[0], sing.shape[0], friend.shape[0])"
   ]
  },
  {
   "cell_type": "code",
   "execution_count": 30,
   "id": "16f3f3ec",
   "metadata": {},
   "outputs": [],
   "source": [
    "def label_encoder(series, return_dict=False):\n",
    "    unique_val = series.unique()\n",
    "    fea_dict = dict(zip(unique_val, range(0, len(unique_val))))\n",
    "    fea_dict_reverse = dict(zip(range(0, len(unique_val)), unique_val))\n",
    "    new_series = series.map(fea_dict)\n",
    "    if return_dict:\n",
    "        return new_series, fea_dict_reverse\n",
    "    return new_series"
   ]
  },
  {
   "cell_type": "code",
   "execution_count": 31,
   "id": "e84b0e59",
   "metadata": {},
   "outputs": [],
   "source": [
    "unique_val = pd.concat([live['uid'], live['rid'], sing['uid'], sing['sid']]).unique()\n",
    "id_map = dict(zip(unique_val, range(0, len(unique_val))))\n",
    "\n",
    "\n",
    "live['uid_node'] = live['uid'].map(id_map)\n",
    "live['rid_node'] = live['rid'].map(id_map)\n",
    "\n",
    "sing['uid_node'] = sing['uid'].map(id_map)\n",
    "sing['sid_node'] = sing['sid'].map(id_map)\n",
    "\n",
    "friend['uid_from_node'] = friend['uid_from'].map(id_map)\n",
    "friend['uid_to_node'] = friend['uid_to'].map(id_map)"
   ]
  },
  {
   "cell_type": "code",
   "execution_count": 18,
   "id": "0437f154",
   "metadata": {},
   "outputs": [],
   "source": [
    "src_ids = pd.concat([live['uid_node'], live['rid_node'], sing['uid_node'], sing['sid_node'], friend['uid_from_node']]).values\n",
    "dst_ids = pd.concat([live['rid_node'], live['uid_node'], sing['sid_node'], sing['uid_node'], friend['uid_to_node']]).values\n",
    "g = dgl.graph((src_ids, dst_ids))\n",
    "g"
   ]
  },
  {
   "cell_type": "code",
   "execution_count": 32,
   "id": "abde38a8",
   "metadata": {},
   "outputs": [],
   "source": [
    "uids = np.array(list(set(live['uid_node'].values) | set(sing['uid_node'].values)))\n",
    "rids = np.array(list(set(live['rid_node'].values)))\n",
    "sids = np.array(list(set(sing['sid_node'].values)))\n",
    "all_id_map = {\"all_ids\":unique_val, \"uids\":uids, \"rids\":rids, \"sids\":sids}"
   ]
  },
  {
   "cell_type": "code",
   "execution_count": 7,
   "id": "808fb518",
   "metadata": {},
   "outputs": [],
   "source": [
    "# rgcn\n",
    "live['uid_'] = label_encoder(live['uid'])\n",
    "live['rid_'] = label_encoder(live['rid'])\n",
    "\n",
    "sing['uid_'] = label_encoder(sing['uid'])\n",
    "sing['sid_'] = label_encoder(sing['sid'])\n",
    "\n",
    "friend['uid_from_'] = label_encoder(friend['uid_from'])\n",
    "friend['uid_to_'] = label_encoder(friend['uid_to'])\n",
    "\n",
    "graph_data = {\n",
    "    ('user', 'watched', 'user'): (live['uid_'].values, live['rid_'].values),\n",
    "    ('user', 'watched-by', 'user'): (live['rid_'].values, live['uid_'].values),\n",
    "    ('user', 'clicked', 'user'): (sing['uid_'].values, sing['sid_'].values),\n",
    "    ('user', 'clicked-by', 'user'): (sing['sid_'].values, sing['uid_'].values),\n",
    "    ('user', 'friend', 'user'): (friend['uid_from_'].values, friend['uid_to_'].values),\n",
    "}\n",
    "g = dgl.heterograph(graph_data, idtype=torch.int64)"
   ]
  },
  {
   "cell_type": "code",
   "execution_count": null,
   "id": "8eda987b",
   "metadata": {},
   "outputs": [],
   "source": []
  },
  {
   "cell_type": "code",
   "execution_count": 16,
   "id": "7c4337a6",
   "metadata": {},
   "outputs": [],
   "source": [
    "from graph import *\n",
    "from gensim.models import Word2Vec"
   ]
  },
  {
   "cell_type": "code",
   "execution_count": 2,
   "id": "a57045bb",
   "metadata": {},
   "outputs": [
    {
     "name": "stdout",
     "output_type": "stream",
     "text": [
      "params: duration_min 10\n",
      "txt cnt: 8618431 10631819 43813457\n",
      "uid cnt 469806 rid cnt 122011 sid cnt 87275\n"
     ]
    },
    {
     "data": {
      "text/plain": [
       "Graph(num_nodes=618830, num_edges=13702610,\n",
       "      ndata_schemes={}\n",
       "      edata_schemes={})"
      ]
     },
     "execution_count": 2,
     "metadata": {},
     "output_type": "execute_result"
    }
   ],
   "source": [
    "g, all_id_map = build_graph()\n",
    "g"
   ]
  },
  {
   "cell_type": "code",
   "execution_count": null,
   "id": "ff14b305",
   "metadata": {},
   "outputs": [],
   "source": [
    "def gen_walks(g):\n",
    "    all_walks = []\n",
    "    for i in range(num_walks):\n",
    "        walks = dgl.sampling.node2vec_random_walk(g, np.arange(g.number_of_nodes()), p, q, walk_length).tolist()\n",
    "        all_walks += walks\n",
    "\n",
    "    np.random.shuffle(all_walks)\n",
    "    print(\"all_walks cnt:\", len(all_walks))\n",
    "    return all_walks"
   ]
  },
  {
   "cell_type": "code",
   "execution_count": 97,
   "id": "78211cb9",
   "metadata": {},
   "outputs": [
    {
     "name": "stdout",
     "output_type": "stream",
     "text": [
      "all_walks cnt: 618830\n"
     ]
    }
   ],
   "source": [
    "all_walks = []\n",
    "for i in range(1):\n",
    "    walks = dgl.sampling.node2vec_random_walk(g, np.arange(g.number_of_nodes()), p, q, 20).tolist()\n",
    "    all_walks += walks\n",
    "    \n",
    "np.random.shuffle(all_walks)\n",
    "print(\"all_walks cnt:\", len(all_walks))"
   ]
  },
  {
   "cell_type": "code",
   "execution_count": 98,
   "id": "b922009b",
   "metadata": {},
   "outputs": [],
   "source": [
    "w2v = Word2Vec(all_walks, vector_size=128, min_count=1, sg=1, workers=16, window=10, epochs=2)"
   ]
  },
  {
   "cell_type": "code",
   "execution_count": 101,
   "id": "5af39929",
   "metadata": {},
   "outputs": [
    {
     "data": {
      "text/plain": [
       "array([[ 1.5902323e-01, -1.3602446e-01,  4.5898589e-01, ...,\n",
       "        -4.1525736e-01, -1.7255954e-01,  4.1876376e-01],\n",
       "       [ 4.7883695e-01,  8.1943911e-01,  1.1761624e+00, ...,\n",
       "        -2.0655749e+00,  1.6955082e-01,  1.5405567e-02],\n",
       "       [ 4.0647559e-02,  5.9378367e-02,  1.6537051e-01, ...,\n",
       "        -4.9101394e-01,  5.5569366e-02,  2.9044294e-01],\n",
       "       ...,\n",
       "       [ 2.4958747e-04, -4.9160384e-02,  3.2879256e-02, ...,\n",
       "        -1.1122543e-02, -4.5592394e-02, -8.9941360e-03],\n",
       "       [ 6.3927197e-03, -4.7091417e-02,  2.9585339e-02, ...,\n",
       "        -1.6293906e-02, -4.6675980e-02, -1.5414115e-02],\n",
       "       [ 7.2562281e-04, -2.4027722e-02,  1.7282929e-02, ...,\n",
       "        -1.9815629e-03, -1.5019396e-02, -9.3592372e-04]], dtype=float32)"
      ]
     },
     "execution_count": 101,
     "metadata": {},
     "output_type": "execute_result"
    }
   ],
   "source": [
    "w2v.wv.vectors"
   ]
  },
  {
   "cell_type": "code",
   "execution_count": 108,
   "id": "bfa70cd7",
   "metadata": {},
   "outputs": [],
   "source": [
    "rids = all_id_map['rids']\n",
    "sids = all_id_map['sids']\n",
    "all_ids = all_id_map['all_ids']"
   ]
  },
  {
   "cell_type": "code",
   "execution_count": 122,
   "id": "edd7a94c",
   "metadata": {},
   "outputs": [],
   "source": [
    "rid_keys = all_ids[rids]\n",
    "rid_values = w2v.wv.vectors[[w2v.wv.key_to_index[i] for i in rids]]"
   ]
  },
  {
   "cell_type": "code",
   "execution_count": 125,
   "id": "568e4784",
   "metadata": {},
   "outputs": [],
   "source": [
    "sid_keys = all_ids[sids]\n",
    "sid_values = w2v.wv.vectors[[w2v.wv.key_to_index[i] for i in sids]]"
   ]
  },
  {
   "cell_type": "code",
   "execution_count": 130,
   "id": "5e558274",
   "metadata": {
    "collapsed": true
   },
   "outputs": [
    {
     "data": {
      "text/plain": [
       "(12103424001423753,\n",
       " array([-0.14123654, -0.36403435,  0.0481291 , -0.15840092,  0.39886844,\n",
       "        -0.22068354,  0.25132614, -0.14845279, -0.04883002,  0.14017446,\n",
       "        -0.00926742,  0.02001654, -0.04000501, -0.18733907,  0.21301775,\n",
       "         0.27344683, -0.06606819, -0.08680673, -0.3228368 ,  0.19046661,\n",
       "         0.5991383 ,  0.0910523 , -0.15429671, -0.6948021 , -0.2839669 ,\n",
       "         0.12220848, -0.20262673,  0.16103297,  0.0689064 ,  0.03683029,\n",
       "         0.07181509,  0.08739292,  0.10255376,  0.15252829,  0.35021   ,\n",
       "        -0.0891073 ,  0.2006823 , -0.2826956 ,  0.14040749,  0.01572085,\n",
       "         0.11303671,  0.3463538 , -0.14814249, -0.12660307,  0.23999949,\n",
       "        -0.00195891, -0.24725725,  0.09962835,  0.04385688,  0.1650456 ,\n",
       "         0.2987002 , -0.02947793,  0.17458706,  0.19266203, -0.15722871,\n",
       "        -0.37672156, -0.03775607,  0.02752581,  0.05644812,  0.10601412,\n",
       "        -0.24348547, -0.07254626,  0.2853582 ,  0.07726168,  0.2835891 ,\n",
       "        -0.01840368, -0.04607441,  0.20210543, -0.07542211, -0.30417287,\n",
       "         0.01365772, -0.32178396, -0.28765327, -0.19420171,  0.20453258,\n",
       "        -0.17767806, -0.21081017,  0.00843567, -0.30085406,  0.3128872 ,\n",
       "        -0.22660193, -0.22359106,  0.15727037,  0.40570298,  0.13927805,\n",
       "         0.35235143,  0.00802717, -0.2546996 ,  0.417156  , -0.29627877,\n",
       "        -0.20271681, -0.07276496, -0.37835822, -0.06189509, -0.15430558,\n",
       "        -0.05432492, -0.16504776, -0.21708836,  0.04896311, -0.04380888,\n",
       "        -0.03195689, -0.10236465, -0.17274292,  0.03104031, -0.18547699,\n",
       "         0.24536052, -0.13790542, -0.19738081,  0.2767912 , -0.1457237 ,\n",
       "         0.17722882, -0.13709743,  0.18309177,  0.18799289, -0.05361256,\n",
       "         0.08105049,  0.02712077,  0.20731519,  0.10574257,  0.17607582,\n",
       "        -0.23835297, -0.7122584 ,  0.14591461,  0.09049317, -0.23263153,\n",
       "         0.13525555, -0.18496038, -0.11049952], dtype=float32))"
      ]
     },
     "execution_count": 130,
     "metadata": {},
     "output_type": "execute_result"
    }
   ],
   "source": [
    "rid_keys[0], rid_values[0]"
   ]
  },
  {
   "cell_type": "code",
   "execution_count": 132,
   "id": "77d7e856",
   "metadata": {
    "collapsed": true
   },
   "outputs": [
    {
     "data": {
      "text/plain": [
       "(6755116273977146,\n",
       " array([-6.86888173e-02, -5.84324360e-01,  1.16712011e-01, -2.80860543e-01,\n",
       "         4.44923699e-01, -4.26281452e-01,  6.24391198e-01, -6.09627187e-01,\n",
       "        -4.08612899e-02,  4.16321069e-01, -2.66546935e-01, -6.16384577e-03,\n",
       "        -2.27166384e-01, -3.97930712e-01,  4.25688863e-01,  6.13901854e-01,\n",
       "        -9.25296471e-02, -1.64467275e-01, -4.22484159e-01,  2.67210305e-01,\n",
       "         7.07764745e-01,  3.82291853e-01,  5.47312014e-02, -8.28856826e-01,\n",
       "        -4.05506909e-01,  2.49537244e-01, -3.94689977e-01,  1.91236809e-02,\n",
       "        -2.24951088e-01, -2.21584022e-01, -5.90593033e-02, -1.93273015e-02,\n",
       "         1.84065327e-01,  5.27701855e-01,  4.05828178e-01, -4.23578680e-01,\n",
       "         5.46429574e-01, -1.79198742e-01,  2.63764471e-01,  7.35894963e-02,\n",
       "        -1.97808817e-01,  2.96653241e-01, -3.19762617e-01, -1.15828648e-01,\n",
       "         1.64565235e-01, -2.30699833e-02, -3.63790393e-01, -3.14024985e-02,\n",
       "         5.62122576e-02,  3.77338886e-01,  5.26409984e-01, -9.85674933e-02,\n",
       "         3.33823949e-01,  1.69618994e-01, -8.94955695e-02, -5.77006757e-01,\n",
       "         1.28698293e-02,  8.98318738e-02,  2.60164171e-01, -8.58680159e-02,\n",
       "        -2.65329808e-01, -2.85092235e-01,  5.93305469e-01, -2.19192564e-01,\n",
       "         4.82498109e-01,  6.80063069e-02, -8.33334401e-02,  2.49980077e-01,\n",
       "        -2.07770333e-01, -5.94740927e-01,  3.76191497e-01, -1.67201951e-01,\n",
       "        -1.36732265e-01, -2.63440281e-01,  1.49580285e-01, -3.79952490e-01,\n",
       "        -3.26780707e-01,  2.61030704e-01, -3.03977519e-01,  2.97063947e-01,\n",
       "        -4.56333935e-01, -1.18792973e-01, -4.52688634e-01,  4.79427338e-01,\n",
       "         3.56229156e-01,  2.02106699e-01,  9.51175971e-05, -6.36770010e-01,\n",
       "         5.45651078e-01, -4.63205040e-01, -2.38030523e-01, -1.20609954e-01,\n",
       "        -4.24334228e-01,  7.76980026e-03, -1.69682428e-01,  1.62425905e-01,\n",
       "        -3.53963822e-01, -2.86254793e-01,  7.00783879e-02, -2.49615222e-01,\n",
       "         3.52281302e-01,  1.39744785e-02, -3.43291491e-01,  3.54655802e-01,\n",
       "        -2.65044898e-01,  2.29219660e-01, -1.86977789e-01, -7.71450400e-02,\n",
       "         5.60010493e-01, -5.85341752e-01,  3.05811912e-01,  1.21450983e-02,\n",
       "         2.54401594e-01, -3.29221934e-01, -1.14430115e-01, -8.42619315e-02,\n",
       "        -2.40817353e-01,  5.57514250e-01, -6.13917084e-03,  2.35620633e-01,\n",
       "        -2.56227762e-01, -1.00759411e+00,  9.91835725e-03, -1.59549072e-01,\n",
       "        -3.59172285e-01,  2.07656369e-01, -2.98384130e-01, -4.39814962e-02],\n",
       "       dtype=float32))"
      ]
     },
     "execution_count": 132,
     "metadata": {},
     "output_type": "execute_result"
    }
   ],
   "source": [
    "sid_keys[0], sid_values[0]"
   ]
  },
  {
   "cell_type": "code",
   "execution_count": 1,
   "id": "375822cf",
   "metadata": {},
   "outputs": [],
   "source": [
    "from conf import *\n",
    "import pickle"
   ]
  },
  {
   "cell_type": "code",
   "execution_count": 2,
   "id": "8015b06b",
   "metadata": {},
   "outputs": [],
   "source": [
    "with open(rid_output_path, 'rb') as f:\n",
    "    rid_keys, rid_values = pickle.load(f)"
   ]
  },
  {
   "cell_type": "code",
   "execution_count": 3,
   "id": "4374669e",
   "metadata": {},
   "outputs": [
    {
     "data": {
      "text/plain": [
       "((122011,), (122011, 128))"
      ]
     },
     "execution_count": 3,
     "metadata": {},
     "output_type": "execute_result"
    }
   ],
   "source": [
    "rid_keys.shape, rid_values.shape"
   ]
  },
  {
   "cell_type": "code",
   "execution_count": 4,
   "id": "eee1d319",
   "metadata": {},
   "outputs": [
    {
     "data": {
      "text/plain": [
       "array([12103424001423753,  3940649674868954, 10133099162199348,\n",
       "        5629499491704903,  2814749767187481, 12947848936252679,\n",
       "       11540474048331467,  3940649680568207, 10977524100097623,\n",
       "        1125899912554363])"
      ]
     },
     "execution_count": 4,
     "metadata": {},
     "output_type": "execute_result"
    }
   ],
   "source": [
    "rid_keys[:10], "
   ]
  },
  {
   "cell_type": "code",
   "execution_count": null,
   "id": "98bf55f6",
   "metadata": {},
   "outputs": [],
   "source": []
  },
  {
   "cell_type": "code",
   "execution_count": 24,
   "id": "a9f5838f",
   "metadata": {},
   "outputs": [
    {
     "data": {
      "text/html": [
       "<div>\n",
       "<style scoped>\n",
       "    .dataframe tbody tr th:only-of-type {\n",
       "        vertical-align: middle;\n",
       "    }\n",
       "\n",
       "    .dataframe tbody tr th {\n",
       "        vertical-align: top;\n",
       "    }\n",
       "\n",
       "    .dataframe thead th {\n",
       "        text-align: right;\n",
       "    }\n",
       "</style>\n",
       "<table border=\"1\" class=\"dataframe\">\n",
       "  <thead>\n",
       "    <tr style=\"text-align: right;\">\n",
       "      <th></th>\n",
       "      <th>country</th>\n",
       "      <th>uid</th>\n",
       "      <th>rid</th>\n",
       "      <th>duration</th>\n",
       "    </tr>\n",
       "  </thead>\n",
       "  <tbody>\n",
       "    <tr>\n",
       "      <th>7491395</th>\n",
       "      <td>IN</td>\n",
       "      <td>7881299355383021</td>\n",
       "      <td>7036874424220697</td>\n",
       "      <td>84</td>\n",
       "    </tr>\n",
       "    <tr>\n",
       "      <th>11518589</th>\n",
       "      <td>PH</td>\n",
       "      <td>7036874424220697</td>\n",
       "      <td>7036874424220697</td>\n",
       "      <td>485</td>\n",
       "    </tr>\n",
       "    <tr>\n",
       "      <th>13572797</th>\n",
       "      <td>IN</td>\n",
       "      <td>3659174699859321</td>\n",
       "      <td>7036874424220697</td>\n",
       "      <td>11</td>\n",
       "    </tr>\n",
       "  </tbody>\n",
       "</table>\n",
       "</div>"
      ],
      "text/plain": [
       "         country               uid               rid  duration\n",
       "7491395       IN  7881299355383021  7036874424220697        84\n",
       "11518589      PH  7036874424220697  7036874424220697       485\n",
       "13572797      IN  3659174699859321  7036874424220697        11"
      ]
     },
     "execution_count": 24,
     "metadata": {},
     "output_type": "execute_result"
    }
   ],
   "source": [
    "live[live['rid']==7036874424220697]"
   ]
  },
  {
   "cell_type": "code",
   "execution_count": 23,
   "id": "db393ef2",
   "metadata": {},
   "outputs": [
    {
     "data": {
      "text/html": [
       "<div>\n",
       "<style scoped>\n",
       "    .dataframe tbody tr th:only-of-type {\n",
       "        vertical-align: middle;\n",
       "    }\n",
       "\n",
       "    .dataframe tbody tr th {\n",
       "        vertical-align: top;\n",
       "    }\n",
       "\n",
       "    .dataframe thead th {\n",
       "        text-align: right;\n",
       "    }\n",
       "</style>\n",
       "<table border=\"1\" class=\"dataframe\">\n",
       "  <thead>\n",
       "    <tr style=\"text-align: right;\">\n",
       "      <th></th>\n",
       "      <th>country</th>\n",
       "      <th>uid</th>\n",
       "      <th>sid</th>\n",
       "      <th>click_pv</th>\n",
       "    </tr>\n",
       "  </thead>\n",
       "  <tbody>\n",
       "    <tr>\n",
       "      <th>19</th>\n",
       "      <td>PH</td>\n",
       "      <td>4222124654601872</td>\n",
       "      <td>611752105020452087</td>\n",
       "      <td>1</td>\n",
       "    </tr>\n",
       "    <tr>\n",
       "      <th>2179</th>\n",
       "      <td>PH</td>\n",
       "      <td>11821949030527264</td>\n",
       "      <td>611752105020452087</td>\n",
       "      <td>2</td>\n",
       "    </tr>\n",
       "    <tr>\n",
       "      <th>5457</th>\n",
       "      <td>GB</td>\n",
       "      <td>9851624260939160</td>\n",
       "      <td>611752105020452087</td>\n",
       "      <td>2</td>\n",
       "    </tr>\n",
       "    <tr>\n",
       "      <th>7451</th>\n",
       "      <td>PH</td>\n",
       "      <td>7881299355458467</td>\n",
       "      <td>611752105020452087</td>\n",
       "      <td>2</td>\n",
       "    </tr>\n",
       "    <tr>\n",
       "      <th>10990</th>\n",
       "      <td>PH</td>\n",
       "      <td>3096224751420810</td>\n",
       "      <td>611752105020452087</td>\n",
       "      <td>7</td>\n",
       "    </tr>\n",
       "    <tr>\n",
       "      <th>...</th>\n",
       "      <td>...</td>\n",
       "      <td>...</td>\n",
       "      <td>...</td>\n",
       "      <td>...</td>\n",
       "    </tr>\n",
       "    <tr>\n",
       "      <th>10595080</th>\n",
       "      <td>PH</td>\n",
       "      <td>7599824378807803</td>\n",
       "      <td>611752105020452087</td>\n",
       "      <td>1</td>\n",
       "    </tr>\n",
       "    <tr>\n",
       "      <th>10597943</th>\n",
       "      <td>PH</td>\n",
       "      <td>9851624267257667</td>\n",
       "      <td>611752105020452087</td>\n",
       "      <td>1</td>\n",
       "    </tr>\n",
       "    <tr>\n",
       "      <th>10601034</th>\n",
       "      <td>HK</td>\n",
       "      <td>2251799820224744</td>\n",
       "      <td>611752105020452087</td>\n",
       "      <td>2</td>\n",
       "    </tr>\n",
       "    <tr>\n",
       "      <th>10602003</th>\n",
       "      <td>IN</td>\n",
       "      <td>12947848937364663</td>\n",
       "      <td>611752105020452087</td>\n",
       "      <td>1</td>\n",
       "    </tr>\n",
       "    <tr>\n",
       "      <th>10617897</th>\n",
       "      <td>PH</td>\n",
       "      <td>10696049117529835</td>\n",
       "      <td>611752105020452087</td>\n",
       "      <td>2</td>\n",
       "    </tr>\n",
       "  </tbody>\n",
       "</table>\n",
       "<p>2207 rows × 4 columns</p>\n",
       "</div>"
      ],
      "text/plain": [
       "         country                uid                 sid  click_pv\n",
       "19            PH   4222124654601872  611752105020452087         1\n",
       "2179          PH  11821949030527264  611752105020452087         2\n",
       "5457          GB   9851624260939160  611752105020452087         2\n",
       "7451          PH   7881299355458467  611752105020452087         2\n",
       "10990         PH   3096224751420810  611752105020452087         7\n",
       "...          ...                ...                 ...       ...\n",
       "10595080      PH   7599824378807803  611752105020452087         1\n",
       "10597943      PH   9851624267257667  611752105020452087         1\n",
       "10601034      HK   2251799820224744  611752105020452087         2\n",
       "10602003      IN  12947848937364663  611752105020452087         1\n",
       "10617897      PH  10696049117529835  611752105020452087         2\n",
       "\n",
       "[2207 rows x 4 columns]"
      ]
     },
     "execution_count": 23,
     "metadata": {},
     "output_type": "execute_result"
    }
   ],
   "source": [
    "sing[sing['sid']==611752105020452087]"
   ]
  },
  {
   "cell_type": "code",
   "execution_count": 1,
   "id": "60c76783",
   "metadata": {},
   "outputs": [],
   "source": [
    "import redis"
   ]
  },
  {
   "cell_type": "code",
   "execution_count": 2,
   "id": "32454a8a",
   "metadata": {},
   "outputs": [],
   "source": [
    "work5redis = redis.StrictRedis(host=\"sg-prod-research-worker-5\", port=6379)"
   ]
  },
  {
   "cell_type": "code",
   "execution_count": 4,
   "id": "cdd01fff",
   "metadata": {},
   "outputs": [],
   "source": [
    "pipeline = work5redis.pipeline(transaction=False)"
   ]
  },
  {
   "cell_type": "code",
   "execution_count": 5,
   "id": "2c3b2be7",
   "metadata": {},
   "outputs": [
    {
     "data": {
      "text/plain": [
       "Pipeline<ConnectionPool<Connection<host=sg-prod-research-worker-5,port=6379,db=0>>>"
      ]
     },
     "execution_count": 5,
     "metadata": {},
     "output_type": "execute_result"
    }
   ],
   "source": [
    "pipeline.set(\"zsj\", 123, 3600)"
   ]
  },
  {
   "cell_type": "code",
   "execution_count": 6,
   "id": "7b489e60",
   "metadata": {},
   "outputs": [
    {
     "data": {
      "text/plain": [
       "[True]"
      ]
     },
     "execution_count": 6,
     "metadata": {},
     "output_type": "execute_result"
    }
   ],
   "source": [
    "pipeline.execute()"
   ]
  },
  {
   "cell_type": "code",
   "execution_count": 7,
   "id": "b7d3f26c",
   "metadata": {},
   "outputs": [
    {
     "data": {
      "text/plain": [
       "b'123'"
      ]
     },
     "execution_count": 7,
     "metadata": {},
     "output_type": "execute_result"
    }
   ],
   "source": [
    "work5redis.get(\"zsj\")"
   ]
  },
  {
   "cell_type": "code",
   "execution_count": 8,
   "id": "a58f22b1",
   "metadata": {},
   "outputs": [
    {
     "data": {
      "text/plain": [
       "3586"
      ]
     },
     "execution_count": 8,
     "metadata": {},
     "output_type": "execute_result"
    }
   ],
   "source": [
    "work5redis.ttl(\"zsj\")"
   ]
  },
  {
   "cell_type": "code",
   "execution_count": 3,
   "id": "92b8f98c",
   "metadata": {},
   "outputs": [
    {
     "data": {
      "text/plain": [
       "[b'123', None]"
      ]
     },
     "execution_count": 3,
     "metadata": {},
     "output_type": "execute_result"
    }
   ],
   "source": [
    "work5redis.mget([\"zsj\", \"wyq\"])"
   ]
  },
  {
   "cell_type": "code",
   "execution_count": null,
   "id": "32efb4e9",
   "metadata": {},
   "outputs": [],
   "source": []
  },
  {
   "cell_type": "code",
   "execution_count": 3,
   "id": "27825c28",
   "metadata": {},
   "outputs": [
    {
     "data": {
      "text/plain": [
       "uid_from    3984300\n",
       "uid_to      3984430\n",
       "dtype: int64"
      ]
     },
     "execution_count": 3,
     "metadata": {},
     "output_type": "execute_result"
    }
   ],
   "source": [
    "friend.nunique()"
   ]
  },
  {
   "cell_type": "code",
   "execution_count": 5,
   "id": "42535b16",
   "metadata": {},
   "outputs": [
    {
     "data": {
      "text/plain": [
       "(48796703, 2)"
      ]
     },
     "execution_count": 5,
     "metadata": {},
     "output_type": "execute_result"
    }
   ],
   "source": [
    "friend.shape"
   ]
  },
  {
   "cell_type": "code",
   "execution_count": 6,
   "id": "23cfb0cd",
   "metadata": {},
   "outputs": [
    {
     "data": {
      "text/plain": [
       "24398351.5"
      ]
     },
     "execution_count": 6,
     "metadata": {},
     "output_type": "execute_result"
    }
   ],
   "source": [
    "48796703/2"
   ]
  },
  {
   "cell_type": "code",
   "execution_count": 10,
   "id": "4affee23",
   "metadata": {},
   "outputs": [
    {
     "data": {
      "text/plain": [
       "uid_from    2823912\n",
       "uid_to      2886601\n",
       "dtype: int64"
      ]
     },
     "execution_count": 10,
     "metadata": {},
     "output_type": "execute_result"
    }
   ],
   "source": [
    "friend[24398351:].nunique()"
   ]
  },
  {
   "cell_type": "code",
   "execution_count": null,
   "id": "b632aae2",
   "metadata": {},
   "outputs": [],
   "source": [
    "4000000"
   ]
  },
  {
   "cell_type": "code",
   "execution_count": null,
   "id": "d1e24618",
   "metadata": {},
   "outputs": [],
   "source": []
  }
 ],
 "metadata": {
  "kernelspec": {
   "display_name": "Python 3 (ipykernel)",
   "language": "python",
   "name": "python3"
  },
  "language_info": {
   "codemirror_mode": {
    "name": "ipython",
    "version": 3
   },
   "file_extension": ".py",
   "mimetype": "text/x-python",
   "name": "python",
   "nbconvert_exporter": "python",
   "pygments_lexer": "ipython3",
   "version": "3.7.7"
  }
 },
 "nbformat": 4,
 "nbformat_minor": 5
}
