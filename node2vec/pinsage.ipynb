{
 "cells": [
  {
   "cell_type": "code",
   "execution_count": 1,
   "id": "convertible-planning",
   "metadata": {},
   "outputs": [
    {
     "name": "stderr",
     "output_type": "stream",
     "text": [
      "Using backend: pytorch\n"
     ]
    }
   ],
   "source": [
    "from conf import *\n",
    "from graph import *\n",
    "from sampler import *\n",
    "from train import train_test_split\n",
    "from collections import Counter\n",
    "import pickle"
   ]
  },
  {
   "cell_type": "code",
   "execution_count": 45,
   "id": "c59fa3ad",
   "metadata": {},
   "outputs": [
    {
     "data": {
      "text/plain": [
       "(6191505, 3)"
      ]
     },
     "execution_count": 45,
     "metadata": {},
     "output_type": "execute_result"
    }
   ],
   "source": [
    "data = pd.read_csv(file_path, header=None, sep=\" \")\n",
    "data.columns = [\"uid\", \"iid\", \"duration\"]\n",
    "data.shape"
   ]
  },
  {
   "cell_type": "code",
   "execution_count": 46,
   "id": "23a22a0f",
   "metadata": {},
   "outputs": [],
   "source": [
    "data = data[data['uid']!=data['iid']]\n",
    "data['label'] = data['duration'].map(lambda x:\"neg\" if x < duration_min else \"pos\")\n",
    "data['uid_pos_cnt'] = data['uid'].map(dict(data[data['label']=='pos']['uid'].value_counts()))\n",
    "data = data[data['uid_pos_cnt']>=5]"
   ]
  },
  {
   "cell_type": "code",
   "execution_count": 48,
   "id": "bf2e7396",
   "metadata": {},
   "outputs": [],
   "source": [
    "data['uid'] = label_encoder(data['uid'])\n",
    "data['iid'], iid_map_reverse = label_encoder(data['iid'], return_dict=True)"
   ]
  },
  {
   "cell_type": "code",
   "execution_count": 60,
   "id": "5769e317",
   "metadata": {},
   "outputs": [
    {
     "data": {
      "text/html": [
       "<div>\n",
       "<style scoped>\n",
       "    .dataframe tbody tr th:only-of-type {\n",
       "        vertical-align: middle;\n",
       "    }\n",
       "\n",
       "    .dataframe tbody tr th {\n",
       "        vertical-align: top;\n",
       "    }\n",
       "\n",
       "    .dataframe thead th {\n",
       "        text-align: right;\n",
       "    }\n",
       "</style>\n",
       "<table border=\"1\" class=\"dataframe\">\n",
       "  <thead>\n",
       "    <tr style=\"text-align: right;\">\n",
       "      <th></th>\n",
       "      <th>uid</th>\n",
       "      <th>iid</th>\n",
       "      <th>duration</th>\n",
       "      <th>label</th>\n",
       "      <th>uid_pos_cnt</th>\n",
       "    </tr>\n",
       "  </thead>\n",
       "  <tbody>\n",
       "    <tr>\n",
       "      <th>4</th>\n",
       "      <td>0</td>\n",
       "      <td>0</td>\n",
       "      <td>24</td>\n",
       "      <td>pos</td>\n",
       "      <td>29.0</td>\n",
       "    </tr>\n",
       "    <tr>\n",
       "      <th>5</th>\n",
       "      <td>0</td>\n",
       "      <td>1</td>\n",
       "      <td>4</td>\n",
       "      <td>neg</td>\n",
       "      <td>29.0</td>\n",
       "    </tr>\n",
       "  </tbody>\n",
       "</table>\n",
       "</div>"
      ],
      "text/plain": [
       "   uid  iid  duration label  uid_pos_cnt\n",
       "4    0    0        24   pos         29.0\n",
       "5    0    1         4   neg         29.0"
      ]
     },
     "execution_count": 60,
     "metadata": {},
     "output_type": "execute_result"
    }
   ],
   "source": [
    "data[:2]"
   ]
  },
  {
   "cell_type": "code",
   "execution_count": 71,
   "id": "9b8044b9",
   "metadata": {},
   "outputs": [],
   "source": [
    "pos_data, neg_data = data[data['label']=='pos'], data[data['label']=='neg']\n"
   ]
  },
  {
   "cell_type": "code",
   "execution_count": 72,
   "id": "7cbcd2b5",
   "metadata": {},
   "outputs": [
    {
     "data": {
      "text/plain": [
       "(2654722, 2715028)"
      ]
     },
     "execution_count": 72,
     "metadata": {},
     "output_type": "execute_result"
    }
   ],
   "source": [
    "len(pos_data), len(neg_data)"
   ]
  },
  {
   "cell_type": "code",
   "execution_count": 100,
   "id": "476ca45c",
   "metadata": {},
   "outputs": [],
   "source": [
    "graph_data = {\n",
    "    ('user', 'neg', 'item'): (neg_data['uid'].values, neg_data['iid'].values),\n",
    "       ('user', 'clicked', 'item'): (pos_data['uid'].values, pos_data['iid'].values),\n",
    "       ('item', 'clicked-by', 'user'): (pos_data['iid'].values, pos_data['uid'].values),\n",
    "        \n",
    "    }\n",
    "\n",
    "g = dgl.heterograph(graph_data, idtype=torch.int64)"
   ]
  },
  {
   "cell_type": "code",
   "execution_count": 101,
   "id": "287773ec",
   "metadata": {},
   "outputs": [
    {
     "data": {
      "text/plain": [
       "Graph(num_nodes={'item': 81937, 'user': 184994},\n",
       "      num_edges={('item', 'clicked-by', 'user'): 2654722, ('user', 'clicked', 'item'): 2654722, ('user', 'neg', 'item'): 2715028},\n",
       "      metagraph=[('item', 'user', 'clicked-by'), ('user', 'item', 'clicked'), ('user', 'item', 'neg')])"
      ]
     },
     "execution_count": 101,
     "metadata": {},
     "output_type": "execute_result"
    }
   ],
   "source": [
    "g"
   ]
  },
  {
   "cell_type": "code",
   "execution_count": 65,
   "id": "67fc7fff",
   "metadata": {},
   "outputs": [
    {
     "data": {
      "text/plain": [
       "(2654722, 2715028)"
      ]
     },
     "execution_count": 65,
     "metadata": {},
     "output_type": "execute_result"
    }
   ],
   "source": [
    "len(pos_data), len(neg_data)"
   ]
  },
  {
   "cell_type": "code",
   "execution_count": 98,
   "id": "fe47aa02",
   "metadata": {},
   "outputs": [
    {
     "data": {
      "text/plain": [
       "'clicked'"
      ]
     },
     "execution_count": 98,
     "metadata": {},
     "output_type": "execute_result"
    }
   ],
   "source": [
    "list(g.metagraph()['user']['item'])[0]"
   ]
  },
  {
   "cell_type": "code",
   "execution_count": 107,
   "id": "3d1ce360",
   "metadata": {},
   "outputs": [],
   "source": [
    "  \n",
    "g.nodes['item'].data['iid'] = torch.LongTensor(list(iid_map_reverse.keys()))\n",
    "g.nodes['item'].data['neg_weight'] = torch.FloatTensor(data['iid'].value_counts().sort_index().map(lambda x:pow(x, 0.75)).values)\n",
    "\n"
   ]
  },
  {
   "cell_type": "code",
   "execution_count": 70,
   "id": "db4c4424",
   "metadata": {},
   "outputs": [
    {
     "data": {
      "text/plain": [
       "NodeSpace(data={'iid': tensor([    0,     1,     2,  ..., 81934, 81935, 81936]), 'neg_weight': tensor([477.3852, 299.2940, 401.0963,  ...,   1.0000,   1.0000,   1.0000])})"
      ]
     },
     "execution_count": 70,
     "metadata": {},
     "output_type": "execute_result"
    }
   ],
   "source": [
    "g.nodes['item']"
   ]
  },
  {
   "cell_type": "code",
   "execution_count": 78,
   "id": "409f2f81",
   "metadata": {},
   "outputs": [],
   "source": [
    "import random"
   ]
  },
  {
   "cell_type": "code",
   "execution_count": 93,
   "id": "ec9139c5",
   "metadata": {},
   "outputs": [
    {
     "data": {
      "text/plain": [
       "True"
      ]
     },
     "execution_count": 93,
     "metadata": {},
     "output_type": "execute_result"
    }
   ],
   "source": [
    "random.random()<0.1"
   ]
  },
  {
   "cell_type": "code",
   "execution_count": 79,
   "id": "481c948b",
   "metadata": {},
   "outputs": [
    {
     "data": {
      "text/plain": [
       "0.2926896895081862"
      ]
     },
     "execution_count": 79,
     "metadata": {},
     "output_type": "execute_result"
    }
   ],
   "source": [
    "random.random()"
   ]
  },
  {
   "cell_type": "code",
   "execution_count": 106,
   "id": "18b14f15",
   "metadata": {},
   "outputs": [
    {
     "data": {
      "text/plain": [
       "NodeSpace(data={})"
      ]
     },
     "execution_count": 106,
     "metadata": {},
     "output_type": "execute_result"
    }
   ],
   "source": [
    "g.nodes['item']"
   ]
  },
  {
   "cell_type": "code",
   "execution_count": 117,
   "id": "2b29c61e",
   "metadata": {},
   "outputs": [],
   "source": [
    "class ItemToItemBatchSampler(IterableDataset):\n",
    "    def __init__(self, g, user_type, item_type, batch_size, hard_neg_ratio):\n",
    "        self.g = g\n",
    "        self.user_type = user_type\n",
    "        self.item_type = item_type\n",
    "        self.user_to_item_etype = 'clicked'\n",
    "        self.item_to_user_etype = 'clicked-by'\n",
    "        self.batch_size = batch_size\n",
    "        self.neg_weights = g.nodes[item_type].data['neg_weight']\n",
    "        self.neg_etype = 'neg'\n",
    "        self.hard_neg_ratio = hard_neg_ratio\n",
    "\n",
    "    def __iter__(self):\n",
    "        while True:\n",
    "            heads = torch.randint(0, self.g.number_of_nodes(self.item_type), (self.batch_size,))\n",
    "            tails = dgl.sampling.random_walk(self.g, heads, metapath=[self.item_to_user_etype, self.user_to_item_etype])[0][:, 2]\n",
    "            if random.random() < self.hard_neg_ratio:\n",
    "                print(\"hard neg\")\n",
    "                neg_tails = dgl.sampling.random_walk(self.g, heads, metapath=[self.item_to_user_etype, self.neg_etype])[0][:, 2]\n",
    "            else:\n",
    "                neg_tails = torch.multinomial(self.neg_weights, self.batch_size, replacement=True)\n",
    "            mask = (heads != tails) & (tails != -1)\n",
    "            yield heads[mask], tails[mask], neg_tails[mask]"
   ]
  },
  {
   "cell_type": "code",
   "execution_count": 118,
   "id": "fad3cfbb",
   "metadata": {},
   "outputs": [],
   "source": [
    "batch_sampler = ItemToItemBatchSampler(g, 'user', 'item', 128, 0.5)"
   ]
  },
  {
   "cell_type": "code",
   "execution_count": null,
   "id": "ba643ffb",
   "metadata": {},
   "outputs": [],
   "source": []
  },
  {
   "cell_type": "code",
   "execution_count": 164,
   "id": "07aaade7",
   "metadata": {},
   "outputs": [
    {
     "data": {
      "text/plain": [
       "tensor(0)"
      ]
     },
     "execution_count": 164,
     "metadata": {},
     "output_type": "execute_result"
    }
   ],
   "source": [
    "sum(next(batch_sampler.__iter__())[2]==-1)"
   ]
  },
  {
   "cell_type": "code",
   "execution_count": 140,
   "id": "a9e0f121",
   "metadata": {},
   "outputs": [],
   "source": [
    "neighbor_sampler = NeighborSampler(g, 'user', 'item', random_walk_length, random_walk_restart_prob, num_random_walks, num_neighbors, num_layers)"
   ]
  },
  {
   "cell_type": "code",
   "execution_count": 141,
   "id": "ab2c9778",
   "metadata": {},
   "outputs": [
    {
     "data": {
      "text/plain": [
       "<sampler.NeighborSampler at 0x7fd3bf765a50>"
      ]
     },
     "execution_count": 141,
     "metadata": {},
     "output_type": "execute_result"
    }
   ],
   "source": [
    "neighbor_sampler"
   ]
  },
  {
   "cell_type": "code",
   "execution_count": 137,
   "id": "5ad9b0dc",
   "metadata": {},
   "outputs": [],
   "source": [
    "from train import *"
   ]
  },
  {
   "cell_type": "code",
   "execution_count": 138,
   "id": "eee67b7d",
   "metadata": {},
   "outputs": [
    {
     "name": "stdout",
     "output_type": "stream",
     "text": [
      "test cnt 62144\n"
     ]
    }
   ],
   "source": [
    "g, (test_user, test_item) = train_test_split_by_item(g)"
   ]
  },
  {
   "cell_type": "code",
   "execution_count": 142,
   "id": "bb4614e8",
   "metadata": {},
   "outputs": [
    {
     "data": {
      "text/plain": [
       "266931"
      ]
     },
     "execution_count": 142,
     "metadata": {},
     "output_type": "execute_result"
    }
   ],
   "source": [
    "g.number_of_nodes()"
   ]
  },
  {
   "cell_type": "code",
   "execution_count": 148,
   "id": "f5395d89",
   "metadata": {},
   "outputs": [
    {
     "data": {
      "text/plain": [
       "81937"
      ]
     },
     "execution_count": 148,
     "metadata": {},
     "output_type": "execute_result"
    }
   ],
   "source": [
    "g.number_of_nodes('item')"
   ]
  },
  {
   "cell_type": "code",
   "execution_count": null,
   "id": "b012ae28",
   "metadata": {},
   "outputs": [],
   "source": []
  },
  {
   "cell_type": "code",
   "execution_count": 130,
   "id": "e0e188ec",
   "metadata": {},
   "outputs": [
    {
     "data": {
      "text/html": [
       "<div>\n",
       "<style scoped>\n",
       "    .dataframe tbody tr th:only-of-type {\n",
       "        vertical-align: middle;\n",
       "    }\n",
       "\n",
       "    .dataframe tbody tr th {\n",
       "        vertical-align: top;\n",
       "    }\n",
       "\n",
       "    .dataframe thead th {\n",
       "        text-align: right;\n",
       "    }\n",
       "</style>\n",
       "<table border=\"1\" class=\"dataframe\">\n",
       "  <thead>\n",
       "    <tr style=\"text-align: right;\">\n",
       "      <th></th>\n",
       "      <th>uid</th>\n",
       "      <th>iid</th>\n",
       "      <th>duration</th>\n",
       "      <th>label</th>\n",
       "      <th>uid_pos_cnt</th>\n",
       "    </tr>\n",
       "  </thead>\n",
       "  <tbody>\n",
       "    <tr>\n",
       "      <th>4</th>\n",
       "      <td>0</td>\n",
       "      <td>0</td>\n",
       "      <td>24</td>\n",
       "      <td>pos</td>\n",
       "      <td>29.0</td>\n",
       "    </tr>\n",
       "    <tr>\n",
       "      <th>5</th>\n",
       "      <td>0</td>\n",
       "      <td>1</td>\n",
       "      <td>4</td>\n",
       "      <td>neg</td>\n",
       "      <td>29.0</td>\n",
       "    </tr>\n",
       "    <tr>\n",
       "      <th>6</th>\n",
       "      <td>0</td>\n",
       "      <td>2</td>\n",
       "      <td>14</td>\n",
       "      <td>pos</td>\n",
       "      <td>29.0</td>\n",
       "    </tr>\n",
       "    <tr>\n",
       "      <th>7</th>\n",
       "      <td>0</td>\n",
       "      <td>3</td>\n",
       "      <td>2</td>\n",
       "      <td>neg</td>\n",
       "      <td>29.0</td>\n",
       "    </tr>\n",
       "    <tr>\n",
       "      <th>8</th>\n",
       "      <td>0</td>\n",
       "      <td>4</td>\n",
       "      <td>21</td>\n",
       "      <td>pos</td>\n",
       "      <td>29.0</td>\n",
       "    </tr>\n",
       "    <tr>\n",
       "      <th>9</th>\n",
       "      <td>0</td>\n",
       "      <td>5</td>\n",
       "      <td>61</td>\n",
       "      <td>pos</td>\n",
       "      <td>29.0</td>\n",
       "    </tr>\n",
       "    <tr>\n",
       "      <th>10</th>\n",
       "      <td>0</td>\n",
       "      <td>6</td>\n",
       "      <td>27</td>\n",
       "      <td>pos</td>\n",
       "      <td>29.0</td>\n",
       "    </tr>\n",
       "    <tr>\n",
       "      <th>11</th>\n",
       "      <td>0</td>\n",
       "      <td>7</td>\n",
       "      <td>67</td>\n",
       "      <td>pos</td>\n",
       "      <td>29.0</td>\n",
       "    </tr>\n",
       "    <tr>\n",
       "      <th>12</th>\n",
       "      <td>0</td>\n",
       "      <td>8</td>\n",
       "      <td>72</td>\n",
       "      <td>pos</td>\n",
       "      <td>29.0</td>\n",
       "    </tr>\n",
       "    <tr>\n",
       "      <th>13</th>\n",
       "      <td>0</td>\n",
       "      <td>9</td>\n",
       "      <td>1</td>\n",
       "      <td>neg</td>\n",
       "      <td>29.0</td>\n",
       "    </tr>\n",
       "  </tbody>\n",
       "</table>\n",
       "</div>"
      ],
      "text/plain": [
       "    uid  iid  duration label  uid_pos_cnt\n",
       "4     0    0        24   pos         29.0\n",
       "5     0    1         4   neg         29.0\n",
       "6     0    2        14   pos         29.0\n",
       "7     0    3         2   neg         29.0\n",
       "8     0    4        21   pos         29.0\n",
       "9     0    5        61   pos         29.0\n",
       "10    0    6        27   pos         29.0\n",
       "11    0    7        67   pos         29.0\n",
       "12    0    8        72   pos         29.0\n",
       "13    0    9         1   neg         29.0"
      ]
     },
     "execution_count": 130,
     "metadata": {},
     "output_type": "execute_result"
    }
   ],
   "source": [
    "data[:10]"
   ]
  },
  {
   "cell_type": "code",
   "execution_count": null,
   "id": "958b5740",
   "metadata": {},
   "outputs": [],
   "source": []
  },
  {
   "cell_type": "code",
   "execution_count": 29,
   "id": "f3ffe6a7",
   "metadata": {},
   "outputs": [
    {
     "data": {
      "text/plain": [
       "7318349397582997     3451\n",
       "3940649677164499     3278\n",
       "4222124655780413     3217\n",
       "2251799820626731     2930\n",
       "12947848931714286    2903\n",
       "                     ... \n",
       "10977524092685113       1\n",
       "10977524096785852       1\n",
       "10977524099571995       1\n",
       "11540474046014201       1\n",
       "281474982757977         1\n",
       "Name: uid, Length: 454760, dtype: int64"
      ]
     },
     "execution_count": 29,
     "metadata": {},
     "output_type": "execute_result"
    }
   ],
   "source": [
    "data['uid'].value_counts()"
   ]
  },
  {
   "cell_type": "code",
   "execution_count": 27,
   "id": "2ee7c54e",
   "metadata": {},
   "outputs": [
    {
     "data": {
      "text/plain": [
       "9288674256213040     1679\n",
       "3940649677164499     1335\n",
       "6473924134852098     1174\n",
       "4222124655780413     1073\n",
       "2251799814823112     1071\n",
       "                     ... \n",
       "10133099170413243       1\n",
       "1970324839533492        1\n",
       "10133099168529527       1\n",
       "4785074602873866        1\n",
       "3377699727372538        1\n",
       "Name: uid, Length: 412037, dtype: int64"
      ]
     },
     "execution_count": 27,
     "metadata": {},
     "output_type": "execute_result"
    }
   ],
   "source": [
    "data[data['label']=='pos']['uid'].value_counts()"
   ]
  },
  {
   "cell_type": "code",
   "execution_count": null,
   "id": "fa1b623b",
   "metadata": {},
   "outputs": [],
   "source": []
  },
  {
   "cell_type": "code",
   "execution_count": 25,
   "id": "387db0dc",
   "metadata": {},
   "outputs": [
    {
     "data": {
      "text/html": [
       "<div>\n",
       "<style scoped>\n",
       "    .dataframe tbody tr th:only-of-type {\n",
       "        vertical-align: middle;\n",
       "    }\n",
       "\n",
       "    .dataframe tbody tr th {\n",
       "        vertical-align: top;\n",
       "    }\n",
       "\n",
       "    .dataframe thead th {\n",
       "        text-align: right;\n",
       "    }\n",
       "</style>\n",
       "<table border=\"1\" class=\"dataframe\">\n",
       "  <thead>\n",
       "    <tr style=\"text-align: right;\">\n",
       "      <th></th>\n",
       "      <th>uid</th>\n",
       "      <th>iid</th>\n",
       "      <th>duration</th>\n",
       "      <th>label</th>\n",
       "    </tr>\n",
       "  </thead>\n",
       "  <tbody>\n",
       "    <tr>\n",
       "      <th>0</th>\n",
       "      <td>3635342465</td>\n",
       "      <td>5629499488129327</td>\n",
       "      <td>3</td>\n",
       "      <td>neg</td>\n",
       "    </tr>\n",
       "    <tr>\n",
       "      <th>1</th>\n",
       "      <td>3635506408</td>\n",
       "      <td>3940649677547010</td>\n",
       "      <td>15</td>\n",
       "      <td>pos</td>\n",
       "    </tr>\n",
       "    <tr>\n",
       "      <th>2</th>\n",
       "      <td>3635506408</td>\n",
       "      <td>10414574139635972</td>\n",
       "      <td>12</td>\n",
       "      <td>pos</td>\n",
       "    </tr>\n",
       "    <tr>\n",
       "      <th>3</th>\n",
       "      <td>3635576499</td>\n",
       "      <td>4222124652261817</td>\n",
       "      <td>258</td>\n",
       "      <td>pos</td>\n",
       "    </tr>\n",
       "    <tr>\n",
       "      <th>4</th>\n",
       "      <td>3635655035</td>\n",
       "      <td>8725724281777249</td>\n",
       "      <td>24</td>\n",
       "      <td>pos</td>\n",
       "    </tr>\n",
       "    <tr>\n",
       "      <th>5</th>\n",
       "      <td>3635655035</td>\n",
       "      <td>10414574147537818</td>\n",
       "      <td>4</td>\n",
       "      <td>neg</td>\n",
       "    </tr>\n",
       "    <tr>\n",
       "      <th>6</th>\n",
       "      <td>3635655035</td>\n",
       "      <td>5066549353021961</td>\n",
       "      <td>14</td>\n",
       "      <td>pos</td>\n",
       "    </tr>\n",
       "    <tr>\n",
       "      <th>7</th>\n",
       "      <td>3635655035</td>\n",
       "      <td>7599824377346822</td>\n",
       "      <td>2</td>\n",
       "      <td>neg</td>\n",
       "    </tr>\n",
       "    <tr>\n",
       "      <th>8</th>\n",
       "      <td>3635655035</td>\n",
       "      <td>3096224746984975</td>\n",
       "      <td>21</td>\n",
       "      <td>pos</td>\n",
       "    </tr>\n",
       "    <tr>\n",
       "      <th>9</th>\n",
       "      <td>3635655035</td>\n",
       "      <td>1688849864380705</td>\n",
       "      <td>61</td>\n",
       "      <td>pos</td>\n",
       "    </tr>\n",
       "    <tr>\n",
       "      <th>10</th>\n",
       "      <td>3635655035</td>\n",
       "      <td>10414574139221362</td>\n",
       "      <td>27</td>\n",
       "      <td>pos</td>\n",
       "    </tr>\n",
       "    <tr>\n",
       "      <th>11</th>\n",
       "      <td>3635655035</td>\n",
       "      <td>4222124654216337</td>\n",
       "      <td>67</td>\n",
       "      <td>pos</td>\n",
       "    </tr>\n",
       "    <tr>\n",
       "      <th>12</th>\n",
       "      <td>3635655035</td>\n",
       "      <td>6755399447803245</td>\n",
       "      <td>72</td>\n",
       "      <td>pos</td>\n",
       "    </tr>\n",
       "    <tr>\n",
       "      <th>13</th>\n",
       "      <td>3635655035</td>\n",
       "      <td>8725724280117360</td>\n",
       "      <td>1</td>\n",
       "      <td>neg</td>\n",
       "    </tr>\n",
       "    <tr>\n",
       "      <th>14</th>\n",
       "      <td>3635655035</td>\n",
       "      <td>3638241871</td>\n",
       "      <td>15</td>\n",
       "      <td>pos</td>\n",
       "    </tr>\n",
       "    <tr>\n",
       "      <th>15</th>\n",
       "      <td>3635655035</td>\n",
       "      <td>4785074600865389</td>\n",
       "      <td>1</td>\n",
       "      <td>neg</td>\n",
       "    </tr>\n",
       "    <tr>\n",
       "      <th>16</th>\n",
       "      <td>3635655035</td>\n",
       "      <td>6755399377703027</td>\n",
       "      <td>4</td>\n",
       "      <td>neg</td>\n",
       "    </tr>\n",
       "    <tr>\n",
       "      <th>17</th>\n",
       "      <td>3635712991</td>\n",
       "      <td>844424931720961</td>\n",
       "      <td>10</td>\n",
       "      <td>pos</td>\n",
       "    </tr>\n",
       "    <tr>\n",
       "      <th>18</th>\n",
       "      <td>3635712991</td>\n",
       "      <td>562949960913106</td>\n",
       "      <td>4</td>\n",
       "      <td>neg</td>\n",
       "    </tr>\n",
       "    <tr>\n",
       "      <th>19</th>\n",
       "      <td>3635712991</td>\n",
       "      <td>5348024338815265</td>\n",
       "      <td>23</td>\n",
       "      <td>pos</td>\n",
       "    </tr>\n",
       "  </tbody>\n",
       "</table>\n",
       "</div>"
      ],
      "text/plain": [
       "           uid                iid  duration label\n",
       "0   3635342465   5629499488129327         3   neg\n",
       "1   3635506408   3940649677547010        15   pos\n",
       "2   3635506408  10414574139635972        12   pos\n",
       "3   3635576499   4222124652261817       258   pos\n",
       "4   3635655035   8725724281777249        24   pos\n",
       "5   3635655035  10414574147537818         4   neg\n",
       "6   3635655035   5066549353021961        14   pos\n",
       "7   3635655035   7599824377346822         2   neg\n",
       "8   3635655035   3096224746984975        21   pos\n",
       "9   3635655035   1688849864380705        61   pos\n",
       "10  3635655035  10414574139221362        27   pos\n",
       "11  3635655035   4222124654216337        67   pos\n",
       "12  3635655035   6755399447803245        72   pos\n",
       "13  3635655035   8725724280117360         1   neg\n",
       "14  3635655035         3638241871        15   pos\n",
       "15  3635655035   4785074600865389         1   neg\n",
       "16  3635655035   6755399377703027         4   neg\n",
       "17  3635712991    844424931720961        10   pos\n",
       "18  3635712991    562949960913106         4   neg\n",
       "19  3635712991   5348024338815265        23   pos"
      ]
     },
     "execution_count": 25,
     "metadata": {},
     "output_type": "execute_result"
    }
   ],
   "source": [
    "data[:20]"
   ]
  },
  {
   "cell_type": "code",
   "execution_count": null,
   "id": "1b4a61ce",
   "metadata": {},
   "outputs": [],
   "source": []
  },
  {
   "cell_type": "code",
   "execution_count": 17,
   "id": "2c324c3c",
   "metadata": {},
   "outputs": [
    {
     "data": {
      "text/plain": [
       "'neg'"
      ]
     },
     "execution_count": 17,
     "metadata": {},
     "output_type": "execute_result"
    }
   ],
   "source": [
    "\"neg\" if 9 < duration_min else \"pos\""
   ]
  },
  {
   "cell_type": "code",
   "execution_count": null,
   "id": "5bf25e30",
   "metadata": {},
   "outputs": [],
   "source": []
  },
  {
   "cell_type": "code",
   "execution_count": 6,
   "id": "e6389bd0",
   "metadata": {},
   "outputs": [
    {
     "data": {
      "text/plain": [
       "(6145146, 3)"
      ]
     },
     "execution_count": 6,
     "metadata": {},
     "output_type": "execute_result"
    }
   ],
   "source": [
    "data.shape"
   ]
  },
  {
   "cell_type": "code",
   "execution_count": 7,
   "id": "6d4f91e1",
   "metadata": {},
   "outputs": [],
   "source": [
    "neg_data = data[data['duration']<duration_min]"
   ]
  },
  {
   "cell_type": "code",
   "execution_count": 8,
   "id": "223c1e64",
   "metadata": {},
   "outputs": [
    {
     "data": {
      "text/plain": [
       "(3064780, 3)"
      ]
     },
     "execution_count": 8,
     "metadata": {},
     "output_type": "execute_result"
    }
   ],
   "source": [
    "neg_data.shape"
   ]
  },
  {
   "cell_type": "code",
   "execution_count": 9,
   "id": "cb802ec3",
   "metadata": {},
   "outputs": [
    {
     "data": {
      "text/html": [
       "<div>\n",
       "<style scoped>\n",
       "    .dataframe tbody tr th:only-of-type {\n",
       "        vertical-align: middle;\n",
       "    }\n",
       "\n",
       "    .dataframe tbody tr th {\n",
       "        vertical-align: top;\n",
       "    }\n",
       "\n",
       "    .dataframe thead th {\n",
       "        text-align: right;\n",
       "    }\n",
       "</style>\n",
       "<table border=\"1\" class=\"dataframe\">\n",
       "  <thead>\n",
       "    <tr style=\"text-align: right;\">\n",
       "      <th></th>\n",
       "      <th>uid</th>\n",
       "      <th>iid</th>\n",
       "      <th>duration</th>\n",
       "    </tr>\n",
       "  </thead>\n",
       "  <tbody>\n",
       "    <tr>\n",
       "      <th>0</th>\n",
       "      <td>3635342465</td>\n",
       "      <td>5629499488129327</td>\n",
       "      <td>3</td>\n",
       "    </tr>\n",
       "    <tr>\n",
       "      <th>5</th>\n",
       "      <td>3635655035</td>\n",
       "      <td>10414574147537818</td>\n",
       "      <td>4</td>\n",
       "    </tr>\n",
       "    <tr>\n",
       "      <th>7</th>\n",
       "      <td>3635655035</td>\n",
       "      <td>7599824377346822</td>\n",
       "      <td>2</td>\n",
       "    </tr>\n",
       "    <tr>\n",
       "      <th>13</th>\n",
       "      <td>3635655035</td>\n",
       "      <td>8725724280117360</td>\n",
       "      <td>1</td>\n",
       "    </tr>\n",
       "    <tr>\n",
       "      <th>15</th>\n",
       "      <td>3635655035</td>\n",
       "      <td>4785074600865389</td>\n",
       "      <td>1</td>\n",
       "    </tr>\n",
       "    <tr>\n",
       "      <th>16</th>\n",
       "      <td>3635655035</td>\n",
       "      <td>6755399377703027</td>\n",
       "      <td>4</td>\n",
       "    </tr>\n",
       "    <tr>\n",
       "      <th>18</th>\n",
       "      <td>3635712991</td>\n",
       "      <td>562949960913106</td>\n",
       "      <td>4</td>\n",
       "    </tr>\n",
       "    <tr>\n",
       "      <th>24</th>\n",
       "      <td>3636711893</td>\n",
       "      <td>6473924130514075</td>\n",
       "      <td>9</td>\n",
       "    </tr>\n",
       "    <tr>\n",
       "      <th>25</th>\n",
       "      <td>3636711893</td>\n",
       "      <td>7318349398643511</td>\n",
       "      <td>3</td>\n",
       "    </tr>\n",
       "    <tr>\n",
       "      <th>30</th>\n",
       "      <td>3638859695</td>\n",
       "      <td>10414574139301724</td>\n",
       "      <td>7</td>\n",
       "    </tr>\n",
       "  </tbody>\n",
       "</table>\n",
       "</div>"
      ],
      "text/plain": [
       "           uid                iid  duration\n",
       "0   3635342465   5629499488129327         3\n",
       "5   3635655035  10414574147537818         4\n",
       "7   3635655035   7599824377346822         2\n",
       "13  3635655035   8725724280117360         1\n",
       "15  3635655035   4785074600865389         1\n",
       "16  3635655035   6755399377703027         4\n",
       "18  3635712991    562949960913106         4\n",
       "24  3636711893   6473924130514075         9\n",
       "25  3636711893   7318349398643511         3\n",
       "30  3638859695  10414574139301724         7"
      ]
     },
     "execution_count": 9,
     "metadata": {},
     "output_type": "execute_result"
    }
   ],
   "source": [
    "neg_data[:10]"
   ]
  },
  {
   "cell_type": "code",
   "execution_count": null,
   "id": "1bdf05ee",
   "metadata": {},
   "outputs": [],
   "source": []
  },
  {
   "cell_type": "code",
   "execution_count": null,
   "id": "e73cb2f6",
   "metadata": {},
   "outputs": [],
   "source": []
  },
  {
   "cell_type": "code",
   "execution_count": 13,
   "id": "a91be11d",
   "metadata": {},
   "outputs": [],
   "source": [
    "item_cnt_df = data['iid'].value_counts().reset_index()\n",
    "item_cnt_df.columns = ['iid', 'cnt']"
   ]
  },
  {
   "cell_type": "code",
   "execution_count": 14,
   "id": "64b03f97",
   "metadata": {
    "collapsed": true
   },
   "outputs": [
    {
     "data": {
      "text/html": [
       "<div>\n",
       "<style scoped>\n",
       "    .dataframe tbody tr th:only-of-type {\n",
       "        vertical-align: middle;\n",
       "    }\n",
       "\n",
       "    .dataframe tbody tr th {\n",
       "        vertical-align: top;\n",
       "    }\n",
       "\n",
       "    .dataframe thead th {\n",
       "        text-align: right;\n",
       "    }\n",
       "</style>\n",
       "<table border=\"1\" class=\"dataframe\">\n",
       "  <thead>\n",
       "    <tr style=\"text-align: right;\">\n",
       "      <th></th>\n",
       "      <th>iid</th>\n",
       "      <th>cnt</th>\n",
       "    </tr>\n",
       "  </thead>\n",
       "  <tbody>\n",
       "    <tr>\n",
       "      <th>0</th>\n",
       "      <td>7318349398643511</td>\n",
       "      <td>36747</td>\n",
       "    </tr>\n",
       "    <tr>\n",
       "      <th>1</th>\n",
       "      <td>6192448702685734</td>\n",
       "      <td>30472</td>\n",
       "    </tr>\n",
       "    <tr>\n",
       "      <th>2</th>\n",
       "      <td>8725724280117360</td>\n",
       "      <td>24214</td>\n",
       "    </tr>\n",
       "    <tr>\n",
       "      <th>3</th>\n",
       "      <td>10977524093405040</td>\n",
       "      <td>23489</td>\n",
       "    </tr>\n",
       "    <tr>\n",
       "      <th>4</th>\n",
       "      <td>3635964080</td>\n",
       "      <td>17707</td>\n",
       "    </tr>\n",
       "    <tr>\n",
       "      <th>...</th>\n",
       "      <td>...</td>\n",
       "      <td>...</td>\n",
       "    </tr>\n",
       "    <tr>\n",
       "      <th>92100</th>\n",
       "      <td>3096224749838618</td>\n",
       "      <td>1</td>\n",
       "    </tr>\n",
       "    <tr>\n",
       "      <th>92101</th>\n",
       "      <td>10977524099798665</td>\n",
       "      <td>1</td>\n",
       "    </tr>\n",
       "    <tr>\n",
       "      <th>92102</th>\n",
       "      <td>11821949024565139</td>\n",
       "      <td>1</td>\n",
       "    </tr>\n",
       "    <tr>\n",
       "      <th>92103</th>\n",
       "      <td>281474983437146</td>\n",
       "      <td>1</td>\n",
       "    </tr>\n",
       "    <tr>\n",
       "      <th>92104</th>\n",
       "      <td>11821949030211652</td>\n",
       "      <td>1</td>\n",
       "    </tr>\n",
       "  </tbody>\n",
       "</table>\n",
       "<p>92105 rows × 2 columns</p>\n",
       "</div>"
      ],
      "text/plain": [
       "                     iid    cnt\n",
       "0       7318349398643511  36747\n",
       "1       6192448702685734  30472\n",
       "2       8725724280117360  24214\n",
       "3      10977524093405040  23489\n",
       "4             3635964080  17707\n",
       "...                  ...    ...\n",
       "92100   3096224749838618      1\n",
       "92101  10977524099798665      1\n",
       "92102  11821949024565139      1\n",
       "92103    281474983437146      1\n",
       "92104  11821949030211652      1\n",
       "\n",
       "[92105 rows x 2 columns]"
      ]
     },
     "execution_count": 14,
     "metadata": {},
     "output_type": "execute_result"
    }
   ],
   "source": [
    "item_cnt_df"
   ]
  },
  {
   "cell_type": "code",
   "execution_count": 43,
   "id": "60179d5f",
   "metadata": {},
   "outputs": [],
   "source": [
    "hot_threshold = data.shape[0] / 1000\n"
   ]
  },
  {
   "cell_type": "code",
   "execution_count": 44,
   "id": "b966730b",
   "metadata": {},
   "outputs": [
    {
     "data": {
      "text/plain": [
       "6083.838"
      ]
     },
     "execution_count": 44,
     "metadata": {},
     "output_type": "execute_result"
    }
   ],
   "source": [
    "hot_threshold"
   ]
  },
  {
   "cell_type": "code",
   "execution_count": 23,
   "id": "467925fc",
   "metadata": {
    "collapsed": true
   },
   "outputs": [
    {
     "ename": "NameError",
     "evalue": "name 'news_count_df' is not defined",
     "output_type": "error",
     "traceback": [
      "\u001b[0;31m---------------------------------------------------------------------------\u001b[0m",
      "\u001b[0;31mNameError\u001b[0m                                 Traceback (most recent call last)",
      "\u001b[0;32m/tmp/ipykernel_14297/2456877074.py\u001b[0m in \u001b[0;36m<module>\u001b[0;34m\u001b[0m\n\u001b[1;32m      1\u001b[0m \u001b[0mhot_threshold\u001b[0m \u001b[0;34m=\u001b[0m \u001b[0mdata\u001b[0m\u001b[0;34m.\u001b[0m\u001b[0mshape\u001b[0m\u001b[0;34m[\u001b[0m\u001b[0;36m0\u001b[0m\u001b[0;34m]\u001b[0m \u001b[0;34m/\u001b[0m \u001b[0;36m100\u001b[0m\u001b[0;34m\u001b[0m\u001b[0;34m\u001b[0m\u001b[0m\n\u001b[0;32m----> 2\u001b[0;31m \u001b[0mnews_count_df\u001b[0m\u001b[0;34m[\u001b[0m\u001b[0;34m'is_hot_news'\u001b[0m\u001b[0;34m]\u001b[0m \u001b[0;34m=\u001b[0m \u001b[0mnews_count_df\u001b[0m\u001b[0;34m[\u001b[0m\u001b[0;34m'count'\u001b[0m\u001b[0;34m]\u001b[0m \u001b[0;34m>\u001b[0m \u001b[0mhot_threshold\u001b[0m\u001b[0;34m\u001b[0m\u001b[0;34m\u001b[0m\u001b[0m\n\u001b[0m\u001b[1;32m      3\u001b[0m \u001b[0mhot_news\u001b[0m \u001b[0;34m=\u001b[0m \u001b[0mnews_count_df\u001b[0m\u001b[0;34m[\u001b[0m\u001b[0mnews_count_df\u001b[0m\u001b[0;34m[\u001b[0m\u001b[0;34m'is_hot_news'\u001b[0m\u001b[0;34m]\u001b[0m\u001b[0;34m==\u001b[0m\u001b[0;32mTrue\u001b[0m\u001b[0;34m]\u001b[0m\u001b[0;34m[\u001b[0m\u001b[0;34m'news_id'\u001b[0m\u001b[0;34m]\u001b[0m\u001b[0;34m.\u001b[0m\u001b[0mvalues\u001b[0m\u001b[0;34m\u001b[0m\u001b[0;34m\u001b[0m\u001b[0m\n\u001b[1;32m      4\u001b[0m \u001b[0mdata\u001b[0m \u001b[0;34m=\u001b[0m \u001b[0mdata\u001b[0m\u001b[0;34m[\u001b[0m\u001b[0;34m~\u001b[0m\u001b[0mdata\u001b[0m\u001b[0;34m[\u001b[0m\u001b[0;34m'news_id'\u001b[0m\u001b[0;34m]\u001b[0m\u001b[0;34m.\u001b[0m\u001b[0misin\u001b[0m\u001b[0;34m(\u001b[0m\u001b[0mhot_news\u001b[0m\u001b[0;34m)\u001b[0m\u001b[0;34m]\u001b[0m\u001b[0;34m.\u001b[0m\u001b[0mreset_index\u001b[0m\u001b[0;34m(\u001b[0m\u001b[0mdrop\u001b[0m\u001b[0;34m=\u001b[0m\u001b[0;32mTrue\u001b[0m\u001b[0;34m)\u001b[0m\u001b[0;34m\u001b[0m\u001b[0;34m\u001b[0m\u001b[0m\n",
      "\u001b[0;31mNameError\u001b[0m: name 'news_count_df' is not defined"
     ]
    }
   ],
   "source": [
    "hot_threshold = data.shape[0] / 100\n",
    "news_count_df['is_hot_news'] = news_count_df['count'] > hot_threshold\n",
    "hot_news = news_count_df[news_count_df['is_hot_news']==True]['news_id'].values\n",
    "data = data[~data['news_id'].isin(hot_news)].reset_index(drop=True)"
   ]
  },
  {
   "cell_type": "code",
   "execution_count": 17,
   "id": "b858cbb6",
   "metadata": {},
   "outputs": [
    {
     "data": {
      "text/plain": [
       "6083.838"
      ]
     },
     "execution_count": 17,
     "metadata": {},
     "output_type": "execute_result"
    }
   ],
   "source": [
    "hot_threshold"
   ]
  },
  {
   "cell_type": "code",
   "execution_count": 26,
   "id": "ffb34eb4",
   "metadata": {},
   "outputs": [],
   "source": [
    "hot_threshold = data.shape[0] / 1000"
   ]
  },
  {
   "cell_type": "code",
   "execution_count": 28,
   "id": "1b59d20b",
   "metadata": {},
   "outputs": [
    {
     "data": {
      "text/plain": [
       "(6083838, 3)"
      ]
     },
     "execution_count": 28,
     "metadata": {},
     "output_type": "execute_result"
    }
   ],
   "source": [
    "data.shape"
   ]
  },
  {
   "cell_type": "code",
   "execution_count": 31,
   "id": "8c85b136",
   "metadata": {},
   "outputs": [
    {
     "data": {
      "text/plain": [
       "0.006040101659511644"
      ]
     },
     "execution_count": 31,
     "metadata": {},
     "output_type": "execute_result"
    }
   ],
   "source": [
    "36747/data.shape[0]"
   ]
  },
  {
   "cell_type": "code",
   "execution_count": 35,
   "id": "f3dcbfce",
   "metadata": {},
   "outputs": [],
   "source": [
    "hot_news = data['iid'].value_counts()[:50].index"
   ]
  },
  {
   "cell_type": "code",
   "execution_count": 37,
   "id": "dc457071",
   "metadata": {},
   "outputs": [
    {
     "data": {
      "text/plain": [
       "(6083838, 3)"
      ]
     },
     "execution_count": 37,
     "metadata": {},
     "output_type": "execute_result"
    }
   ],
   "source": [
    "data.shape"
   ]
  },
  {
   "cell_type": "code",
   "execution_count": 36,
   "id": "d5ed21b2",
   "metadata": {},
   "outputs": [
    {
     "data": {
      "text/plain": [
       "(5393026, 3)"
      ]
     },
     "execution_count": 36,
     "metadata": {},
     "output_type": "execute_result"
    }
   ],
   "source": [
    "data[~data['iid'].isin(hot_news)].reset_index(drop=True).shape"
   ]
  },
  {
   "cell_type": "code",
   "execution_count": 39,
   "id": "39f70bd6",
   "metadata": {},
   "outputs": [
    {
     "data": {
      "text/plain": [
       "690812"
      ]
     },
     "execution_count": 39,
     "metadata": {},
     "output_type": "execute_result"
    }
   ],
   "source": [
    "data['iid'].value_counts()[:50].values.sum()"
   ]
  },
  {
   "cell_type": "code",
   "execution_count": 42,
   "id": "649a3780",
   "metadata": {},
   "outputs": [
    {
     "data": {
      "text/plain": [
       "6083.838"
      ]
     },
     "execution_count": 42,
     "metadata": {},
     "output_type": "execute_result"
    }
   ],
   "source": [
    "hot_threshold"
   ]
  },
  {
   "cell_type": "code",
   "execution_count": 48,
   "id": "29d1d211",
   "metadata": {
    "collapsed": true
   },
   "outputs": [
    {
     "data": {
      "text/plain": [
       "7318349398643511     36747\n",
       "6192448702685734     30472\n",
       "8725724280117360     24214\n",
       "10977524093405040    23489\n",
       "3635964080           17707\n",
       "2814749770130811     17455\n",
       "6473924130491529     17153\n",
       "6473924129646648     16358\n",
       "12384898978899310    16102\n",
       "1970324840193949     15789\n",
       "1970324840633684     15771\n",
       "844424936046810      15426\n",
       "5348024340327152     15107\n",
       "12384898982274759    14393\n",
       "3639492602           14261\n",
       "10696049117715488    14014\n",
       "2533274792172350     14006\n",
       "10414574139366286    13910\n",
       "3640717553           13855\n",
       "6755399375270475     13843\n",
       "2533274793492979     13520\n",
       "3634548695           13478\n",
       "844424933697312      12679\n",
       "6755399377494813     12579\n",
       "1688849863371969     12360\n",
       "10414574139317308    12342\n",
       "7036874418203443     12172\n",
       "10696049120069277    11693\n",
       "3377699727977625     11564\n",
       "562949960913106      11478\n",
       "1125899910760045     11268\n",
       "5629499487053945     11101\n",
       "3634851206           10994\n",
       "2533274794800435     10912\n",
       "4785074601112798     10904\n",
       "6755399374132337     10752\n",
       "10977524092959949    10522\n",
       "844424930680959      10460\n",
       "8725724284491345     10329\n",
       "844424933496221      10329\n",
       "5348024338815265     10204\n",
       "4222124652261817     10198\n",
       "10133099162609818     9982\n",
       "6192448700140226      9976\n",
       "5910973794935147      9918\n",
       "1688849862986352      9876\n",
       "1970324842672826      9849\n",
       "12103423998813083     9833\n",
       "562949960636577       9797\n",
       "8444249303427906      9671\n",
       "Name: iid, dtype: int64"
      ]
     },
     "execution_count": 48,
     "metadata": {},
     "output_type": "execute_result"
    }
   ],
   "source": [
    "data['iid'].value_counts()[:50]"
   ]
  },
  {
   "cell_type": "code",
   "execution_count": 54,
   "id": "f13290cc",
   "metadata": {},
   "outputs": [
    {
     "data": {
      "text/plain": [
       "defaultdict(<class 'dict'>, {'iid': {'item': tensor([    0,     1,     2,  ..., 83710, 83711, 83712])}, 'neg_weight': {'item': tensor([2.4700e+03, 6.8999e+01, 9.3325e+02,  ..., 1.0000e+00, 1.0000e+00,\n",
       "        1.0000e+00])}})"
      ]
     },
     "execution_count": 54,
     "metadata": {},
     "output_type": "execute_result"
    }
   ],
   "source": [
    "g.ndata"
   ]
  },
  {
   "cell_type": "code",
   "execution_count": null,
   "id": "d1667a82",
   "metadata": {},
   "outputs": [],
   "source": []
  },
  {
   "cell_type": "code",
   "execution_count": 50,
   "id": "3c04d6de",
   "metadata": {},
   "outputs": [
    {
     "data": {
      "text/plain": [
       "46153"
      ]
     },
     "execution_count": 50,
     "metadata": {},
     "output_type": "execute_result"
    }
   ],
   "source": [
    "(data['iid'].value_counts()<5).sum()"
   ]
  },
  {
   "cell_type": "code",
   "execution_count": 52,
   "id": "afc9eecd",
   "metadata": {},
   "outputs": [
    {
     "data": {
      "text/plain": [
       "37560"
      ]
     },
     "execution_count": 52,
     "metadata": {},
     "output_type": "execute_result"
    }
   ],
   "source": [
    "83713-46153"
   ]
  },
  {
   "cell_type": "code",
   "execution_count": 53,
   "id": "b64923d8",
   "metadata": {},
   "outputs": [
    {
     "data": {
      "text/plain": [
       "72.67494893266279"
      ]
     },
     "execution_count": 53,
     "metadata": {},
     "output_type": "execute_result"
    }
   ],
   "source": [
    "data.shape[0]/83713"
   ]
  },
  {
   "cell_type": "code",
   "execution_count": null,
   "id": "a9011bbd",
   "metadata": {},
   "outputs": [],
   "source": []
  },
  {
   "cell_type": "code",
   "execution_count": 51,
   "id": "0b92ab81",
   "metadata": {},
   "outputs": [
    {
     "data": {
      "text/plain": [
       "46153"
      ]
     },
     "execution_count": 51,
     "metadata": {},
     "output_type": "execute_result"
    }
   ],
   "source": [
    "46153"
   ]
  },
  {
   "cell_type": "code",
   "execution_count": 46,
   "id": "a402ca1b",
   "metadata": {},
   "outputs": [
    {
     "data": {
      "text/plain": [
       "147"
      ]
     },
     "execution_count": 46,
     "metadata": {},
     "output_type": "execute_result"
    }
   ],
   "source": [
    "(data['iid'].value_counts() > hot_threshold).sum()"
   ]
  },
  {
   "cell_type": "code",
   "execution_count": null,
   "id": "07cda481",
   "metadata": {},
   "outputs": [],
   "source": []
  },
  {
   "cell_type": "code",
   "execution_count": null,
   "id": "1cf29355",
   "metadata": {},
   "outputs": [],
   "source": []
  },
  {
   "cell_type": "code",
   "execution_count": 55,
   "id": "07c56ef6",
   "metadata": {},
   "outputs": [
    {
     "name": "stdout",
     "output_type": "stream",
     "text": [
      "test cnt 64218\n"
     ]
    }
   ],
   "source": [
    "item2user_g = g.edge_type_subgraph(['clicked-by'])\n",
    "item2user_g.edata['random_weight'] = torch.rand(item2user_g.number_of_edges())\n",
    "item2user_test_g = dgl.sampling.select_topk(item2user_g, 1, 'random_weight', edge_dir='out')\n",
    "test_eids = item2user_test_g.edata['_ID']\n",
    "test_item, test_user = g.find_edges(test_eids, etype='clicked-by')\n",
    "print(\"test cnt\", len(test_item))\n",
    "\n",
    "# g = dgl.remove_edges(g, test_eids, etype='clicked')\n",
    "# g = dgl.remove_edges(g, test_eids, etype='clicked-by')\n",
    "# return g"
   ]
  },
  {
   "cell_type": "code",
   "execution_count": 60,
   "id": "95eb8626",
   "metadata": {},
   "outputs": [
    {
     "data": {
      "text/plain": [
       "Graph(num_nodes={'item': 64218, 'user': 247312},\n",
       "      num_edges={('item', 'clicked-by', 'user'): 2792213, ('user', 'clicked', 'item'): 2792213},\n",
       "      metagraph=[('item', 'user', 'clicked-by'), ('user', 'item', 'clicked')])"
      ]
     },
     "execution_count": 60,
     "metadata": {},
     "output_type": "execute_result"
    }
   ],
   "source": [
    "train_g = g\n",
    "train_g = dgl.remove_edges(train_g, test_eids, etype='clicked')\n",
    "train_g = dgl.remove_edges(train_g, test_eids, etype='clicked-by')\n",
    "train_g"
   ]
  },
  {
   "cell_type": "code",
   "execution_count": 39,
   "id": "a9aa4794",
   "metadata": {},
   "outputs": [],
   "source": [
    "g = dgl.remove_edges(g, test_eids, etype='clicked')\n",
    "g = dgl.remove_edges(g, test_eids, etype='clicked-by')"
   ]
  },
  {
   "cell_type": "code",
   "execution_count": 43,
   "id": "11929e52",
   "metadata": {},
   "outputs": [],
   "source": [
    "test_user, test_item = g.find_edges(test_eids, etype='clicked')"
   ]
  },
  {
   "cell_type": "code",
   "execution_count": null,
   "id": "724dd634",
   "metadata": {},
   "outputs": [],
   "source": []
  },
  {
   "cell_type": "code",
   "execution_count": 2,
   "id": "10dceb9a",
   "metadata": {},
   "outputs": [
    {
     "name": "stdout",
     "output_type": "stream",
     "text": [
      "params: file_path /data/zsj/pinsage/input/graph.txt uid_min_cnt 5 duration_min 10\n",
      "origin data shape 6083838 uid cnt 467349 iid cnt 92105\n",
      "data shape 5600859 uid cnt 227787 iid cnt 83713\n",
      "Graph(num_nodes={'item': 83713, 'user': 227787},\n",
      "      num_edges={('item', 'clicked-by', 'user'): 5600859, ('user', 'clicked', 'item'): 5600859},\n",
      "      metagraph=[('item', 'user', 'clicked-by'), ('user', 'item', 'clicked')])\n"
     ]
    }
   ],
   "source": [
    "# file_path = \"/data/zsj/pinsage/input/sample.txt\"\n",
    "g, iid_map_reverse = build_graph(file_path)\n",
    "print(g)\n",
    "# train_g, (test_user, test_item) = train_test_split(g)\n",
    "# g = train_g\n",
    "# print(train_g)\n",
    "# print(len(test_user))"
   ]
  },
  {
   "cell_type": "code",
   "execution_count": 8,
   "id": "b73f9901",
   "metadata": {},
   "outputs": [
    {
     "data": {
      "text/plain": [
       "<module 'dgl' from '/data/zsj/miniconda3/lib/python3.7/site-packages/dgl/__init__.py'>"
      ]
     },
     "execution_count": 8,
     "metadata": {},
     "output_type": "execute_result"
    }
   ],
   "source": [
    "dgl.sampling.PinSAGESampler"
   ]
  },
  {
   "cell_type": "code",
   "execution_count": 6,
   "id": "eb909533",
   "metadata": {},
   "outputs": [
    {
     "data": {
      "text/plain": [
       "EdgeSpace(data={'pos_weight': tensor([4.3438, 1.0986, 3.2189,  ..., 6.2442, 1.9459, 1.0986]), 'walk_weight': tensor([4.3438, 1.0986, 3.2189,  ..., 6.2442, 1.9459, 1.0986])})"
      ]
     },
     "execution_count": 6,
     "metadata": {},
     "output_type": "execute_result"
    }
   ],
   "source": [
    "g.edges['clicked-by']"
   ]
  },
  {
   "cell_type": "code",
   "execution_count": 15,
   "id": "cef60ffc",
   "metadata": {},
   "outputs": [
    {
     "data": {
      "text/plain": [
       "tensor([1.9899e+03, 5.7045e+02, 3.0800e+02,  ..., 1.0000e+00, 1.0000e+00,\n",
       "        1.0000e+00])"
      ]
     },
     "execution_count": 15,
     "metadata": {},
     "output_type": "execute_result"
    }
   ],
   "source": [
    "g.nodes['item'].data['neg_weight']"
   ]
  },
  {
   "cell_type": "code",
   "execution_count": 17,
   "id": "3752e30d",
   "metadata": {},
   "outputs": [
    {
     "data": {
      "text/plain": [
       "tensor([5.0254e-04, 1.7530e-03, 3.2468e-03,  ..., 1.0000e+00, 1.0000e+00,\n",
       "        1.0000e+00])"
      ]
     },
     "execution_count": 17,
     "metadata": {},
     "output_type": "execute_result"
    }
   ],
   "source": [
    "1/g.nodes['item'].data['neg_weight']"
   ]
  },
  {
   "cell_type": "code",
   "execution_count": 16,
   "id": "769de493",
   "metadata": {},
   "outputs": [
    {
     "data": {
      "text/plain": [
       "{'iid': tensor([    0,     1,     2,  ..., 63011, 63012, 63013]), 'neg_weight': tensor([1.9899e+03, 5.7045e+02, 3.0800e+02,  ..., 1.0000e+00, 1.0000e+00,\n",
       "        1.0000e+00])}"
      ]
     },
     "execution_count": 16,
     "metadata": {},
     "output_type": "execute_result"
    }
   ],
   "source": [
    "g.nodes['item'].data['pos_weight'] = 1/g.nodes['item'].data['neg_weight']"
   ]
  },
  {
   "cell_type": "code",
   "execution_count": null,
   "id": "76060c34",
   "metadata": {},
   "outputs": [],
   "source": [
    "g.nodes['item'].data['neg_weight'] = torch.FloatTensor(data['iid'].value_counts().sort_index().map(lambda x:pow(x, 0.75)).values)\n"
   ]
  },
  {
   "cell_type": "code",
   "execution_count": null,
   "id": "14805dc5",
   "metadata": {},
   "outputs": [],
   "source": []
  },
  {
   "cell_type": "code",
   "execution_count": 59,
   "id": "caff00c5",
   "metadata": {},
   "outputs": [],
   "source": [
    "batch_sampler = ItemToItemBatchSampler(g, 'user', 'item', batch_size)\n",
    "neighbor_sampler = NeighborSampler(g, 'user', 'item', random_walk_length, random_walk_restart_prob, num_random_walks, num_neighbors, num_layers)\n",
    "\n",
    "collator = PinSAGECollator(neighbor_sampler, g, 'item')\n",
    "dataloader = DataLoader(batch_sampler, collate_fn=collator.collate_train, num_workers=num_workers)\n",
    "dataloader_test = DataLoader(torch.arange(g.number_of_nodes('item')), batch_size=batch_size, collate_fn=collator.collate_test, num_workers=num_workers)\n",
    "dataloader_it = iter(dataloader)\n"
   ]
  },
  {
   "cell_type": "code",
   "execution_count": 60,
   "id": "e007e445",
   "metadata": {
    "collapsed": true
   },
   "outputs": [
    {
     "ename": "NameError",
     "evalue": "name 'test_user' is not defined",
     "output_type": "error",
     "traceback": [
      "\u001b[0;31m---------------------------------------------------------------------------\u001b[0m",
      "\u001b[0;31mNameError\u001b[0m                                 Traceback (most recent call last)",
      "\u001b[0;32m/tmp/ipykernel_14297/1868237356.py\u001b[0m in \u001b[0;36m<module>\u001b[0;34m\u001b[0m\n\u001b[0;32m----> 1\u001b[0;31m \u001b[0mpos_graph\u001b[0m\u001b[0;34m,\u001b[0m \u001b[0mneg_graph\u001b[0m\u001b[0;34m,\u001b[0m \u001b[0mblocks\u001b[0m \u001b[0;34m=\u001b[0m \u001b[0mcollator\u001b[0m\u001b[0;34m.\u001b[0m\u001b[0mcollate_test_auc\u001b[0m\u001b[0;34m(\u001b[0m\u001b[0mtest_user\u001b[0m\u001b[0;34m,\u001b[0m \u001b[0mtest_item\u001b[0m\u001b[0;34m,\u001b[0m \u001b[0;34m'clicked'\u001b[0m\u001b[0;34m)\u001b[0m\u001b[0;34m\u001b[0m\u001b[0;34m\u001b[0m\u001b[0m\n\u001b[0m",
      "\u001b[0;31mNameError\u001b[0m: name 'test_user' is not defined"
     ]
    }
   ],
   "source": [
    "pos_graph, neg_graph, blocks = collator.collate_test_auc(test_user, test_item, 'clicked')"
   ]
  },
  {
   "cell_type": "code",
   "execution_count": 61,
   "id": "b8fb53c4",
   "metadata": {},
   "outputs": [
    {
     "name": "stdout",
     "output_type": "stream",
     "text": [
      "item: (117285, 64) 117285\n"
     ]
    }
   ],
   "source": [
    "with open(output_path, 'rb') as f:\n",
    "    item_embeddings, iid_map_reverse = pickle.load(f)\n",
    "    print(\"item:\", item_embeddings.shape, len(iid_map_reverse))\n",
    "\n",
    "item_embeddings = torch.Tensor(item_embeddings)"
   ]
  },
  {
   "cell_type": "code",
   "execution_count": 10,
   "id": "90e0a64d",
   "metadata": {},
   "outputs": [],
   "source": [
    "from evaluation import cal_hr_k\n",
    "hit_rate = cal_hr_k(g, item_embeddings, test_user, test_item)"
   ]
  },
  {
   "cell_type": "code",
   "execution_count": 9,
   "id": "e128e1ba",
   "metadata": {},
   "outputs": [
    {
     "data": {
      "text/plain": [
       "0.12900151432356202"
      ]
     },
     "execution_count": 9,
     "metadata": {},
     "output_type": "execute_result"
    }
   ],
   "source": [
    "hit_rate\n"
   ]
  },
  {
   "cell_type": "code",
   "execution_count": 70,
   "id": "427ee1d7",
   "metadata": {},
   "outputs": [
    {
     "name": "stdout",
     "output_type": "stream",
     "text": [
      "tensor(59864) 10 torch.Size([10, 64]) torch.Size([10, 117285])\n"
     ]
    }
   ],
   "source": [
    "batches = torch.arange(len(test_item)).split(batch_size)\n",
    "batch = batches[0]\n",
    "\n",
    "users = test_user[batch]\n",
    "items = test_item[batch]\n",
    "\n",
    "for i in range(len(batch)):\n",
    "    user = users[i]\n",
    "    item = items[i]\n",
    "    clicked_ids = g.successors(user, etype='clicked')\n",
    "    item_emb = item_embeddings[clicked_ids]\n",
    "    dist = item_emb @ item_embeddings.t()\n",
    "    top_sim_ids = dist.topk(top_k, 1)[1]\n",
    "    \n",
    "    item_hit = 0\n",
    "    for sim_ids in top_sim_ids:\n",
    "        if item in sim_ids:\n",
    "            item_hit+=1\n",
    "    print(user, len(clicked_ids), item_emb.shape, dist.shape)\n",
    "    break"
   ]
  },
  {
   "cell_type": "code",
   "execution_count": null,
   "id": "4b532b06",
   "metadata": {},
   "outputs": [],
   "source": [
    "for sim_ids "
   ]
  },
  {
   "cell_type": "code",
   "execution_count": 76,
   "id": "0e2048f8",
   "metadata": {
    "collapsed": true
   },
   "outputs": [
    {
     "name": "stdout",
     "output_type": "stream",
     "text": [
      "tensor([ 25857,  40456,  27870,  14772,   4469,  19496,  29321,  62182,  42305,\n",
      "         21000,  91983,  11825,  21423,  11875,  15722,  10354,  13160,  80938,\n",
      "         13764,  25535,  14271,  87058,    104,  31955,  20538,  44762,  41000,\n",
      "         74003,   8211,   7368,   7385,  96266,  35752,  10467,  34342,  89379,\n",
      "         12434,  80181,  26402,  33308,  35951,  29163, 107764,  22619,  38093,\n",
      "         73891,  36803,  16942,  63079,  20494])\n",
      "tensor([ 26472,  71660,  25475,   4910,  44599,  18394,   4124,  32953,  64122,\n",
      "         48218,  42869,  33962,  61442,  26284,  46345,  83854,    689,  13443,\n",
      "         22974,  22061,   7032,  34827,   1509,  46709,  66566,  37922,  69824,\n",
      "          8065,  36869,  51146,  96289, 113498,  79896,  11880,  29909,  65574,\n",
      "         67938,  74330,  27232,   5649,    702,  54866,  57737,  10682,  84946,\n",
      "         51652, 111680,  23675,  40108,   9541])\n",
      "tensor([  8508,  65085,  28942,  67975,  20323,  45348,  35908,   9833,  12674,\n",
      "         61895,  13051,  23840,    748,    897,  37386,  19145,  17777,  42415,\n",
      "        107807,    905,   3787,  20279,   8193,   1232,  19910,  46772,  21061,\n",
      "          1797,   3884,   2092,  54240,  43309,  15151,  39055,  50930,  41520,\n",
      "          9336,  45150,  57579,   2696,  20806,  73508,  70784,   5291,  37203,\n",
      "         42367,  50952,   6839,  32368,  56751])\n",
      "tensor([ 71660,  13937,   4910,    418,  18394,    679,  28885,   1502,  13950,\n",
      "          8286,  20021,  43147, 104564, 101812,  13717,  50056,    437,    429,\n",
      "           486,    512,  51652,  83854,   9541,  36862,  13419,    428,  12995,\n",
      "         21036,  63901,  73781, 115612,    448,  29514,    523,   6521,   6519,\n",
      "           499,   1049,    450,  16370,   8794,  32922,   5556,   3245,    861,\n",
      "          3654,  33169,   1742,    389,   1031])\n",
      "tensor([  4789,   4910,  71660,  13950,  65402,  16370,  36862,    437,    418,\n",
      "          5659,  63696,  83854,  13937,  50056,  65738,  43172,    512,    481,\n",
      "         20021,  51652,  54150,  21036,  29514,  14136,    450,    428,   1742,\n",
      "           429,    861,  53907,  24545,  21531,  63901,  65711,  12418,  46435,\n",
      "          2268,  26181, 104564,  94910,   9719,    523, 115612,  53634,   1031,\n",
      "          1049,  20307,  72970,  84529,  18394])\n",
      "tensor([   905,  12674,   2092,    545,   3884,    541,    908,   9502,  88275,\n",
      "         13051,   1622,    719,  38987,  50930,   3787,   1232,  90774,  16055,\n",
      "          1797,    748,  43576,  15151,   1808,   2696,  28942,  44707,   1345,\n",
      "         17777,    619,  99069,  22075,   1118,  39055,   4198,  56592, 100692,\n",
      "          8171,  69145,  54240,   9336,  10730,   2195,   1629,   3391,  32042,\n",
      "          3995,  12097,  21169,   4522,   2350])\n",
      "tensor([ 32801,  22629,  75266,  17758,  12146,  42417,  34155,  11361,  11741,\n",
      "         13686,   9021,  16784,  10079,  63337,  36084,    466,  11035,  50468,\n",
      "          8779,  16530,  42751,  15714,  27761,   6837,   6503,  18564,  63693,\n",
      "         34809,  23844,   7433,  40810,   4793,  72630,   1497,   3498,  98409,\n",
      "        105329,  34716,   5495,  71174,  34593,  12700,  22098,  12726,  16774,\n",
      "          7951,  28659,   2927,  35537,   7934])\n",
      "tensor([ 23844,      0,  22325,  16784,   6827,  22629,  11741,  11361,  34779,\n",
      "          5850,     50,  48793,   9021,  24921,  17758,  43685,  15295,  19742,\n",
      "         21862,   6736,  63693,   7433,   9798,  11035,  11111,   6503,  35178,\n",
      "         18564,  10719, 105329,  32616,   3681,   7934,  15714, 104287,  49633,\n",
      "           414,     43,  36601,  64426,   4131,  69571,  50719,  75039,  42751,\n",
      "          2915,  62969,   3820,  71198,   2863])\n",
      "tensor([  2101,  11875,  83517,  48551,   7368,  39685,    208,   7385,   3288,\n",
      "         14896,    217,  33513,   2106,  56376,   6479, 103187,  33308,  35517,\n",
      "          5454,  27870,  19443,  68585,  62182,   5577,  28082,  24800,  15722,\n",
      "          6863,  23488,   4631,   2439,    759,  16157,  12069,   5333,    182,\n",
      "          2007, 116110,  52284,  41690,    126,   1993,  47090,  22757,   2457,\n",
      "         18152,   5972,   1461,   4248,  37682])\n",
      "tensor([ 11460,   4045,  32957,  56592,  72379,  36163,  17132,  45347,  29817,\n",
      "          4182,  38008,  82218,    545,  19925,  15630,  13559,  26826,  99698,\n",
      "         18964,  40048,  30385,  90774,   4388,  55723,   4701, 110820,  14073,\n",
      "          4013,  22531,  15537,  65633,  37630,  53282,  32177,  37668,  86118,\n",
      "         14351,   7991,  39055,  19386,  98900,  47600,  82822,  21357,  40604,\n",
      "        111780,    903,  19645,  59605,  11395])\n"
     ]
    }
   ],
   "source": [
    "for sim_ids in top_sim_ids:\n",
    "    print(sim_ids)"
   ]
  },
  {
   "cell_type": "code",
   "execution_count": 86,
   "id": "d26934c0",
   "metadata": {},
   "outputs": [
    {
     "name": "stdout",
     "output_type": "stream",
     "text": [
      "hr@ 50 0.39583622184838707\n"
     ]
    }
   ],
   "source": [
    "batches = torch.arange(len(test_item)).split(batch_size)\n",
    "\n",
    "hit = 0\n",
    "for batch in batches[:2]:\n",
    "    users = test_user[batch]\n",
    "    items = test_item[batch]\n",
    "#     item_emb = item_embeddings[items]\n",
    "\n",
    "#     dist = item_emb @ item_embeddings.t()\n",
    "#     top_sim_ids = dist.topk(top_k, 1)[1]\n",
    "    for i in range(len(batch)):\n",
    "        user = users[i]\n",
    "        item = items[i]\n",
    "#         sim_ids = top_sim_ids[i]\n",
    "        clicked_ids = g.successors(user, etype='clicked')\n",
    "        item_emb = item_embeddings[clicked_ids]\n",
    "        dist = item_emb @ item_embeddings.t()\n",
    "        top_sim_ids = dist.topk(top_k, 1)[1]\n",
    "        \n",
    "        item_hit = 0\n",
    "        for sim_ids in top_sim_ids:\n",
    "            if item in sim_ids:\n",
    "                item_hit+=1\n",
    "                \n",
    "        hit += item_hit/len(clicked_ids)\n",
    "\n",
    "# hit_rate = hit/len(test_item)\n",
    "hit_rate = hit/100\n",
    "print(\"hr@\", top_k, hit_rate)"
   ]
  },
  {
   "cell_type": "code",
   "execution_count": null,
   "id": "32102deb",
   "metadata": {},
   "outputs": [],
   "source": []
  },
  {
   "cell_type": "code",
   "execution_count": 28,
   "id": "dfe3c5c9",
   "metadata": {},
   "outputs": [
    {
     "name": "stdout",
     "output_type": "stream",
     "text": [
      "hr@50 0.040673906152980104\n"
     ]
    }
   ],
   "source": [
    "batches = torch.arange(len(test_item)).split(batch_size)\n",
    "\n",
    "hit = 0\n",
    "for batch in batches:\n",
    "    users = test_user[batch]\n",
    "    items = test_item[batch]\n",
    "    item_emb = item_embeddings[items]\n",
    "    \n",
    "    dist = item_emb @ item_embeddings.t()\n",
    "    top_sim_ids = dist.topk(50, 1)[1]\n",
    "    for i in range(len(batch)):\n",
    "        user = users[i]\n",
    "        sim_ids = top_sim_ids[i]\n",
    "        clicked_ids = g.successors(user, etype='clicked')\n",
    "        hit_ids_cnt = len(set(sim_ids.numpy()) & set(clicked_ids.numpy()))\n",
    "        hit += hit_ids_cnt/len(clicked_ids)\n",
    "        \n",
    "print(\"hr@50\", hit/len(test_item))"
   ]
  },
  {
   "cell_type": "code",
   "execution_count": 31,
   "id": "588e5148",
   "metadata": {},
   "outputs": [
    {
     "data": {
      "text/plain": [
       "17211"
      ]
     },
     "execution_count": 31,
     "metadata": {},
     "output_type": "execute_result"
    }
   ],
   "source": [
    "len(Counter(test_item.numpy()))"
   ]
  },
  {
   "cell_type": "code",
   "execution_count": null,
   "id": "132af376",
   "metadata": {},
   "outputs": [],
   "source": []
  },
  {
   "cell_type": "code",
   "execution_count": 56,
   "id": "0b34031a",
   "metadata": {},
   "outputs": [
    {
     "name": "stdout",
     "output_type": "stream",
     "text": [
      "node feat neg_weight not exist\n"
     ]
    }
   ],
   "source": [
    "from model import *\n",
    "\n",
    "model = PinSAGEModel(g, 'item', hidden_dims_dict, num_layers)"
   ]
  },
  {
   "cell_type": "code",
   "execution_count": null,
   "id": "cc705088",
   "metadata": {},
   "outputs": [],
   "source": [
    "item_batches = torch.arange(g.number_of_nodes('item')).split(batch_size)\n",
    "        h_item_batches = []\n",
    "        for blocks in dataloader_test:\n",
    "            h_item_batches.append(model.get_repr(blocks))"
   ]
  },
  {
   "cell_type": "code",
   "execution_count": 5,
   "id": "826d9946",
   "metadata": {
    "collapsed": true
   },
   "outputs": [
    {
     "ename": "KeyboardInterrupt",
     "evalue": "",
     "output_type": "error",
     "traceback": [
      "\u001b[0;31m---------------------------------------------------------------------------\u001b[0m",
      "\u001b[0;31mKeyboardInterrupt\u001b[0m                         Traceback (most recent call last)",
      "\u001b[0;32m/tmp/ipykernel_2136/1021876993.py\u001b[0m in \u001b[0;36m<module>\u001b[0;34m\u001b[0m\n\u001b[1;32m      1\u001b[0m \u001b[0mh_item_batches\u001b[0m \u001b[0;34m=\u001b[0m \u001b[0;34m[\u001b[0m\u001b[0;34m]\u001b[0m\u001b[0;34m\u001b[0m\u001b[0;34m\u001b[0m\u001b[0m\n\u001b[0;32m----> 2\u001b[0;31m \u001b[0;32mfor\u001b[0m \u001b[0mblocks\u001b[0m \u001b[0;32min\u001b[0m \u001b[0mdataloader_test\u001b[0m\u001b[0;34m:\u001b[0m\u001b[0;34m\u001b[0m\u001b[0;34m\u001b[0m\u001b[0m\n\u001b[0m\u001b[1;32m      3\u001b[0m     \u001b[0mh_item_batches\u001b[0m\u001b[0;34m.\u001b[0m\u001b[0mappend\u001b[0m\u001b[0;34m(\u001b[0m\u001b[0mmodel\u001b[0m\u001b[0;34m.\u001b[0m\u001b[0mget_repr\u001b[0m\u001b[0;34m(\u001b[0m\u001b[0mblocks\u001b[0m\u001b[0;34m)\u001b[0m\u001b[0;34m)\u001b[0m\u001b[0;34m\u001b[0m\u001b[0;34m\u001b[0m\u001b[0m\n",
      "\u001b[0;32m/data/zsj/miniconda3/lib/python3.7/site-packages/torch/utils/data/dataloader.py\u001b[0m in \u001b[0;36m__next__\u001b[0;34m(self)\u001b[0m\n\u001b[1;32m    528\u001b[0m             \u001b[0;32mif\u001b[0m \u001b[0mself\u001b[0m\u001b[0;34m.\u001b[0m\u001b[0m_sampler_iter\u001b[0m \u001b[0;32mis\u001b[0m \u001b[0;32mNone\u001b[0m\u001b[0;34m:\u001b[0m\u001b[0;34m\u001b[0m\u001b[0;34m\u001b[0m\u001b[0m\n\u001b[1;32m    529\u001b[0m                 \u001b[0mself\u001b[0m\u001b[0;34m.\u001b[0m\u001b[0m_reset\u001b[0m\u001b[0;34m(\u001b[0m\u001b[0;34m)\u001b[0m\u001b[0;34m\u001b[0m\u001b[0;34m\u001b[0m\u001b[0m\n\u001b[0;32m--> 530\u001b[0;31m             \u001b[0mdata\u001b[0m \u001b[0;34m=\u001b[0m \u001b[0mself\u001b[0m\u001b[0;34m.\u001b[0m\u001b[0m_next_data\u001b[0m\u001b[0;34m(\u001b[0m\u001b[0;34m)\u001b[0m\u001b[0;34m\u001b[0m\u001b[0;34m\u001b[0m\u001b[0m\n\u001b[0m\u001b[1;32m    531\u001b[0m             \u001b[0mself\u001b[0m\u001b[0;34m.\u001b[0m\u001b[0m_num_yielded\u001b[0m \u001b[0;34m+=\u001b[0m \u001b[0;36m1\u001b[0m\u001b[0;34m\u001b[0m\u001b[0;34m\u001b[0m\u001b[0m\n\u001b[1;32m    532\u001b[0m             \u001b[0;32mif\u001b[0m \u001b[0mself\u001b[0m\u001b[0;34m.\u001b[0m\u001b[0m_dataset_kind\u001b[0m \u001b[0;34m==\u001b[0m \u001b[0m_DatasetKind\u001b[0m\u001b[0;34m.\u001b[0m\u001b[0mIterable\u001b[0m \u001b[0;32mand\u001b[0m\u001b[0;31m \u001b[0m\u001b[0;31m\\\u001b[0m\u001b[0;34m\u001b[0m\u001b[0;34m\u001b[0m\u001b[0m\n",
      "\u001b[0;32m/data/zsj/miniconda3/lib/python3.7/site-packages/torch/utils/data/dataloader.py\u001b[0m in \u001b[0;36m_next_data\u001b[0;34m(self)\u001b[0m\n\u001b[1;32m    568\u001b[0m     \u001b[0;32mdef\u001b[0m \u001b[0m_next_data\u001b[0m\u001b[0;34m(\u001b[0m\u001b[0mself\u001b[0m\u001b[0;34m)\u001b[0m\u001b[0;34m:\u001b[0m\u001b[0;34m\u001b[0m\u001b[0;34m\u001b[0m\u001b[0m\n\u001b[1;32m    569\u001b[0m         \u001b[0mindex\u001b[0m \u001b[0;34m=\u001b[0m \u001b[0mself\u001b[0m\u001b[0;34m.\u001b[0m\u001b[0m_next_index\u001b[0m\u001b[0;34m(\u001b[0m\u001b[0;34m)\u001b[0m  \u001b[0;31m# may raise StopIteration\u001b[0m\u001b[0;34m\u001b[0m\u001b[0;34m\u001b[0m\u001b[0m\n\u001b[0;32m--> 570\u001b[0;31m         \u001b[0mdata\u001b[0m \u001b[0;34m=\u001b[0m \u001b[0mself\u001b[0m\u001b[0;34m.\u001b[0m\u001b[0m_dataset_fetcher\u001b[0m\u001b[0;34m.\u001b[0m\u001b[0mfetch\u001b[0m\u001b[0;34m(\u001b[0m\u001b[0mindex\u001b[0m\u001b[0;34m)\u001b[0m  \u001b[0;31m# may raise StopIteration\u001b[0m\u001b[0;34m\u001b[0m\u001b[0;34m\u001b[0m\u001b[0m\n\u001b[0m\u001b[1;32m    571\u001b[0m         \u001b[0;32mif\u001b[0m \u001b[0mself\u001b[0m\u001b[0;34m.\u001b[0m\u001b[0m_pin_memory\u001b[0m\u001b[0;34m:\u001b[0m\u001b[0;34m\u001b[0m\u001b[0;34m\u001b[0m\u001b[0m\n\u001b[1;32m    572\u001b[0m             \u001b[0mdata\u001b[0m \u001b[0;34m=\u001b[0m \u001b[0m_utils\u001b[0m\u001b[0;34m.\u001b[0m\u001b[0mpin_memory\u001b[0m\u001b[0;34m.\u001b[0m\u001b[0mpin_memory\u001b[0m\u001b[0;34m(\u001b[0m\u001b[0mdata\u001b[0m\u001b[0;34m)\u001b[0m\u001b[0;34m\u001b[0m\u001b[0;34m\u001b[0m\u001b[0m\n",
      "\u001b[0;32m/data/zsj/miniconda3/lib/python3.7/site-packages/torch/utils/data/_utils/fetch.py\u001b[0m in \u001b[0;36mfetch\u001b[0;34m(self, possibly_batched_index)\u001b[0m\n\u001b[1;32m     50\u001b[0m         \u001b[0;32melse\u001b[0m\u001b[0;34m:\u001b[0m\u001b[0;34m\u001b[0m\u001b[0;34m\u001b[0m\u001b[0m\n\u001b[1;32m     51\u001b[0m             \u001b[0mdata\u001b[0m \u001b[0;34m=\u001b[0m \u001b[0mself\u001b[0m\u001b[0;34m.\u001b[0m\u001b[0mdataset\u001b[0m\u001b[0;34m[\u001b[0m\u001b[0mpossibly_batched_index\u001b[0m\u001b[0;34m]\u001b[0m\u001b[0;34m\u001b[0m\u001b[0;34m\u001b[0m\u001b[0m\n\u001b[0;32m---> 52\u001b[0;31m         \u001b[0;32mreturn\u001b[0m \u001b[0mself\u001b[0m\u001b[0;34m.\u001b[0m\u001b[0mcollate_fn\u001b[0m\u001b[0;34m(\u001b[0m\u001b[0mdata\u001b[0m\u001b[0;34m)\u001b[0m\u001b[0;34m\u001b[0m\u001b[0;34m\u001b[0m\u001b[0m\n\u001b[0m",
      "\u001b[0;32m/data/zsj/pinsage/sampler.py\u001b[0m in \u001b[0;36mcollate_test\u001b[0;34m(self, samples)\u001b[0m\n\u001b[1;32m     20\u001b[0m     \u001b[0;32mdef\u001b[0m \u001b[0mcollate_test\u001b[0m\u001b[0;34m(\u001b[0m\u001b[0mself\u001b[0m\u001b[0;34m,\u001b[0m \u001b[0msamples\u001b[0m\u001b[0;34m)\u001b[0m\u001b[0;34m:\u001b[0m\u001b[0;34m\u001b[0m\u001b[0;34m\u001b[0m\u001b[0m\n\u001b[1;32m     21\u001b[0m         \u001b[0mbatch\u001b[0m \u001b[0;34m=\u001b[0m \u001b[0mtorch\u001b[0m\u001b[0;34m.\u001b[0m\u001b[0mLongTensor\u001b[0m\u001b[0;34m(\u001b[0m\u001b[0msamples\u001b[0m\u001b[0;34m)\u001b[0m\u001b[0;34m\u001b[0m\u001b[0;34m\u001b[0m\u001b[0m\n\u001b[0;32m---> 22\u001b[0;31m         \u001b[0mblocks\u001b[0m \u001b[0;34m=\u001b[0m \u001b[0mself\u001b[0m\u001b[0;34m.\u001b[0m\u001b[0msampler\u001b[0m\u001b[0;34m.\u001b[0m\u001b[0msample_blocks_interface\u001b[0m\u001b[0;34m(\u001b[0m\u001b[0mbatch\u001b[0m\u001b[0;34m)\u001b[0m\u001b[0;34m\u001b[0m\u001b[0;34m\u001b[0m\u001b[0m\n\u001b[0m\u001b[1;32m     23\u001b[0m         \u001b[0massign_features_to_blocks\u001b[0m\u001b[0;34m(\u001b[0m\u001b[0mblocks\u001b[0m\u001b[0;34m,\u001b[0m \u001b[0mself\u001b[0m\u001b[0;34m.\u001b[0m\u001b[0mg\u001b[0m\u001b[0;34m,\u001b[0m \u001b[0mself\u001b[0m\u001b[0;34m.\u001b[0m\u001b[0mntype\u001b[0m\u001b[0;34m)\u001b[0m\u001b[0;34m\u001b[0m\u001b[0;34m\u001b[0m\u001b[0m\n\u001b[1;32m     24\u001b[0m         \u001b[0;32mreturn\u001b[0m \u001b[0mblocks\u001b[0m\u001b[0;34m\u001b[0m\u001b[0;34m\u001b[0m\u001b[0m\n",
      "\u001b[0;32m/data/zsj/pinsage/sampler.py\u001b[0m in \u001b[0;36msample_blocks_interface\u001b[0;34m(self, seeds)\u001b[0m\n\u001b[1;32m    108\u001b[0m         \u001b[0mblocks\u001b[0m \u001b[0;34m=\u001b[0m \u001b[0;34m[\u001b[0m\u001b[0;34m]\u001b[0m\u001b[0;34m\u001b[0m\u001b[0;34m\u001b[0m\u001b[0m\n\u001b[1;32m    109\u001b[0m         \u001b[0;32mfor\u001b[0m \u001b[0msampler\u001b[0m \u001b[0;32min\u001b[0m \u001b[0mself\u001b[0m\u001b[0;34m.\u001b[0m\u001b[0msamplers_interface\u001b[0m\u001b[0;34m:\u001b[0m\u001b[0;34m\u001b[0m\u001b[0;34m\u001b[0m\u001b[0m\n\u001b[0;32m--> 110\u001b[0;31m             \u001b[0mfrontier\u001b[0m \u001b[0;34m=\u001b[0m \u001b[0msampler\u001b[0m\u001b[0;34m(\u001b[0m\u001b[0mseeds\u001b[0m\u001b[0;34m)\u001b[0m\u001b[0;34m\u001b[0m\u001b[0;34m\u001b[0m\u001b[0m\n\u001b[0m\u001b[1;32m    111\u001b[0m             \u001b[0mblock\u001b[0m \u001b[0;34m=\u001b[0m \u001b[0mdgl\u001b[0m\u001b[0;34m.\u001b[0m\u001b[0mto_block\u001b[0m\u001b[0;34m(\u001b[0m\u001b[0mfrontier\u001b[0m\u001b[0;34m,\u001b[0m \u001b[0mseeds\u001b[0m\u001b[0;34m)\u001b[0m\u001b[0;34m\u001b[0m\u001b[0;34m\u001b[0m\u001b[0m\n\u001b[1;32m    112\u001b[0m             \u001b[0mseeds\u001b[0m \u001b[0;34m=\u001b[0m \u001b[0mblock\u001b[0m\u001b[0;34m.\u001b[0m\u001b[0msrcdata\u001b[0m\u001b[0;34m[\u001b[0m\u001b[0mdgl\u001b[0m\u001b[0;34m.\u001b[0m\u001b[0mNID\u001b[0m\u001b[0;34m]\u001b[0m\u001b[0;34m\u001b[0m\u001b[0;34m\u001b[0m\u001b[0m\n",
      "\u001b[0;32m/data/zsj/miniconda3/lib/python3.7/site-packages/dgl/sampling/pinsage.py\u001b[0m in \u001b[0;36m__call__\u001b[0;34m(self, seed_nodes)\u001b[0m\n\u001b[1;32m    119\u001b[0m             \u001b[0;34m{\u001b[0m\u001b[0mself\u001b[0m\u001b[0;34m.\u001b[0m\u001b[0mntype\u001b[0m\u001b[0;34m:\u001b[0m \u001b[0mself\u001b[0m\u001b[0;34m.\u001b[0m\u001b[0mG\u001b[0m\u001b[0;34m.\u001b[0m\u001b[0mnumber_of_nodes\u001b[0m\u001b[0;34m(\u001b[0m\u001b[0mself\u001b[0m\u001b[0;34m.\u001b[0m\u001b[0mntype\u001b[0m\u001b[0;34m)\u001b[0m\u001b[0;34m}\u001b[0m\u001b[0;34m\u001b[0m\u001b[0;34m\u001b[0m\u001b[0m\n\u001b[1;32m    120\u001b[0m         )\n\u001b[0;32m--> 121\u001b[0;31m         \u001b[0mneighbor_graph\u001b[0m \u001b[0;34m=\u001b[0m \u001b[0mtransform\u001b[0m\u001b[0;34m.\u001b[0m\u001b[0mto_simple\u001b[0m\u001b[0;34m(\u001b[0m\u001b[0mneighbor_graph\u001b[0m\u001b[0;34m,\u001b[0m \u001b[0mreturn_counts\u001b[0m\u001b[0;34m=\u001b[0m\u001b[0mself\u001b[0m\u001b[0;34m.\u001b[0m\u001b[0mweight_column\u001b[0m\u001b[0;34m)\u001b[0m\u001b[0;34m\u001b[0m\u001b[0;34m\u001b[0m\u001b[0m\n\u001b[0m\u001b[1;32m    122\u001b[0m         \u001b[0mcounts\u001b[0m \u001b[0;34m=\u001b[0m \u001b[0mneighbor_graph\u001b[0m\u001b[0;34m.\u001b[0m\u001b[0medata\u001b[0m\u001b[0;34m[\u001b[0m\u001b[0mself\u001b[0m\u001b[0;34m.\u001b[0m\u001b[0mweight_column\u001b[0m\u001b[0;34m]\u001b[0m\u001b[0;34m\u001b[0m\u001b[0;34m\u001b[0m\u001b[0m\n\u001b[1;32m    123\u001b[0m         \u001b[0mneighbor_graph\u001b[0m \u001b[0;34m=\u001b[0m \u001b[0mselect_topk\u001b[0m\u001b[0;34m(\u001b[0m\u001b[0mneighbor_graph\u001b[0m\u001b[0;34m,\u001b[0m \u001b[0mself\u001b[0m\u001b[0;34m.\u001b[0m\u001b[0mnum_neighbors\u001b[0m\u001b[0;34m,\u001b[0m \u001b[0mself\u001b[0m\u001b[0;34m.\u001b[0m\u001b[0mweight_column\u001b[0m\u001b[0;34m)\u001b[0m\u001b[0;34m\u001b[0m\u001b[0;34m\u001b[0m\u001b[0m\n",
      "\u001b[0;32m/data/zsj/miniconda3/lib/python3.7/site-packages/dgl/transform.py\u001b[0m in \u001b[0;36mto_simple\u001b[0;34m(g, return_counts, writeback_mapping, copy_ndata, copy_edata, aggregator)\u001b[0m\n\u001b[1;32m   2043\u001b[0m     \u001b[0;32mif\u001b[0m \u001b[0mg\u001b[0m\u001b[0;34m.\u001b[0m\u001b[0mis_block\u001b[0m\u001b[0;34m:\u001b[0m\u001b[0;34m\u001b[0m\u001b[0;34m\u001b[0m\u001b[0m\n\u001b[1;32m   2044\u001b[0m         \u001b[0;32mraise\u001b[0m \u001b[0mDGLError\u001b[0m\u001b[0;34m(\u001b[0m\u001b[0;34m'Cannot convert a block graph to a simple graph.'\u001b[0m\u001b[0;34m)\u001b[0m\u001b[0;34m\u001b[0m\u001b[0;34m\u001b[0m\u001b[0m\n\u001b[0;32m-> 2045\u001b[0;31m     \u001b[0msimple_graph_index\u001b[0m\u001b[0;34m,\u001b[0m \u001b[0mcounts\u001b[0m\u001b[0;34m,\u001b[0m \u001b[0medge_maps\u001b[0m \u001b[0;34m=\u001b[0m \u001b[0m_CAPI_DGLToSimpleHetero\u001b[0m\u001b[0;34m(\u001b[0m\u001b[0mg\u001b[0m\u001b[0;34m.\u001b[0m\u001b[0m_graph\u001b[0m\u001b[0;34m)\u001b[0m\u001b[0;34m\u001b[0m\u001b[0;34m\u001b[0m\u001b[0m\n\u001b[0m\u001b[1;32m   2046\u001b[0m     \u001b[0msimple_graph\u001b[0m \u001b[0;34m=\u001b[0m \u001b[0mDGLHeteroGraph\u001b[0m\u001b[0;34m(\u001b[0m\u001b[0msimple_graph_index\u001b[0m\u001b[0;34m,\u001b[0m \u001b[0mg\u001b[0m\u001b[0;34m.\u001b[0m\u001b[0mntypes\u001b[0m\u001b[0;34m,\u001b[0m \u001b[0mg\u001b[0m\u001b[0;34m.\u001b[0m\u001b[0metypes\u001b[0m\u001b[0;34m)\u001b[0m\u001b[0;34m\u001b[0m\u001b[0;34m\u001b[0m\u001b[0m\n\u001b[1;32m   2047\u001b[0m     \u001b[0mcounts\u001b[0m \u001b[0;34m=\u001b[0m \u001b[0;34m[\u001b[0m\u001b[0mF\u001b[0m\u001b[0;34m.\u001b[0m\u001b[0mfrom_dgl_nd\u001b[0m\u001b[0;34m(\u001b[0m\u001b[0mcount\u001b[0m\u001b[0;34m)\u001b[0m \u001b[0;32mfor\u001b[0m \u001b[0mcount\u001b[0m \u001b[0;32min\u001b[0m \u001b[0mcounts\u001b[0m\u001b[0;34m]\u001b[0m\u001b[0;34m\u001b[0m\u001b[0;34m\u001b[0m\u001b[0m\n",
      "\u001b[0;31mKeyboardInterrupt\u001b[0m: "
     ]
    }
   ],
   "source": [
    "h_item_batches = []\n",
    "for blocks in dataloader_test:\n",
    "    h_item_batches.append(model.get_repr(blocks))"
   ]
  },
  {
   "cell_type": "code",
   "execution_count": 10,
   "id": "af7de1aa",
   "metadata": {},
   "outputs": [
    {
     "name": "stdout",
     "output_type": "stream",
     "text": [
      "CPU times: user 58.6 s, sys: 1.08 s, total: 59.6 s\n",
      "Wall time: 2.92 s\n"
     ]
    }
   ],
   "source": [
    "%%time\n",
    "blocks = next(dataloader_test.__iter__())"
   ]
  },
  {
   "cell_type": "code",
   "execution_count": 57,
   "id": "4a5d3c82",
   "metadata": {
    "collapsed": true
   },
   "outputs": [
    {
     "ename": "NameError",
     "evalue": "name 'blocks' is not defined",
     "output_type": "error",
     "traceback": [
      "\u001b[0;31m---------------------------------------------------------------------------\u001b[0m",
      "\u001b[0;31mNameError\u001b[0m                                 Traceback (most recent call last)",
      "\u001b[0;32m/tmp/ipykernel_14297/3601238822.py\u001b[0m in \u001b[0;36m<module>\u001b[0;34m\u001b[0m\n\u001b[0;32m----> 1\u001b[0;31m \u001b[0mmodel\u001b[0m\u001b[0;34m.\u001b[0m\u001b[0mget_repr\u001b[0m\u001b[0;34m(\u001b[0m\u001b[0mblocks\u001b[0m\u001b[0;34m)\u001b[0m\u001b[0;34m\u001b[0m\u001b[0;34m\u001b[0m\u001b[0m\n\u001b[0m",
      "\u001b[0;31mNameError\u001b[0m: name 'blocks' is not defined"
     ]
    }
   ],
   "source": [
    "model.get_repr(blocks)"
   ]
  },
  {
   "cell_type": "code",
   "execution_count": 61,
   "id": "87b8569c",
   "metadata": {},
   "outputs": [],
   "source": [
    "pos_graph, neg_graph, blocks = next(dataloader_it)\n",
    "\n",
    "pos_score, neg_score = model(pos_graph, neg_graph, blocks)"
   ]
  },
  {
   "cell_type": "code",
   "execution_count": 62,
   "id": "1bc87c86",
   "metadata": {},
   "outputs": [
    {
     "data": {
      "text/plain": [
       "tensor(1.0042, grad_fn=<MeanBackward0>)"
      ]
     },
     "execution_count": 62,
     "metadata": {},
     "output_type": "execute_result"
    }
   ],
   "source": [
    "loss = (neg_score - pos_score + 1).clamp(min=0).mean()\n",
    "loss"
   ]
  },
  {
   "cell_type": "code",
   "execution_count": 150,
   "id": "6b36350e",
   "metadata": {},
   "outputs": [],
   "source": [
    "sampler = dgl.sampling.PinSAGESampler(g, 'item', 'user', 2, 0.5, 1000, 30)"
   ]
  },
  {
   "cell_type": "code",
   "execution_count": 151,
   "id": "0dbb1c76",
   "metadata": {},
   "outputs": [
    {
     "data": {
      "text/plain": [
       "(tensor([   2,    0,   33,   12,    7,  759,  145,   39,  114,  391,  175,  536,\n",
       "         1179,  180,  323,   41,   67,  129,  124, 1246, 1119,    1,   81,  206,\n",
       "         2279,  243,  281,  282, 1680,  687]),\n",
       " tensor([2, 2, 2, 2, 2, 2, 2, 2, 2, 2, 2, 2, 2, 2, 2, 2, 2, 2, 2, 2, 2, 2, 2, 2,\n",
       "         2, 2, 2, 2, 2, 2]))"
      ]
     },
     "execution_count": 151,
     "metadata": {},
     "output_type": "execute_result"
    }
   ],
   "source": [
    "frontier = sampler([2])\n",
    "frontier.all_edges()"
   ]
  },
  {
   "cell_type": "code",
   "execution_count": 152,
   "id": "5afd0827",
   "metadata": {},
   "outputs": [
    {
     "data": {
      "text/plain": [
       "(tensor([   2,    0,    7,   12, 1119,  282,   33, 1246,  114,  981,  145,  448,\n",
       "          297,  983, 1304,  831,   40,   41,   47,  467,  699,  562,  193,  658,\n",
       "          323, 1179,   88, 1111,  124, 1070]),\n",
       " tensor([2, 2, 2, 2, 2, 2, 2, 2, 2, 2, 2, 2, 2, 2, 2, 2, 2, 2, 2, 2, 2, 2, 2, 2,\n",
       "         2, 2, 2, 2, 2, 2]))"
      ]
     },
     "execution_count": 152,
     "metadata": {},
     "output_type": "execute_result"
    }
   ],
   "source": [
    "frontier = sampler([2])\n",
    "frontier.all_edges()"
   ]
  },
  {
   "cell_type": "code",
   "execution_count": 153,
   "id": "875d058c",
   "metadata": {},
   "outputs": [
    {
     "data": {
      "text/plain": [
       "(tensor([   2,    0,    7,   12,  145,  114,   33,  297,  176,   41, 3524,  719,\n",
       "         1203,  161,  823,  281,  661,    6, 1103,  574,  433, 1246, 1089,  266,\n",
       "         1111,  206,   81, 4892,  764, 1308]),\n",
       " tensor([2, 2, 2, 2, 2, 2, 2, 2, 2, 2, 2, 2, 2, 2, 2, 2, 2, 2, 2, 2, 2, 2, 2, 2,\n",
       "         2, 2, 2, 2, 2, 2]))"
      ]
     },
     "execution_count": 153,
     "metadata": {},
     "output_type": "execute_result"
    }
   ],
   "source": [
    "frontier = sampler([2])\n",
    "frontier.all_edges()"
   ]
  },
  {
   "cell_type": "code",
   "execution_count": 117,
   "id": "1484d806",
   "metadata": {},
   "outputs": [
    {
     "data": {
      "text/plain": [
       "(tensor([   6, 3482, 2693, 4539, 4717,   55, 7313, 4515,   79,   80]),\n",
       " tensor([6, 6, 6, 6, 6, 6, 6, 6, 6, 6]))"
      ]
     },
     "execution_count": 117,
     "metadata": {},
     "output_type": "execute_result"
    }
   ],
   "source": [
    "frontier = sampler([6])\n",
    "frontier.all_edges()"
   ]
  },
  {
   "cell_type": "code",
   "execution_count": 118,
   "id": "cf0cfded",
   "metadata": {},
   "outputs": [
    {
     "data": {
      "text/plain": [
       "{'weights': tensor([1364,  265,  248,  202,  192,  179,  174,  161,  149,  145]), '_ID': tensor([   5,  814,  660,  987, 1002,   29, 1367,  981,   35,   36])}"
      ]
     },
     "execution_count": 118,
     "metadata": {},
     "output_type": "execute_result"
    }
   ],
   "source": [
    "frontier.edata"
   ]
  },
  {
   "cell_type": "code",
   "execution_count": 119,
   "id": "6e84f26c",
   "metadata": {},
   "outputs": [
    {
     "data": {
      "text/plain": [
       "{'weights': tensor([1364,  265,  248,  202,  192,  179,  174,  161,  149,  145]), '_ID': tensor([   5,  814,  660,  987, 1002,   29, 1367,  981,   35,   36])}"
      ]
     },
     "execution_count": 119,
     "metadata": {},
     "output_type": "execute_result"
    }
   ],
   "source": [
    "frontier.edata"
   ]
  },
  {
   "cell_type": "code",
   "execution_count": null,
   "id": "9a73abb1",
   "metadata": {},
   "outputs": [],
   "source": []
  },
  {
   "cell_type": "code",
   "execution_count": null,
   "id": "37c56a86",
   "metadata": {},
   "outputs": [],
   "source": []
  },
  {
   "cell_type": "code",
   "execution_count": 12,
   "id": "7b7b492b",
   "metadata": {},
   "outputs": [
    {
     "data": {
      "text/plain": [
       "tensor(0.7279, grad_fn=<BinaryCrossEntropyWithLogitsBackward0>)"
      ]
     },
     "execution_count": 12,
     "metadata": {},
     "output_type": "execute_result"
    }
   ],
   "source": [
    "pos_label = torch.ones_like(pos_score)\n",
    "neg_label = torch.zeros_like(neg_score)\n",
    "score = torch.cat([pos_score, neg_score])\n",
    "labels = torch.cat([pos_label, neg_label])\n",
    "loss = F.binary_cross_entropy_with_logits(score, labels)\n",
    "loss"
   ]
  },
  {
   "cell_type": "code",
   "execution_count": null,
   "id": "d6c4260a",
   "metadata": {},
   "outputs": [],
   "source": []
  },
  {
   "cell_type": "code",
   "execution_count": 46,
   "id": "29e256f6",
   "metadata": {},
   "outputs": [
    {
     "name": "stdout",
     "output_type": "stream",
     "text": [
      "(16280820, 3) uid         1478955\n",
      "iid          167329\n",
      "duration      32142\n",
      "dtype: int64\n",
      "(4829884, 4) uid         457923\n",
      "iid         117285\n",
      "duration     15787\n",
      "uid_cnt        358\n",
      "dtype: int64\n"
     ]
    }
   ],
   "source": [
    "data = pd.read_csv(file_path, header=None, sep=\" \")\n",
    "data.columns = [\"uid\", \"iid\", \"duration\"]\n",
    "print(data.shape, data.nunique())\n",
    "\n",
    "data = data[data['uid']!=data['iid']]\n",
    "data = data[data['duration']>=30]\n",
    "data['uid_cnt'] = data['uid'].map(dict(data['uid'].value_counts()))\n",
    "data = data[data['uid_cnt']>=5]\n",
    "print(data.shape, data.nunique())"
   ]
  },
  {
   "cell_type": "code",
   "execution_count": 47,
   "id": "9ff869aa",
   "metadata": {},
   "outputs": [
    {
     "name": "stdout",
     "output_type": "stream",
     "text": [
      "(16280820, 3) uid         1478955\n",
      "iid          167329\n",
      "duration      32142\n",
      "dtype: int64\n",
      "(7247959, 4) uid         555007\n",
      "iid         129899\n",
      "duration     16103\n",
      "uid_cnt        459\n",
      "dtype: int64\n"
     ]
    }
   ],
   "source": [
    "data = pd.read_csv(file_path, header=None, sep=\" \")\n",
    "data.columns = [\"uid\", \"iid\", \"duration\"]\n",
    "print(data.shape, data.nunique())\n",
    "\n",
    "data = data[data['uid']!=data['iid']]\n",
    "data = data[data['duration']>=10]\n",
    "data['uid_cnt'] = data['uid'].map(dict(data['uid'].value_counts()))\n",
    "data = data[data['uid_cnt']>=5]\n",
    "print(data.shape, data.nunique())"
   ]
  },
  {
   "cell_type": "code",
   "execution_count": null,
   "id": "31b73e35",
   "metadata": {},
   "outputs": [],
   "source": []
  },
  {
   "cell_type": "code",
   "execution_count": 53,
   "id": "65a6c105",
   "metadata": {},
   "outputs": [
    {
     "data": {
      "text/plain": [
       "tensor([[ 0.0420, -0.0065, -0.0060,  ...,  0.0984,  0.0282,  0.1073],\n",
       "        [ 0.0118, -0.0069,  0.0025,  ...,  0.4265,  0.0041, -0.0065],\n",
       "        [ 0.0035,  0.0093,  0.0010,  ...,  0.2216,  0.0032, -0.0034],\n",
       "        ...,\n",
       "        [ 0.0878, -0.0071, -0.0010,  ...,  0.2556,  0.0091, -0.0032],\n",
       "        [ 0.0763, -0.0056,  0.0035,  ...,  0.0022,  0.0460, -0.0017],\n",
       "        [ 0.3204,  0.0024,  0.0910,  ...,  0.0565, -0.0008,  0.0034]],\n",
       "       grad_fn=<AddBackward0>)"
      ]
     },
     "execution_count": 53,
     "metadata": {},
     "output_type": "execute_result"
    }
   ],
   "source": [
    "h"
   ]
  },
  {
   "cell_type": "code",
   "execution_count": null,
   "id": "afd95b84",
   "metadata": {},
   "outputs": [],
   "source": []
  },
  {
   "cell_type": "code",
   "execution_count": 63,
   "id": "91e684db",
   "metadata": {},
   "outputs": [],
   "source": [
    "h = model.get_repr(blocks)"
   ]
  },
  {
   "cell_type": "code",
   "execution_count": 97,
   "id": "058c8635",
   "metadata": {},
   "outputs": [
    {
     "data": {
      "text/plain": [
       "(Graph(num_nodes=663, num_edges=228,\n",
       "       ndata_schemes={'_ID': Scheme(shape=(), dtype=torch.int64)}\n",
       "       edata_schemes={}),\n",
       " Graph(num_nodes=663, num_edges=228,\n",
       "       ndata_schemes={'_ID': Scheme(shape=(), dtype=torch.int64)}\n",
       "       edata_schemes={}))"
      ]
     },
     "execution_count": 97,
     "metadata": {},
     "output_type": "execute_result"
    }
   ],
   "source": [
    "pos_graph, neg_graph"
   ]
  },
  {
   "cell_type": "code",
   "execution_count": 101,
   "id": "60b6a166",
   "metadata": {},
   "outputs": [],
   "source": [
    "n_nodes = g.number_of_nodes('item')"
   ]
  },
  {
   "cell_type": "code",
   "execution_count": 102,
   "id": "299198fc",
   "metadata": {},
   "outputs": [
    {
     "data": {
      "text/plain": [
       "27381"
      ]
     },
     "execution_count": 102,
     "metadata": {},
     "output_type": "execute_result"
    }
   ],
   "source": [
    "n_nodes"
   ]
  },
  {
   "cell_type": "code",
   "execution_count": 103,
   "id": "c3eb8f81",
   "metadata": {},
   "outputs": [],
   "source": [
    "bias = torch.nn.Parameter(torch.zeros(n_nodes))"
   ]
  },
  {
   "cell_type": "code",
   "execution_count": 104,
   "id": "0f030daf",
   "metadata": {},
   "outputs": [
    {
     "data": {
      "text/plain": [
       "Parameter containing:\n",
       "tensor([0., 0., 0.,  ..., 0., 0., 0.], requires_grad=True)"
      ]
     },
     "execution_count": 104,
     "metadata": {},
     "output_type": "execute_result"
    }
   ],
   "source": [
    "bias"
   ]
  },
  {
   "cell_type": "code",
   "execution_count": 64,
   "id": "0c5e981d",
   "metadata": {},
   "outputs": [],
   "source": [
    "pos_graph.ndata['h'] = h"
   ]
  },
  {
   "cell_type": "code",
   "execution_count": 65,
   "id": "00abd47a",
   "metadata": {},
   "outputs": [
    {
     "data": {
      "text/plain": [
       "tensor([[ 0.1900, -0.0058, -0.0063,  ..., -0.0010, -0.0037,  0.0608],\n",
       "        [ 0.0665,  0.0641,  0.2258,  ...,  0.0032, -0.0023,  0.1422],\n",
       "        [ 0.0465,  0.1795,  0.0619,  ...,  0.1856, -0.0073,  0.0369],\n",
       "        ...,\n",
       "        [-0.0033,  0.0018,  0.0653,  ..., -0.0038,  0.0322,  0.0031],\n",
       "        [ 0.0051,  0.0773,  0.0352,  ...,  0.0027,  0.0076,  0.1767],\n",
       "        [-0.0003,  0.0287,  0.0401,  ..., -0.0076,  0.0065,  0.0067]],\n",
       "       grad_fn=<AddBackward0>)"
      ]
     },
     "execution_count": 65,
     "metadata": {},
     "output_type": "execute_result"
    }
   ],
   "source": [
    "pos_graph.ndata['h']"
   ]
  },
  {
   "cell_type": "code",
   "execution_count": 87,
   "id": "22b85192",
   "metadata": {},
   "outputs": [],
   "source": [
    "pos_graph.apply_edges(fn.u_dot_v('h', 'h', 's'))"
   ]
  },
  {
   "cell_type": "code",
   "execution_count": 90,
   "id": "59b404e1",
   "metadata": {},
   "outputs": [],
   "source": [
    "pos_graph.edata['s'] = pos_graph.edata['s'].view(-1)"
   ]
  },
  {
   "cell_type": "code",
   "execution_count": 76,
   "id": "b03af4be",
   "metadata": {},
   "outputs": [],
   "source": [
    "pos_graph.apply_edges(_add_bias)"
   ]
  },
  {
   "cell_type": "code",
   "execution_count": 73,
   "id": "c34da4fa",
   "metadata": {},
   "outputs": [],
   "source": [
    "bias = nn.Parameter(torch.zeros(g.number_of_nodes('item')))"
   ]
  },
  {
   "cell_type": "code",
   "execution_count": 82,
   "id": "66956698",
   "metadata": {},
   "outputs": [],
   "source": [
    "def _add_bias(edges):\n",
    "    bias_src = bias[edges.src[dgl.NID]]\n",
    "    bias_dst = bias[edges.dst[dgl.NID]]\n",
    "    return {'s': edges.data['s'] + bias_src + bias_dst}"
   ]
  },
  {
   "cell_type": "code",
   "execution_count": 93,
   "id": "87d83f79",
   "metadata": {},
   "outputs": [],
   "source": [
    "pos_graph.apply_edges(_add_bias)"
   ]
  },
  {
   "cell_type": "code",
   "execution_count": 83,
   "id": "ee32e79f",
   "metadata": {},
   "outputs": [],
   "source": [
    "pos_graph.apply_edges(_add_bias)"
   ]
  },
  {
   "cell_type": "code",
   "execution_count": 95,
   "id": "e4c8553d",
   "metadata": {},
   "outputs": [
    {
     "data": {
      "text/plain": [
       "tensor(0.5002, grad_fn=<MeanBackward0>)"
      ]
     },
     "execution_count": 95,
     "metadata": {},
     "output_type": "execute_result"
    }
   ],
   "source": [
    "pos_graph.edata['s'].mean()"
   ]
  },
  {
   "cell_type": "code",
   "execution_count": 110,
   "id": "eb2b4d37",
   "metadata": {},
   "outputs": [],
   "source": [
    "item_cnt_df['walk_weight'] = 1/item_cnt_df['cnt'].map(lambda x:pow(x, 0.75))"
   ]
  },
  {
   "cell_type": "code",
   "execution_count": 112,
   "id": "f8e1ddbe",
   "metadata": {},
   "outputs": [
    {
     "data": {
      "text/plain": [
       "2652.5198938992044"
      ]
     },
     "execution_count": 112,
     "metadata": {},
     "output_type": "execute_result"
    }
   ],
   "source": [
    "1/0.000377"
   ]
  },
  {
   "cell_type": "code",
   "execution_count": 115,
   "id": "b4e9f1b0",
   "metadata": {},
   "outputs": [
    {
     "data": {
      "text/plain": [
       "0.0"
      ]
     },
     "execution_count": 115,
     "metadata": {},
     "output_type": "execute_result"
    }
   ],
   "source": [
    "data['duration'].map(math.log1p).min()"
   ]
  },
  {
   "cell_type": "code",
   "execution_count": 119,
   "id": "acba727d",
   "metadata": {},
   "outputs": [
    {
     "data": {
      "text/plain": [
       "0.6931471805599453"
      ]
     },
     "execution_count": 119,
     "metadata": {},
     "output_type": "execute_result"
    }
   ],
   "source": [
    "math.log1p(1)"
   ]
  },
  {
   "cell_type": "code",
   "execution_count": null,
   "id": "702e3315",
   "metadata": {},
   "outputs": [],
   "source": []
  },
  {
   "cell_type": "code",
   "execution_count": 123,
   "id": "a4374e95",
   "metadata": {
    "scrolled": true
   },
   "outputs": [
    {
     "data": {
      "text/html": [
       "<div>\n",
       "<style scoped>\n",
       "    .dataframe tbody tr th:only-of-type {\n",
       "        vertical-align: middle;\n",
       "    }\n",
       "\n",
       "    .dataframe tbody tr th {\n",
       "        vertical-align: top;\n",
       "    }\n",
       "\n",
       "    .dataframe thead th {\n",
       "        text-align: right;\n",
       "    }\n",
       "</style>\n",
       "<table border=\"1\" class=\"dataframe\">\n",
       "  <thead>\n",
       "    <tr style=\"text-align: right;\">\n",
       "      <th></th>\n",
       "      <th>iid</th>\n",
       "      <th>cnt</th>\n",
       "      <th>walk_weight</th>\n",
       "    </tr>\n",
       "  </thead>\n",
       "  <tbody>\n",
       "    <tr>\n",
       "      <th>23537</th>\n",
       "      <td>7881299350955178</td>\n",
       "      <td>15</td>\n",
       "      <td>0.131199</td>\n",
       "    </tr>\n",
       "  </tbody>\n",
       "</table>\n",
       "</div>"
      ],
      "text/plain": [
       "                    iid  cnt  walk_weight\n",
       "23537  7881299350955178   15     0.131199"
      ]
     },
     "execution_count": 123,
     "metadata": {},
     "output_type": "execute_result"
    }
   ],
   "source": [
    "item_cnt_df[item_cnt_df['iid']==7881299350955178]"
   ]
  },
  {
   "cell_type": "code",
   "execution_count": null,
   "id": "25a4e847",
   "metadata": {},
   "outputs": [],
   "source": []
  },
  {
   "cell_type": "code",
   "execution_count": 96,
   "id": "8f1faff8",
   "metadata": {},
   "outputs": [
    {
     "data": {
      "text/plain": [
       "Parameter containing:\n",
       "tensor([0., 0., 0.,  ..., 0., 0., 0.], requires_grad=True)"
      ]
     },
     "execution_count": 96,
     "metadata": {},
     "output_type": "execute_result"
    }
   ],
   "source": [
    "bias"
   ]
  },
  {
   "cell_type": "code",
   "execution_count": 86,
   "id": "7cdc8ef5",
   "metadata": {},
   "outputs": [
    {
     "data": {
      "text/plain": [
       "tensor(1., grad_fn=<MeanBackward0>)"
      ]
     },
     "execution_count": 86,
     "metadata": {},
     "output_type": "execute_result"
    }
   ],
   "source": [
    "(pos_graph.edata['s'] - pos_graph.edata['s']+1).mean()"
   ]
  },
  {
   "cell_type": "code",
   "execution_count": 80,
   "id": "affd64de",
   "metadata": {},
   "outputs": [],
   "source": [
    "pos_graph.edata['s'] = pos_graph.edata['s'].view(-1)"
   ]
  },
  {
   "cell_type": "code",
   "execution_count": null,
   "id": "b6176636",
   "metadata": {},
   "outputs": [],
   "source": []
  },
  {
   "cell_type": "code",
   "execution_count": 126,
   "id": "6c649e83",
   "metadata": {},
   "outputs": [
    {
     "data": {
      "text/plain": [
       "<dgl.view.HeteroEdgeView at 0x7fca12cf6510>"
      ]
     },
     "execution_count": 126,
     "metadata": {},
     "output_type": "execute_result"
    }
   ],
   "source": [
    "pos_graph.edges"
   ]
  },
  {
   "cell_type": "code",
   "execution_count": 122,
   "id": "71631838",
   "metadata": {
    "collapsed": true
   },
   "outputs": [
    {
     "ename": "NameError",
     "evalue": "name 'edges' is not defined",
     "output_type": "error",
     "traceback": [
      "\u001b[0;31m---------------------------------------------------------------------------\u001b[0m",
      "\u001b[0;31mNameError\u001b[0m                                 Traceback (most recent call last)",
      "\u001b[0;32m/tmp/ipykernel_22679/1216333983.py\u001b[0m in \u001b[0;36m<module>\u001b[0;34m\u001b[0m\n\u001b[0;32m----> 1\u001b[0;31m \u001b[0medges\u001b[0m\u001b[0;34m.\u001b[0m\u001b[0msrc\u001b[0m\u001b[0;34m[\u001b[0m\u001b[0mdgl\u001b[0m\u001b[0;34m.\u001b[0m\u001b[0mNID\u001b[0m\u001b[0;34m]\u001b[0m\u001b[0;34m\u001b[0m\u001b[0;34m\u001b[0m\u001b[0m\n\u001b[0m",
      "\u001b[0;31mNameError\u001b[0m: name 'edges' is not defined"
     ]
    }
   ],
   "source": [
    "edges.src[dgl.NID]"
   ]
  },
  {
   "cell_type": "code",
   "execution_count": 141,
   "id": "19467f9a",
   "metadata": {
    "collapsed": true
   },
   "outputs": [
    {
     "ename": "KeyError",
     "evalue": "'s'",
     "output_type": "error",
     "traceback": [
      "\u001b[0;31m---------------------------------------------------------------------------\u001b[0m",
      "\u001b[0;31mKeyError\u001b[0m                                  Traceback (most recent call last)",
      "\u001b[0;32m/tmp/ipykernel_22679/2003890881.py\u001b[0m in \u001b[0;36m<module>\u001b[0;34m\u001b[0m\n\u001b[0;32m----> 1\u001b[0;31m \u001b[0mF\u001b[0m\u001b[0;34m.\u001b[0m\u001b[0msigmoid\u001b[0m\u001b[0;34m(\u001b[0m\u001b[0mneg_graph\u001b[0m\u001b[0;34m.\u001b[0m\u001b[0medata\u001b[0m\u001b[0;34m[\u001b[0m\u001b[0;34m's'\u001b[0m\u001b[0;34m]\u001b[0m\u001b[0;34m)\u001b[0m\u001b[0;34m\u001b[0m\u001b[0;34m\u001b[0m\u001b[0m\n\u001b[0m",
      "\u001b[0;32m/data/zsj/miniconda3/lib/python3.7/site-packages/dgl/view.py\u001b[0m in \u001b[0;36m__getitem__\u001b[0;34m(self, key)\u001b[0m\n\u001b[1;32m    179\u001b[0m             \u001b[0;32mreturn\u001b[0m \u001b[0mret\u001b[0m\u001b[0;34m\u001b[0m\u001b[0;34m\u001b[0m\u001b[0m\n\u001b[1;32m    180\u001b[0m         \u001b[0;32melse\u001b[0m\u001b[0;34m:\u001b[0m\u001b[0;34m\u001b[0m\u001b[0;34m\u001b[0m\u001b[0m\n\u001b[0;32m--> 181\u001b[0;31m             \u001b[0;32mreturn\u001b[0m \u001b[0mself\u001b[0m\u001b[0;34m.\u001b[0m\u001b[0m_graph\u001b[0m\u001b[0;34m.\u001b[0m\u001b[0m_get_e_repr\u001b[0m\u001b[0;34m(\u001b[0m\u001b[0mself\u001b[0m\u001b[0;34m.\u001b[0m\u001b[0m_etid\u001b[0m\u001b[0;34m,\u001b[0m \u001b[0mself\u001b[0m\u001b[0;34m.\u001b[0m\u001b[0m_edges\u001b[0m\u001b[0;34m)\u001b[0m\u001b[0;34m[\u001b[0m\u001b[0mkey\u001b[0m\u001b[0;34m]\u001b[0m\u001b[0;34m\u001b[0m\u001b[0;34m\u001b[0m\u001b[0m\n\u001b[0m\u001b[1;32m    182\u001b[0m \u001b[0;34m\u001b[0m\u001b[0m\n\u001b[1;32m    183\u001b[0m     \u001b[0;32mdef\u001b[0m \u001b[0m__setitem__\u001b[0m\u001b[0;34m(\u001b[0m\u001b[0mself\u001b[0m\u001b[0;34m,\u001b[0m \u001b[0mkey\u001b[0m\u001b[0;34m,\u001b[0m \u001b[0mval\u001b[0m\u001b[0;34m)\u001b[0m\u001b[0;34m:\u001b[0m\u001b[0;34m\u001b[0m\u001b[0;34m\u001b[0m\u001b[0m\n",
      "\u001b[0;31mKeyError\u001b[0m: 's'"
     ]
    }
   ],
   "source": [
    "F.sigmoid(neg_graph.edata['s'])"
   ]
  },
  {
   "cell_type": "code",
   "execution_count": 139,
   "id": "621f04d6",
   "metadata": {
    "collapsed": true
   },
   "outputs": [
    {
     "data": {
      "text/plain": [
       "tensor([[0.3109],\n",
       "        [0.5944],\n",
       "        [0.2907],\n",
       "        [0.4834],\n",
       "        [0.5212],\n",
       "        [0.1901],\n",
       "        [0.3533],\n",
       "        [0.4460],\n",
       "        [0.4893],\n",
       "        [0.2998],\n",
       "        [0.3184],\n",
       "        [0.4980],\n",
       "        [0.5220],\n",
       "        [0.4429],\n",
       "        [0.2053],\n",
       "        [0.5119],\n",
       "        [0.5731],\n",
       "        [0.3242],\n",
       "        [0.2386],\n",
       "        [0.4776],\n",
       "        [0.2827],\n",
       "        [0.4197],\n",
       "        [0.3305],\n",
       "        [0.5345],\n",
       "        [0.5259],\n",
       "        [0.5659],\n",
       "        [0.3151],\n",
       "        [0.3576],\n",
       "        [0.3436],\n",
       "        [0.3791],\n",
       "        [0.3862],\n",
       "        [0.6288],\n",
       "        [0.4490],\n",
       "        [0.4226],\n",
       "        [0.2450],\n",
       "        [0.4893],\n",
       "        [0.3655],\n",
       "        [0.5076],\n",
       "        [0.5852],\n",
       "        [0.4007],\n",
       "        [0.3001],\n",
       "        [0.6301],\n",
       "        [0.2537],\n",
       "        [0.4710],\n",
       "        [0.3276],\n",
       "        [0.3844],\n",
       "        [0.2430],\n",
       "        [0.5160],\n",
       "        [0.4471],\n",
       "        [0.4815],\n",
       "        [0.5184],\n",
       "        [0.3033],\n",
       "        [0.5297],\n",
       "        [0.5968],\n",
       "        [0.3274],\n",
       "        [0.5028],\n",
       "        [0.3997],\n",
       "        [0.4293],\n",
       "        [0.3630],\n",
       "        [0.2182],\n",
       "        [0.6740],\n",
       "        [0.5032],\n",
       "        [0.4173],\n",
       "        [0.6008],\n",
       "        [0.4452],\n",
       "        [0.3401],\n",
       "        [0.3975],\n",
       "        [0.2992],\n",
       "        [0.4023],\n",
       "        [0.3261],\n",
       "        [0.3933],\n",
       "        [0.3537],\n",
       "        [0.7132],\n",
       "        [0.3979],\n",
       "        [0.6328],\n",
       "        [0.5084],\n",
       "        [0.4474],\n",
       "        [0.5471],\n",
       "        [0.3061],\n",
       "        [0.3832],\n",
       "        [0.3960],\n",
       "        [0.4982],\n",
       "        [0.4387],\n",
       "        [0.3948],\n",
       "        [0.3778],\n",
       "        [0.4963],\n",
       "        [0.3494],\n",
       "        [0.3158],\n",
       "        [0.5374],\n",
       "        [0.2321],\n",
       "        [0.5067],\n",
       "        [0.2226],\n",
       "        [0.5764],\n",
       "        [0.5436],\n",
       "        [0.4972],\n",
       "        [0.5764],\n",
       "        [0.4678],\n",
       "        [0.4444],\n",
       "        [0.4575],\n",
       "        [0.5727],\n",
       "        [0.2275],\n",
       "        [0.3487],\n",
       "        [0.4470],\n",
       "        [0.4086],\n",
       "        [0.5654],\n",
       "        [0.4563],\n",
       "        [0.5886],\n",
       "        [0.3596],\n",
       "        [0.4300],\n",
       "        [0.2045],\n",
       "        [0.2999],\n",
       "        [0.4144],\n",
       "        [0.5746],\n",
       "        [0.5109],\n",
       "        [0.4114],\n",
       "        [0.4783],\n",
       "        [0.5127],\n",
       "        [0.4808],\n",
       "        [0.5501],\n",
       "        [0.4513],\n",
       "        [0.5008],\n",
       "        [0.6095],\n",
       "        [0.2705],\n",
       "        [0.5254],\n",
       "        [0.5106],\n",
       "        [0.4849],\n",
       "        [0.5712],\n",
       "        [0.4842],\n",
       "        [0.6603],\n",
       "        [0.4579],\n",
       "        [0.2738],\n",
       "        [0.3306],\n",
       "        [0.5293],\n",
       "        [0.2030],\n",
       "        [0.5048],\n",
       "        [0.5005],\n",
       "        [0.4403],\n",
       "        [0.6023],\n",
       "        [0.4286],\n",
       "        [0.5865],\n",
       "        [0.4461],\n",
       "        [0.4513],\n",
       "        [0.4768],\n",
       "        [0.5212],\n",
       "        [0.4965],\n",
       "        [0.5989],\n",
       "        [0.2759],\n",
       "        [0.4623],\n",
       "        [0.2220],\n",
       "        [0.3841],\n",
       "        [0.4419],\n",
       "        [0.5495],\n",
       "        [0.2901],\n",
       "        [0.3050],\n",
       "        [0.5574],\n",
       "        [0.4661],\n",
       "        [0.3445],\n",
       "        [0.4498],\n",
       "        [0.3590],\n",
       "        [0.4647],\n",
       "        [0.4339],\n",
       "        [0.5442],\n",
       "        [0.4442],\n",
       "        [0.5939],\n",
       "        [0.3508],\n",
       "        [0.4506],\n",
       "        [0.5975],\n",
       "        [0.4534],\n",
       "        [0.6299],\n",
       "        [0.5840],\n",
       "        [0.3781],\n",
       "        [0.5345],\n",
       "        [0.5668],\n",
       "        [0.4110],\n",
       "        [0.4247],\n",
       "        [0.4684],\n",
       "        [0.5228],\n",
       "        [0.3830],\n",
       "        [0.4616],\n",
       "        [0.5520],\n",
       "        [0.5946],\n",
       "        [0.4699],\n",
       "        [0.3569],\n",
       "        [0.4564],\n",
       "        [0.5559],\n",
       "        [0.4225],\n",
       "        [0.6353],\n",
       "        [0.3495],\n",
       "        [0.3293],\n",
       "        [0.4058],\n",
       "        [0.4150],\n",
       "        [0.2890],\n",
       "        [0.2697],\n",
       "        [0.6132],\n",
       "        [0.3936],\n",
       "        [0.4173],\n",
       "        [0.5859],\n",
       "        [0.5116],\n",
       "        [0.3781],\n",
       "        [0.4176],\n",
       "        [0.3262],\n",
       "        [0.3287],\n",
       "        [0.4329],\n",
       "        [0.4026],\n",
       "        [0.3833],\n",
       "        [0.4304],\n",
       "        [0.6095],\n",
       "        [0.2531],\n",
       "        [0.3982],\n",
       "        [0.4671],\n",
       "        [0.6344],\n",
       "        [0.6713],\n",
       "        [0.2959],\n",
       "        [0.3309],\n",
       "        [0.3154],\n",
       "        [0.2015],\n",
       "        [0.4305],\n",
       "        [0.5722],\n",
       "        [0.4921],\n",
       "        [0.1509],\n",
       "        [0.4238],\n",
       "        [0.3586],\n",
       "        [0.3619],\n",
       "        [0.4403],\n",
       "        [0.5405],\n",
       "        [0.4440],\n",
       "        [0.4977],\n",
       "        [0.3713]], grad_fn=<GSDDMMBackward>)"
      ]
     },
     "execution_count": 139,
     "metadata": {},
     "output_type": "execute_result"
    }
   ],
   "source": [
    "pos_graph.edata['s']"
   ]
  },
  {
   "cell_type": "code",
   "execution_count": 136,
   "id": "f12f0f77",
   "metadata": {},
   "outputs": [],
   "source": [
    "pos_graph.apply_edges(_add_bias)"
   ]
  },
  {
   "cell_type": "code",
   "execution_count": 49,
   "id": "91ff09e3",
   "metadata": {
    "collapsed": true
   },
   "outputs": [
    {
     "ename": "KeyError",
     "evalue": "'s'",
     "output_type": "error",
     "traceback": [
      "\u001b[0;31m---------------------------------------------------------------------------\u001b[0m",
      "\u001b[0;31mKeyError\u001b[0m                                  Traceback (most recent call last)",
      "\u001b[0;32m/tmp/ipykernel_46942/1990437472.py\u001b[0m in \u001b[0;36m<module>\u001b[0;34m\u001b[0m\n\u001b[0;32m----> 1\u001b[0;31m \u001b[0mpos_graph\u001b[0m\u001b[0;34m.\u001b[0m\u001b[0medata\u001b[0m\u001b[0;34m[\u001b[0m\u001b[0;34m's'\u001b[0m\u001b[0;34m]\u001b[0m\u001b[0;34m\u001b[0m\u001b[0;34m\u001b[0m\u001b[0m\n\u001b[0m",
      "\u001b[0;32m/data/zsj/miniconda3/lib/python3.7/site-packages/dgl/view.py\u001b[0m in \u001b[0;36m__getitem__\u001b[0;34m(self, key)\u001b[0m\n\u001b[1;32m    179\u001b[0m             \u001b[0;32mreturn\u001b[0m \u001b[0mret\u001b[0m\u001b[0;34m\u001b[0m\u001b[0;34m\u001b[0m\u001b[0m\n\u001b[1;32m    180\u001b[0m         \u001b[0;32melse\u001b[0m\u001b[0;34m:\u001b[0m\u001b[0;34m\u001b[0m\u001b[0;34m\u001b[0m\u001b[0m\n\u001b[0;32m--> 181\u001b[0;31m             \u001b[0;32mreturn\u001b[0m \u001b[0mself\u001b[0m\u001b[0;34m.\u001b[0m\u001b[0m_graph\u001b[0m\u001b[0;34m.\u001b[0m\u001b[0m_get_e_repr\u001b[0m\u001b[0;34m(\u001b[0m\u001b[0mself\u001b[0m\u001b[0;34m.\u001b[0m\u001b[0m_etid\u001b[0m\u001b[0;34m,\u001b[0m \u001b[0mself\u001b[0m\u001b[0;34m.\u001b[0m\u001b[0m_edges\u001b[0m\u001b[0;34m)\u001b[0m\u001b[0;34m[\u001b[0m\u001b[0mkey\u001b[0m\u001b[0;34m]\u001b[0m\u001b[0;34m\u001b[0m\u001b[0;34m\u001b[0m\u001b[0m\n\u001b[0m\u001b[1;32m    182\u001b[0m \u001b[0;34m\u001b[0m\u001b[0m\n\u001b[1;32m    183\u001b[0m     \u001b[0;32mdef\u001b[0m \u001b[0m__setitem__\u001b[0m\u001b[0;34m(\u001b[0m\u001b[0mself\u001b[0m\u001b[0;34m,\u001b[0m \u001b[0mkey\u001b[0m\u001b[0;34m,\u001b[0m \u001b[0mval\u001b[0m\u001b[0;34m)\u001b[0m\u001b[0;34m:\u001b[0m\u001b[0;34m\u001b[0m\u001b[0;34m\u001b[0m\u001b[0m\n",
      "\u001b[0;31mKeyError\u001b[0m: 's'"
     ]
    }
   ],
   "source": [
    "pos_graph.edata['s']"
   ]
  },
  {
   "cell_type": "code",
   "execution_count": null,
   "id": "0b7b1595",
   "metadata": {},
   "outputs": [],
   "source": [
    "def inference(self, g, x, batch_size, device):\n",
    "        # inference 用于评估测试，针对的是完全图\n",
    "        # 目前会出现重复计算的问题，优化方案还在 to do list 上\n",
    "        nodes = th.arange(g.number_of_nodes())\n",
    "        for l, layer in enumerate(self.layers):\n",
    "            y = th.zeros(g.number_of_nodes(),\n",
    "                         self.n_hidden if l != len(self.layers) - 1 else self.n_classes)\n",
    "            for start in trange(0, len(nodes), batch_size):\n",
    "                end = start + batch_size\n",
    "                batch_nodes = nodes[start:end]\n",
    "                block = dgl.to_block(dgl.in_subgraph(g, batch_nodes), batch_nodes)\n",
    "                input_nodes = block.srcdata[dgl.NID]\n",
    "                h = th.Tensor(x[input_nodes]).to(device)\n",
    "                h_dst = h[:block.number_of_dst_nodes()]\n",
    "                h = layer(block, (h, h_dst))\n",
    "                if l != len(self.layers) - 1:\n",
    "                    h = self.activation(h)\n",
    "                    h = self.dropout(h)\n",
    "                y[start:end] = h.cpu()\n",
    "            x = y\n",
    "        return y"
   ]
  },
  {
   "cell_type": "code",
   "execution_count": null,
   "id": "e6085bae",
   "metadata": {},
   "outputs": [],
   "source": []
  },
  {
   "cell_type": "code",
   "execution_count": 9,
   "id": "ca0e18ff",
   "metadata": {},
   "outputs": [],
   "source": [
    "aaa = \"[10510364 10683295 12324075 12751059 12824074 3036238 6663520 7054128 8122430 8313001 9755885 9875552 10461616 10970660 11847996 12633224 12652155 12811847 12961523 12991779 13148093 13252032 1929817 6703929 10103217 10257620 11168769 11709600 11943315 1219460 12888389 12905923 13034053 6617552 7193357 9109540 10823778 11481036 11693452 13258460 1384121 344112 3702627 7365852 8158483 9294903 9374388 9599382 10258772 10964543 12221549 12353800 12409283 12924238 13211957 13269124 2773999 4764361 7380230 7550438 10006703 10178340 11138365 13200619 13223161 13258853 6681383 7437465 7849623 7978467 8634905 8643650 10838587 12259280 13186562 13204223 13214053 3183824 320657 51088 6720436 6829412 7604383 8168494 10649580 11541705 11676443 12078797 12568396 12636786 13163307 6525561 7169176 7849524 8428988 8905661 10400225 10759384 10766228 10909283 11444823 12323401 12618467 12902167 3307927 6390569 8068041 873704 10949771 11200796 11444374 12421854 13065872 13267721 2152 7603107 8875682 9096343 9636988 9691375 10697127 11130229 11474470 11703339 2872637 6440919 6971122 7596915 8175916 8666386 9326892 9652983]\""
   ]
  },
  {
   "cell_type": "code",
   "execution_count": 10,
   "id": "9ee8e391",
   "metadata": {},
   "outputs": [
    {
     "data": {
      "text/plain": [
       "132"
      ]
     },
     "execution_count": 10,
     "metadata": {},
     "output_type": "execute_result"
    }
   ],
   "source": [
    "len(aaa.split())"
   ]
  },
  {
   "cell_type": "code",
   "execution_count": 11,
   "id": "d9a822a1",
   "metadata": {},
   "outputs": [
    {
     "data": {
      "text/plain": [
       "11.0"
      ]
     },
     "execution_count": 11,
     "metadata": {},
     "output_type": "execute_result"
    }
   ],
   "source": [
    "132/12"
   ]
  },
  {
   "cell_type": "code",
   "execution_count": null,
   "id": "9ad472b1",
   "metadata": {},
   "outputs": [],
   "source": []
  }
 ],
 "metadata": {
  "kernelspec": {
   "display_name": "Python 3 (ipykernel)",
   "language": "python",
   "name": "python3"
  },
  "language_info": {
   "codemirror_mode": {
    "name": "ipython",
    "version": 3
   },
   "file_extension": ".py",
   "mimetype": "text/x-python",
   "name": "python",
   "nbconvert_exporter": "python",
   "pygments_lexer": "ipython3",
   "version": "3.7.7"
  }
 },
 "nbformat": 4,
 "nbformat_minor": 5
}
